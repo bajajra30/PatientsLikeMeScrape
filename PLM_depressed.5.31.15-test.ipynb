{
 "metadata": {
  "name": "",
  "signature": "sha256:f9429a3de1fbcc0f1f350e97368bc809b571426279b1c2c877b11176e943b8d2"
 },
 "nbformat": 3,
 "nbformat_minor": 0,
 "worksheets": [
  {
   "cells": [
    {
     "cell_type": "code",
     "collapsed": false,
     "input": [
      "import datetime\n",
      "from selenium import webdriver\n",
      "from selenium.webdriver.support.ui import WebDriverWait\n",
      "from selenium.webdriver.support import expected_conditions as EC\n",
      "from selenium.common.exceptions import TimeoutException\n",
      "from selenium.webdriver.common.by import By\n",
      "import os\n",
      "import re\n",
      "import pandas as pd\n",
      "import time\n",
      "import random"
     ],
     "language": "python",
     "metadata": {},
     "outputs": [],
     "prompt_number": 1
    },
    {
     "cell_type": "code",
     "collapsed": false,
     "input": [
      "chromedriver = '/Users/tjyacoub/Downloads/chromedriver'\n",
      "os.environ[\"webdriver.chrome.driver\"] = chromedriver"
     ],
     "language": "python",
     "metadata": {},
     "outputs": [],
     "prompt_number": 2
    },
    {
     "cell_type": "code",
     "collapsed": false,
     "input": [
      "driver = webdriver.Chrome(chromedriver)"
     ],
     "language": "python",
     "metadata": {},
     "outputs": [],
     "prompt_number": 3
    },
    {
     "cell_type": "code",
     "collapsed": false,
     "input": [
      "driver.get('http://www.patientslikeme.com/login')"
     ],
     "language": "python",
     "metadata": {},
     "outputs": [],
     "prompt_number": 4
    },
    {
     "cell_type": "code",
     "collapsed": false,
     "input": [
      "xpaths = {'login':'//*[@id=\"userlogin_login\"]', 'password':'//*[@id=\"userlogin_password\"]', 'submit':'//*[@id=\"frm-login-only\"]/div/input'}\n",
      "username = 'testpatient1986'\n",
      "password = 'patientspassword'"
     ],
     "language": "python",
     "metadata": {},
     "outputs": [],
     "prompt_number": 462
    },
    {
     "cell_type": "code",
     "collapsed": false,
     "input": [
      "monthDict = {'Jan':1, 'Feb':2, 'Mar':3, 'Apr':4, 'May':5, 'Jun':6, 'Jul':7, 'Aug':8, 'Sep':9, 'Oct':10, 'Nov':11, 'Dec':12}"
     ],
     "language": "python",
     "metadata": {},
     "outputs": [],
     "prompt_number": 4
    },
    {
     "cell_type": "code",
     "collapsed": false,
     "input": [
      "def click(xpath):\n",
      "    driver.find_element_by_xpath(xpath).click()\n",
      "    \n",
      "def send(xpath, string):\n",
      "    driver.find_element_by_xpath(xpath).send_keys(string)\n",
      "    \n",
      "def get_text(xpath):\n",
      "    return driver.find_element_by_xpath(xpath).text\n",
      "\n",
      "def sleep():\n",
      "    seconds = 4 + random.random() * 3\n",
      "    time.sleep(seconds)\n",
      "    \n",
      "def ifint(s):\n",
      "    try: \n",
      "        int(s)\n",
      "        return True\n",
      "    except ValueError:\n",
      "        return False"
     ],
     "language": "python",
     "metadata": {},
     "outputs": [],
     "prompt_number": 10
    },
    {
     "cell_type": "code",
     "collapsed": false,
     "input": [
      "sleep()"
     ],
     "language": "python",
     "metadata": {},
     "outputs": [],
     "prompt_number": 411
    },
    {
     "cell_type": "code",
     "collapsed": false,
     "input": [
      "driver.find_element_by_xpath(xpaths['login']).clear()\n",
      "#Write Username in Username TextBox\n",
      "driver.find_element_by_xpath(xpaths['login']).send_keys(username)\n",
      "#Clear Password TextBox if already allowed \"Remember Me\" \n",
      "driver.find_element_by_xpath(xpaths['password']).clear()\n",
      "\n",
      "#Write Password in password TextBox\n",
      "driver.find_element_by_xpath(xpaths['password']).send_keys(password)\n",
      "\n",
      "#Click Login button\n",
      "driver.find_element_by_xpath(xpaths['submit']).click()"
     ],
     "language": "python",
     "metadata": {},
     "outputs": [],
     "prompt_number": 463
    },
    {
     "cell_type": "code",
     "collapsed": false,
     "input": [
      "driver.get('https://www.patientslikeme.com/symptoms')"
     ],
     "language": "python",
     "metadata": {},
     "outputs": [],
     "prompt_number": 6
    },
    {
     "cell_type": "code",
     "collapsed": false,
     "input": [
      "# Go to 'Depressed Mood' symptom\n",
      "driver.get('https://www.patientslikeme.com/symptoms/show/3-depressed-mood')"
     ],
     "language": "python",
     "metadata": {},
     "outputs": [],
     "prompt_number": 6
    },
    {
     "cell_type": "code",
     "collapsed": false,
     "input": [
      "# Click filter menu\n",
      "click('//*[@id=\"condition-filter\"]/div/a')\n",
      "\n",
      "# Remove bipolar filter\n",
      "click('//*[@id=\"condition-filter-menu\"]/li[1]/a')\n",
      "\n",
      "# Go to 'depressed mood'\n",
      "click('//*[@id=\"pg-index\"]/div[3]/div[2]/div[2]/div[2]/div[1]/div[2]/div[3]/div[1]/h3/a')"
     ],
     "language": "python",
     "metadata": {},
     "outputs": [],
     "prompt_number": 8
    },
    {
     "cell_type": "code",
     "collapsed": false,
     "input": [
      "# Get last login from patient summary page\n",
      "def get_id():\n",
      "    url = driver.current_url\n",
      "    #print url\n",
      "    numbers = re.findall(r'(\\d+)', str(url))\n",
      "    return int(numbers[0])\n",
      "    \n",
      "def get_login():\n",
      "    id_num = get_id()\n",
      "    #path = '//*[@id=\"other-conditions-' + str(id_num) + '\"]/div/div[1]/div[3]'\n",
      "    path = '//div[@class=\"helptext\"]'\n",
      "    text = driver.find_element_by_xpath(path).text\n",
      "    #print text\n",
      "    last_login_month = monthDict[str(text[38:41])]\n",
      "    last_login_year = int(text[46:51])\n",
      "    return last_login_month, last_login_year\n"
     ],
     "language": "python",
     "metadata": {},
     "outputs": [],
     "prompt_number": 5
    },
    {
     "cell_type": "code",
     "collapsed": false,
     "input": [
      "# Go through drugs\n",
      "\n",
      "def cycle_drugs():\n",
      "    \n",
      "    \n",
      "    num_drugs = 5\n",
      "    for i in range(1, num_drugs+1):\n",
      "        driver.get('https://www.patientslikeme.com/symptoms/show/3-depressed-mood?page=1')\n",
      "        sleep()\n",
      "        # Get drug name\n",
      "        drug_name_path = '//*[@id=\"pg-show\"]/div[3]/div[2]/div[2]/div[2]/div[1]/div[4]/table/tbody/tr[' + str(i) + ']/th/span/a'\n",
      "        drug_name = get_text(drug_name_path)\n",
      "        print drug_name\n",
      "        if drug_name in generic_to_brand_Dict:\n",
      "            drug_name = generic_to_brand_Dict[drug_name]\n",
      "        \n",
      "        # Go to patients taking drug 'i'\n",
      "        patients_list_path = '//*[@id=\"pg-show\"]/div[3]/div[2]/div[2]/div[2]/div[1]/div[4]/table/tbody/tr[' + str(i) + ']/td[1]/a'\n",
      "        click(patients_list_path)\n",
      "        sleep()\n",
      "        \n",
      "        # Get number of patients taking drug 'i'\n",
      "        num_patients_path = '//*[@id=\"pg-treatment\"]/div[3]/div[2]/div/div[2]/p/b'\n",
      "        num_patients_text = get_text(num_patients_path)\n",
      "        num_patients = int(num_patients_text.split()[-1].replace(',',''))\n",
      "        #print num_patients\n",
      "        \n",
      "        # Number of pages with patients taking drug 'i'\n",
      "        patients_per_page = int(num_patients_text.split()[2])\n",
      "        num_pages = int(num_patients/patients_per_page) \n",
      "        if num_patients%patients_per_page != 0: \n",
      "            num_pages += 1\n",
      "        \n",
      "        ## FOR TESTING\n",
      "        num_pages = 3\n",
      "        patients_per_page = 2\n",
      "        \n",
      "        for page_rank in range(num_pages):\n",
      "            \n",
      "            for patient_rank in range(1, patients_per_page + 1):\n",
      "                \n",
      "                # Get patient name\n",
      "                patient_name_path = '//*[@id=\"pg-treatment\"]/div[3]/div[2]/div/div[3]/div/div[2]/div[' + str(patient_rank) + ']/div[1]/div[2]/div[3]/div/a'\n",
      "                #print patient_name_path\n",
      "                #patient_name = get_text(patient_name_path)\n",
      "                #print patient_name\n",
      "                \n",
      "                # Get id\n",
      "                wait(patient_name_path)\n",
      "                try:\n",
      "                    link = driver.find_element_by_xpath(patient_name_path)\n",
      "                    url = link.get_attribute(\"href\")\n",
      "                    nums = re.findall(r'(\\d+)', str(url))\n",
      "                    patient_id = int(nums[0])\n",
      "                    print \"patient_id\", patient_id\n",
      "                \n",
      "                    click(patient_name_path)\n",
      "                    sleep()\n",
      "                \n",
      "                    if patient_id not in data:\n",
      "                        print \"NEW PATIENT id\", patient_id\n",
      "                    \n",
      "                        data[patient_id] = {}\n",
      "                        data[patient_id][drug_name] = {}\n",
      "                        print \"data\", data\n",
      "                        try:\n",
      "                            get_patient_info(patient_id, drug_name)\n",
      "                        except:\n",
      "                            \"Error: Did not get patient info (1)\"\n",
      "                        \n",
      "                    elif drug_name not in data[patient_id]:\n",
      "                        print \"NEW DRUG patient\", patient_id, \"drug\", drug_name\n",
      "                        print \"data\", data\n",
      "                        data[patient_id][drug_name] = {}\n",
      "                    \n",
      "                        try:\n",
      "                            get_patient_info(patient_id, drug_name)\n",
      "                        except:\n",
      "                            \"Error: Did not get patient info (2)\"\n",
      "                    \n",
      "                    #driver.back()\n",
      "                    #else:\n",
      "                        #print data\n",
      "                        #print \"patient\", patient_name, \"already has a profile for \", drug_name\n",
      "                        # Back to patients list\n",
      "                        #driver.back()\n",
      "            \n",
      "                # Go back to patients list page\n",
      "                    driver.back()\n",
      "                    sleep()\n",
      "                except:\n",
      "                    print \"Error: unable to get patient info\"\n",
      "                \n",
      "            # Go to next page\n",
      "            try:\n",
      "                next_path = '//*[@id=\"pg-treatment\"]/div[3]/div[2]/div/div[2]/div[2]/div[2]/div/a[5]/span'\n",
      "                wait(next_path)\n",
      "                click(next_path)\n",
      "                sleep()\n",
      "            except:\n",
      "                print \"Error: could not go to next set of patients\""
     ],
     "language": "python",
     "metadata": {},
     "outputs": [],
     "prompt_number": 69
    },
    {
     "cell_type": "code",
     "collapsed": false,
     "input": [
      "next_path = '//*[@id=\"pg-treatment\"]/div[3]/div[2]/div/div[2]/div[2]/div[2]/div/a[5]/span'\n",
      "wait(next_path)\n",
      "click(next_path)"
     ],
     "language": "python",
     "metadata": {},
     "outputs": [],
     "prompt_number": 46
    },
    {
     "cell_type": "code",
     "collapsed": false,
     "input": [
      "def wait(xpath):\n",
      "    delay = 20\n",
      "    try:\n",
      "        WebDriverWait(driver, delay).until(EC.presence_of_element_located((By.XPATH,xpath)))\n",
      "        \n",
      "    except TimeoutException:\n",
      "        print \"took too much time\""
     ],
     "language": "python",
     "metadata": {},
     "outputs": [],
     "prompt_number": 47
    },
    {
     "cell_type": "code",
     "collapsed": false,
     "input": [
      "generic_to_brand_Dict = {'Sertraline':'Zoloft',\n",
      "                        'Duloxetine':'Cymbalta',\n",
      "                        'Escitalopram':'Lexapro',\n",
      "                        'Citalopram':'Celexa',\n",
      "                        'Fluoxetine':'Prozac',\n",
      "                        'Venlafaxine':'Effexor',\n",
      "                        'Bupropion':'Wellbutrin',\n",
      "                        'Paroxetine':'Paxil',\n",
      "                        'Aripiprazole':'Abilify',\n",
      "                        'Mirtazapine':'Remeron',\n",
      "                        'Desvenlafaxine':'Pristiq',\n",
      "                        'Trazadone':'Oleptro',\n",
      "                        'Nortriptyline':'Pamelor',\n",
      "                        'Lamotrigine':'Lamictal',\n",
      "                        'Milnacipran':'Savella',\n",
      "                        'Pregabalin':'Lyrica',\n",
      "                        'Amitriptyline':'Elavil',\n",
      "                        'Buspirone':'Buspar',\n",
      "                        'Imipramine': 'Tofranil',\n",
      "                        'Budeprion':'Wellbutrin'}\n",
      "            \n",
      "brand_to_generic_Dict = {v: k for k, v in generic_to_brand_Dict.items()}\n",
      "#drug_Dict = generic_to_brand_Dict\n",
      "#drug_Dict.update(brand_to_generic_Dict)\n"
     ],
     "language": "python",
     "metadata": {},
     "outputs": [],
     "prompt_number": 48
    },
    {
     "cell_type": "code",
     "collapsed": false,
     "input": [
      "def get_patient_info(patient_id, drug_name):\n",
      "    print \"In patient info function\"\n",
      "    # Select all treatments\n",
      "    \n",
      "    # Get more info on patient summary\n",
      "    xpath = '//*[contains(text(), \"See more\")]' \n",
      "    click(xpath)\n",
      "    sleep()\n",
      "    #click('//*[@id=\"content-body\"]/div[1]/a')\n",
      "    \n",
      "    # Extract login details\n",
      "    try:\n",
      "        path = '//div[@class=\"helptext\"]'\n",
      "        text = driver.find_element_by_xpath(path).text\n",
      "        last_login_month = monthDict[str(text[38:41])]\n",
      "        last_login_year = int(text[46:51])\n",
      "        print last_login_month, last_login_year, \"last month, last year\"\n",
      "    except:\n",
      "        print \"Error: couldn't get login info\"\n",
      "        \n",
      "    #Click on treatments menu\n",
      "    try:\n",
      "        xpath = '//*[@id=\"treatments\"]/td/div/span[2]'\n",
      "        wait(xpath)\n",
      "        click('//*[@id=\"treatments\"]/td/div/a')\n",
      "        sleep()\n",
      "    except:\n",
      "        print \"Error: could not click on treatments menu\"\n",
      "    \n",
      "    \n",
      "    try:\n",
      "        elem_list = driver.find_elements_by_xpath('//*[@id=\"tx-chart-popup\"]/li')\n",
      "        num_symptoms = len(elem_list)\n",
      "        print \"num symptoms\", num_symptoms\n",
      "    except:\n",
      "        print \"Error: could not get number of symptoms\"\n",
      "        \n",
      "    try:\n",
      "        xpath = '//*[@id=\"tx-chart-popup\"]/li[' + str(num_symptoms) + ']/a'\n",
      "        wait(xpath)\n",
      "        click(xpath)  \n",
      "        sleep()\n",
      "        print \"Success, 'All Symptoms' clicked\"\n",
      "    except:\n",
      "        print \"Error: could not click on All Symptoms\"\n",
      "    # Go to patient history of drug\n",
      "    \n",
      "    #xpath = '//*[contains(text(), \"' + drug_name + '\")]'\n",
      "    \n",
      "    \n",
      "    try:\n",
      "        xpath = '//*[contains(text(), \"' + drug_name + '\")]'\n",
      "        #go_to_drug_history(xpath, 'Sertraline')\n",
      "        click(xpath)\n",
      "        sleep()\n",
      "        print \"Success: Gone to drug page (Brand name found)\"\n",
      "    except:\n",
      "        print \"Drug\", drug_name, \"not found, trying generic\"\n",
      "        try:\n",
      "            temp_drug_name = brand_to_generic_Dict[drug_name]\n",
      "            xpath = '//*[contains(text(), \"' + temp_drug_name + '\")]'\n",
      "            click(xpath)\n",
      "            sleep()\n",
      "            #go_to_drug_history(xpath, 'Zoloft')\n",
      "            print \"Success: Generic drug\", temp_drug_name, \"found\"\n",
      "        except:\n",
      "            print \"Error: Drug page not found\"\n",
      "    \n",
      "    #wait(xpath)\n",
      "    #click(xpath)\n",
      "    \n",
      "    # Get duration, final dose of treatment\n",
      "    try:\n",
      "        total_duration, final_dose = get_duration_dose(last_login_month, last_login_year)\n",
      "    except:\n",
      "        print \"Error: could not get duration and dose\"\n",
      "        \n",
      "    # Get drug evaluation data\n",
      "    try:\n",
      "        efficacy, side_effects, adherence = get_review()\n",
      "    except:\n",
      "        print \"Error: could not get efficacy\"\n",
      "    # Store data\n",
      "\n",
      "    #data[patient_id][drug_name] = {}\n",
      "    #print data\n",
      "    try:\n",
      "        data[patient_id][drug_name]['total_duration'] = total_duration\n",
      "        data[patient_id][drug_name]['final_dose'] = final_dose\n",
      "        data[patient_id][drug_name]['efficacy'] = efficacy\n",
      "        data[patient_id][drug_name]['side_effects'] = side_effects\n",
      "        data[patient_id][drug_name]['adherence'] = adherence\n",
      "    except:\n",
      "        print \"Error: could not update data\"\n",
      "        \n",
      "    print data\n",
      "    \n",
      "    # Go back to patient summary\n",
      "    driver.back()\n",
      "    sleep()"
     ],
     "language": "python",
     "metadata": {},
     "outputs": [],
     "prompt_number": 65
    },
    {
     "cell_type": "code",
     "collapsed": false,
     "input": [
      "def get_review():\n",
      "    try: \n",
      "        rating_text = driver.find_element_by_xpath('//*[@id=\"evaluation-group\"]/div/div[1]/div/div[1]/ul').text\n",
      "        side_effects = re.search(\"Effects: (\\w+)\", rating_text).group(1)\n",
      "        ## Efficacy for depressed mood only!!!\n",
      "        efficacy = re.search(\"mood: (\\w+)\", rating_text).group(1)\n",
      "        adherence = re.search(\"Adherence: (\\w+)\", rating_text).group(1)\n",
      "    except:\n",
      "        efficacy = 'NaN'\n",
      "        side_effects = 'NaN'\n",
      "        adherence = 'NaN'\n",
      "    return efficacy, side_effects, adherence"
     ],
     "language": "python",
     "metadata": {},
     "outputs": [],
     "prompt_number": 50
    },
    {
     "cell_type": "code",
     "collapsed": false,
     "input": [
      "def get_duration_dose(last_login_month, last_login_year):\n",
      "    \n",
      "    # Get dosage informations\n",
      "    sleep()\n",
      "    text = driver.find_element_by_id('dosage').text\n",
      "    durations = text.split('\\n')\n",
      "    total_duration = 0\n",
      "    #print durations\n",
      "    for duration in durations:\n",
      "        dur_split = duration.split()\n",
      "        \n",
      "        # Get daily dose\n",
      "        dose_num = float(dur_split[0])\n",
      "        measure = str(dur_split[1])\n",
      "        if measure.lower == 'tablet':\n",
      "            dose_num = 'NaN'\n",
      "        if \"twice\" in dur_split: dose_num = dose_num * 2\n",
      "        if \"three\" in dur_split: dose_num = dose_num * 3\n",
      "        if \"four\" in dur_split: dose_num = dose_num * 4\n",
      "            \n",
      "        for c in range(len(dur_split)):\n",
      "            if dur_split[c] in monthDict:\n",
      "                year1 = 0\n",
      "                year2 = 0\n",
      "                month1 = monthDict[dur_split[c]]\n",
      "                \n",
      "                # if span is less than a month, c+3 will be an integer\n",
      "                \n",
      "                #[u'20', u'mg', u'Daily', u'Jul', u'01', u'-', u'01,', u'2003']\n",
      "                print dur_split, dur_split[c]\n",
      "                \n",
      "                month_plus_three = dur_split[c+3]\n",
      "                #try:\n",
      "                #    x = dur_split[c+3]\n",
      "                #    y = x[0]\n",
      "                #except:\n",
      "                #    x = dur_split[c+3]\n",
      "                \n",
      "                if ifint(month_plus_three[0]):\n",
      "                    print \"it's an int, span is less than one month\"\n",
      "                    month2 = month1\n",
      "                    c = len(dur_split)\n",
      "                   \n",
      "                    \n",
      "                # if year < span < month, c+3 will be another month\n",
      "                elif month_plus_three in monthDict:\n",
      "                    print \"span is between a month and a year\"\n",
      "                    month2 = monthDict[month_plus_three]\n",
      "                    c = len(dur_split)\n",
      "                   # print dur_split, month1, month2, year1, year2#\n",
      "                    \n",
      "                # if  spans current, c+4 will be Last\n",
      "                elif dur_split[c+4] == 'Last':\n",
      "                    print \"span is current\"\n",
      "                    year1 = int(dur_split[c+2])\n",
      "                    month2 = last_login_month\n",
      "                    year2 = last_login_year\n",
      "                    c = len(dur_split)\n",
      "                   # print dur_split, month1, month2, year1, year2\n",
      "                    \n",
      "                # if  span > year but not current \n",
      "                elif dur_split[c+4] != 'Last':\n",
      "                   # print \"span > year not current\"\n",
      "                    year1 = int(dur_split[c+2])\n",
      "                    month2 = monthDict[dur_split[c+4]]\n",
      "                    year2 = int(dur_split[c+6])\n",
      "                    c = len(dur_split)                    \n",
      "                   # print dur_split, month1, month2, year1, year2\n",
      "                    break\n",
      "                \n",
      "                else:\n",
      "                    print \"Time period not found\"\n",
      "\n",
      "        print dur_split, month1, month2, year1, year2\n",
      "        temp_duration = (year2 - year1) * 12 - month1 + month2\n",
      "        total_duration += temp_duration\n",
      "   # print \"total_duration, dose\", total_duration, dose_num\n",
      "    return total_duration, dose_num\n",
      "#get_efficacy()"
     ],
     "language": "python",
     "metadata": {},
     "outputs": [],
     "prompt_number": 64
    },
    {
     "cell_type": "code",
     "collapsed": false,
     "input": [
      "data = {}\n",
      "cycle_drugs()"
     ],
     "language": "python",
     "metadata": {},
     "outputs": [
      {
       "output_type": "stream",
       "stream": "stdout",
       "text": [
        "Cymbalta\n",
        "patient_id"
       ]
      },
      {
       "output_type": "stream",
       "stream": "stdout",
       "text": [
        " 239339\n",
        "NEW PATIENT id"
       ]
      },
      {
       "output_type": "stream",
       "stream": "stdout",
       "text": [
        " 239339\n",
        "data {239339: {u'Cymbalta': {}}}\n",
        "In patient info function\n",
        "6"
       ]
      },
      {
       "output_type": "stream",
       "stream": "stdout",
       "text": [
        " 2015 last month, last year\n",
        "num symptoms"
       ]
      },
      {
       "output_type": "stream",
       "stream": "stdout",
       "text": [
        " 37\n",
        "Success, 'All Symptoms' clicked"
       ]
      },
      {
       "output_type": "stream",
       "stream": "stdout",
       "text": [
        "\n",
        "Success: Gone to drug page (Brand name found)"
       ]
      },
      {
       "output_type": "stream",
       "stream": "stdout",
       "text": [
        "\n",
        "[u'60', u'mg', u'Daily', u'Feb', u'20,', u'2009', u'-', u'Aug', u'01,', u'2013']"
       ]
      },
      {
       "output_type": "stream",
       "stream": "stdout",
       "text": [
        " Feb\n",
        "[u'60', u'mg', u'Daily', u'Feb', u'20,', u'2009', u'-', u'Aug', u'01,', u'2013'] 2 8 2009 2013\n",
        "[u'60', u'mg', u'Daily', u'Mar', u'03,', u'2014', u'-', u'Last', u'Update'] Mar\n",
        "span is current\n",
        "[u'60', u'mg', u'Daily', u'Mar', u'03,', u'2014', u'-', u'Last', u'Update'] 3 6 2014 2015\n",
        "{239339: {u'Cymbalta': {'adherence': u'Always', 'final_dose': 60.0, 'side_effects': u'Moderate', 'efficacy': u'Moderate', 'total_duration': 69}}}\n",
        "patient_id"
       ]
      },
      {
       "output_type": "stream",
       "stream": "stdout",
       "text": [
        " 76088\n",
        "NEW PATIENT id"
       ]
      },
      {
       "output_type": "stream",
       "stream": "stdout",
       "text": [
        " 76088\n",
        "data {76088: {u'Cymbalta': {}}, 239339: {u'Cymbalta': {'adherence': u'Always', 'final_dose': 60.0, 'side_effects': u'Moderate', 'efficacy': u'Moderate', 'total_duration': 69}}}\n",
        "In patient info function\n",
        "6"
       ]
      },
      {
       "output_type": "stream",
       "stream": "stdout",
       "text": [
        " 2015 last month, last year\n",
        "num symptoms"
       ]
      },
      {
       "output_type": "stream",
       "stream": "stdout",
       "text": [
        " 30\n",
        "Success, 'All Symptoms' clicked"
       ]
      },
      {
       "output_type": "stream",
       "stream": "stdout",
       "text": [
        "\n",
        "Success: Gone to drug page (Brand name found)"
       ]
      },
      {
       "output_type": "stream",
       "stream": "stdout",
       "text": [
        "\n",
        "[u'60', u'mg', u'Daily', u'Jul', u'15,', u'2002', u'-', u'Last', u'Update']"
       ]
      },
      {
       "output_type": "stream",
       "stream": "stdout",
       "text": [
        " Jul\n",
        "span is current\n",
        "[u'60', u'mg', u'Daily', u'Jul', u'15,', u'2002', u'-', u'Last', u'Update'] 7 6 2002 2015\n",
        "{76088: {u'Cymbalta': {'adherence': u'Always', 'final_dose': 60.0, 'side_effects': u'None', 'efficacy': u'Moderate', 'total_duration': 155}}, 239339: {u'Cymbalta': {'adherence': u'Always', 'final_dose': 60.0, 'side_effects': u'Moderate', 'efficacy': u'Moderate', 'total_duration': 69}}}\n",
        "patient_id"
       ]
      },
      {
       "output_type": "stream",
       "stream": "stdout",
       "text": [
        " 164112\n",
        "NEW PATIENT id"
       ]
      },
      {
       "output_type": "stream",
       "stream": "stdout",
       "text": [
        " 164112\n",
        "data {76088: {u'Cymbalta': {'adherence': u'Always', 'final_dose': 60.0, 'side_effects': u'None', 'efficacy': u'Moderate', 'total_duration': 155}}, 164112: {u'Cymbalta': {}}, 239339: {u'Cymbalta': {'adherence': u'Always', 'final_dose': 60.0, 'side_effects': u'Moderate', 'efficacy': u'Moderate', 'total_duration': 69}}}\n",
        "In patient info function\n",
        "3"
       ]
      },
      {
       "output_type": "stream",
       "stream": "stdout",
       "text": [
        " 2015 last month, last year\n",
        "num symptoms"
       ]
      },
      {
       "output_type": "stream",
       "stream": "stdout",
       "text": [
        " 6\n",
        "Success, 'All Symptoms' clicked"
       ]
      },
      {
       "output_type": "stream",
       "stream": "stdout",
       "text": [
        "\n",
        "Success: Gone to drug page (Brand name found)"
       ]
      },
      {
       "output_type": "stream",
       "stream": "stdout",
       "text": [
        "\n",
        "[u'60', u'mg', u'Daily', u'Dec', u'22,', u'2011', u'-', u'Jun', u'30,', u'2012']"
       ]
      },
      {
       "output_type": "stream",
       "stream": "stdout",
       "text": [
        " Dec\n",
        "[u'60', u'mg', u'Daily', u'Dec', u'22,', u'2011', u'-', u'Jun', u'30,', u'2012'] 12 6 2011 2012\n",
        "[u'90', u'mg', u'Daily', u'Jun', u'30,', u'2012', u'-', u'Last', u'Update'] Jun\n",
        "span is current\n",
        "[u'90', u'mg', u'Daily', u'Jun', u'30,', u'2012', u'-', u'Last', u'Update'] 6 3 2012 2015\n",
        "{76088: {u'Cymbalta': {'adherence': u'Always', 'final_dose': 60.0, 'side_effects': u'None', 'efficacy': u'Moderate', 'total_duration': 155}}, 164112: {u'Cymbalta': {'adherence': 'NaN', 'final_dose': 90.0, 'side_effects': 'NaN', 'efficacy': 'NaN', 'total_duration': 39}}, 239339: {u'Cymbalta': {'adherence': u'Always', 'final_dose': 60.0, 'side_effects': u'Moderate', 'efficacy': u'Moderate', 'total_duration': 69}}}\n",
        "patient_id"
       ]
      },
      {
       "output_type": "stream",
       "stream": "stdout",
       "text": [
        " 51884\n",
        "NEW PATIENT id"
       ]
      },
      {
       "output_type": "stream",
       "stream": "stdout",
       "text": [
        " 51884\n",
        "data {76088: {u'Cymbalta': {'adherence': u'Always', 'final_dose': 60.0, 'side_effects': u'None', 'efficacy': u'Moderate', 'total_duration': 155}}, 164112: {u'Cymbalta': {'adherence': 'NaN', 'final_dose': 90.0, 'side_effects': 'NaN', 'efficacy': 'NaN', 'total_duration': 39}}, 239339: {u'Cymbalta': {'adherence': u'Always', 'final_dose': 60.0, 'side_effects': u'Moderate', 'efficacy': u'Moderate', 'total_duration': 69}}, 51884: {u'Cymbalta': {}}}\n",
        "In patient info function\n",
        "12"
       ]
      },
      {
       "output_type": "stream",
       "stream": "stdout",
       "text": [
        " 2014 last month, last year\n",
        "num symptoms"
       ]
      },
      {
       "output_type": "stream",
       "stream": "stdout",
       "text": [
        " 4\n",
        "Success, 'All Symptoms' clicked"
       ]
      },
      {
       "output_type": "stream",
       "stream": "stdout",
       "text": [
        "\n",
        "Success: Gone to drug page (Brand name found)"
       ]
      },
      {
       "output_type": "stream",
       "stream": "stdout",
       "text": [
        "\n",
        "[u'120', u'mg', u'Daily', u'Sep', u'09,', u'2008', u'-', u'Last', u'Update']"
       ]
      },
      {
       "output_type": "stream",
       "stream": "stdout",
       "text": [
        " Sep\n",
        "span is current\n",
        "[u'120', u'mg', u'Daily', u'Sep', u'09,', u'2008', u'-', u'Last', u'Update'] 9 12 2008 2014\n",
        "{76088: {u'Cymbalta': {'adherence': u'Always', 'final_dose': 60.0, 'side_effects': u'None', 'efficacy': u'Moderate', 'total_duration': 155}}, 164112: {u'Cymbalta': {'adherence': 'NaN', 'final_dose': 90.0, 'side_effects': 'NaN', 'efficacy': 'NaN', 'total_duration': 39}}, 239339: {u'Cymbalta': {'adherence': u'Always', 'final_dose': 60.0, 'side_effects': u'Moderate', 'efficacy': u'Moderate', 'total_duration': 69}}, 51884: {u'Cymbalta': {'adherence': 'NaN', 'final_dose': 120.0, 'side_effects': 'NaN', 'efficacy': 'NaN', 'total_duration': 75}}}\n",
        "patient_id"
       ]
      },
      {
       "output_type": "stream",
       "stream": "stdout",
       "text": [
        " 65628\n",
        "NEW PATIENT id"
       ]
      },
      {
       "output_type": "stream",
       "stream": "stdout",
       "text": [
        " 65628\n",
        "data {76088: {u'Cymbalta': {'adherence': u'Always', 'final_dose': 60.0, 'side_effects': u'None', 'efficacy': u'Moderate', 'total_duration': 155}}, 164112: {u'Cymbalta': {'adherence': 'NaN', 'final_dose': 90.0, 'side_effects': 'NaN', 'efficacy': 'NaN', 'total_duration': 39}}, 239339: {u'Cymbalta': {'adherence': u'Always', 'final_dose': 60.0, 'side_effects': u'Moderate', 'efficacy': u'Moderate', 'total_duration': 69}}, 51884: {u'Cymbalta': {'adherence': 'NaN', 'final_dose': 120.0, 'side_effects': 'NaN', 'efficacy': 'NaN', 'total_duration': 75}}, 65628: {u'Cymbalta': {}}}\n",
        "In patient info function\n",
        "9"
       ]
      },
      {
       "output_type": "stream",
       "stream": "stdout",
       "text": [
        " 2014 last month, last year\n",
        "num symptoms"
       ]
      },
      {
       "output_type": "stream",
       "stream": "stdout",
       "text": [
        " 22\n",
        "Success, 'All Symptoms' clicked"
       ]
      },
      {
       "output_type": "stream",
       "stream": "stdout",
       "text": [
        "\n",
        "Success: Gone to drug page (Brand name found)"
       ]
      },
      {
       "output_type": "stream",
       "stream": "stdout",
       "text": [
        "\n",
        "[u'120', u'mg', u'Daily', u'Jan', u'01,', u'2006', u'-', u'Last', u'Update']"
       ]
      },
      {
       "output_type": "stream",
       "stream": "stdout",
       "text": [
        " Jan\n",
        "span is current\n",
        "[u'120', u'mg', u'Daily', u'Jan', u'01,', u'2006', u'-', u'Last', u'Update'] 1 9 2006 2014\n",
        "{76088: {u'Cymbalta': {'adherence': u'Always', 'final_dose': 60.0, 'side_effects': u'None', 'efficacy': u'Moderate', 'total_duration': 155}}, 164112: {u'Cymbalta': {'adherence': 'NaN', 'final_dose': 90.0, 'side_effects': 'NaN', 'efficacy': 'NaN', 'total_duration': 39}}, 239339: {u'Cymbalta': {'adherence': u'Always', 'final_dose': 60.0, 'side_effects': u'Moderate', 'efficacy': u'Moderate', 'total_duration': 69}}, 51884: {u'Cymbalta': {'adherence': 'NaN', 'final_dose': 120.0, 'side_effects': 'NaN', 'efficacy': 'NaN', 'total_duration': 75}}, 65628: {u'Cymbalta': {'adherence': 'NaN', 'final_dose': 120.0, 'side_effects': 'NaN', 'efficacy': 'NaN', 'total_duration': 104}}}\n",
        "patient_id"
       ]
      },
      {
       "output_type": "stream",
       "stream": "stdout",
       "text": [
        " 24355\n",
        "NEW PATIENT id"
       ]
      },
      {
       "output_type": "stream",
       "stream": "stdout",
       "text": [
        " 24355\n",
        "data {24355: {u'Cymbalta': {}}, 239339: {u'Cymbalta': {'adherence': u'Always', 'final_dose': 60.0, 'side_effects': u'Moderate', 'efficacy': u'Moderate', 'total_duration': 69}}, 51884: {u'Cymbalta': {'adherence': 'NaN', 'final_dose': 120.0, 'side_effects': 'NaN', 'efficacy': 'NaN', 'total_duration': 75}}, 164112: {u'Cymbalta': {'adherence': 'NaN', 'final_dose': 90.0, 'side_effects': 'NaN', 'efficacy': 'NaN', 'total_duration': 39}}, 76088: {u'Cymbalta': {'adherence': u'Always', 'final_dose': 60.0, 'side_effects': u'None', 'efficacy': u'Moderate', 'total_duration': 155}}, 65628: {u'Cymbalta': {'adherence': 'NaN', 'final_dose': 120.0, 'side_effects': 'NaN', 'efficacy': 'NaN', 'total_duration': 104}}}\n",
        "In patient info function\n",
        "6"
       ]
      },
      {
       "output_type": "stream",
       "stream": "stdout",
       "text": [
        " 2014 last month, last year\n",
        "num symptoms"
       ]
      },
      {
       "output_type": "stream",
       "stream": "stdout",
       "text": [
        " 21\n",
        "Success, 'All Symptoms' clicked"
       ]
      },
      {
       "output_type": "stream",
       "stream": "stdout",
       "text": [
        "\n",
        "Success: Gone to drug page (Brand name found)"
       ]
      },
      {
       "output_type": "stream",
       "stream": "stdout",
       "text": [
        "\n",
        "[u'120', u'mg', u'Daily', u'May', u'18,', u'2007', u'-', u'Last', u'Update']"
       ]
      },
      {
       "output_type": "stream",
       "stream": "stdout",
       "text": [
        " May\n",
        "span is current\n",
        "[u'120', u'mg', u'Daily', u'May', u'18,', u'2007', u'-', u'Last', u'Update'] 5 6 2007 2014\n",
        "{24355: {u'Cymbalta': {'adherence': u'Always', 'final_dose': 120.0, 'side_effects': u'Mild', 'efficacy': u'Moderate', 'total_duration': 85}}, 239339: {u'Cymbalta': {'adherence': u'Always', 'final_dose': 60.0, 'side_effects': u'Moderate', 'efficacy': u'Moderate', 'total_duration': 69}}, 51884: {u'Cymbalta': {'adherence': 'NaN', 'final_dose': 120.0, 'side_effects': 'NaN', 'efficacy': 'NaN', 'total_duration': 75}}, 164112: {u'Cymbalta': {'adherence': 'NaN', 'final_dose': 90.0, 'side_effects': 'NaN', 'efficacy': 'NaN', 'total_duration': 39}}, 76088: {u'Cymbalta': {'adherence': u'Always', 'final_dose': 60.0, 'side_effects': u'None', 'efficacy': u'Moderate', 'total_duration': 155}}, 65628: {u'Cymbalta': {'adherence': 'NaN', 'final_dose': 120.0, 'side_effects': 'NaN', 'efficacy': 'NaN', 'total_duration': 104}}}"
       ]
      },
      {
       "output_type": "stream",
       "stream": "stdout",
       "text": [
        "\n",
        "took too much time"
       ]
      },
      {
       "output_type": "stream",
       "stream": "stdout",
       "text": [
        "\n",
        "Error: could not go to next set of patients\n",
        "Sertraline"
       ]
      },
      {
       "output_type": "stream",
       "stream": "stdout",
       "text": [
        "\n",
        "patient_id"
       ]
      },
      {
       "output_type": "stream",
       "stream": "stdout",
       "text": [
        " 295316\n",
        "NEW PATIENT id"
       ]
      },
      {
       "output_type": "stream",
       "stream": "stdout",
       "text": [
        " 295316\n",
        "data {24355: {u'Cymbalta': {'adherence': u'Always', 'final_dose': 120.0, 'side_effects': u'Mild', 'efficacy': u'Moderate', 'total_duration': 85}}, 239339: {u'Cymbalta': {'adherence': u'Always', 'final_dose': 60.0, 'side_effects': u'Moderate', 'efficacy': u'Moderate', 'total_duration': 69}}, 51884: {u'Cymbalta': {'adherence': 'NaN', 'final_dose': 120.0, 'side_effects': 'NaN', 'efficacy': 'NaN', 'total_duration': 75}}, 164112: {u'Cymbalta': {'adherence': 'NaN', 'final_dose': 90.0, 'side_effects': 'NaN', 'efficacy': 'NaN', 'total_duration': 39}}, 295316: {'Zoloft': {}}, 76088: {u'Cymbalta': {'adherence': u'Always', 'final_dose': 60.0, 'side_effects': u'None', 'efficacy': u'Moderate', 'total_duration': 155}}, 65628: {u'Cymbalta': {'adherence': 'NaN', 'final_dose': 120.0, 'side_effects': 'NaN', 'efficacy': 'NaN', 'total_duration': 104}}}\n",
        "In patient info function\n",
        "6"
       ]
      },
      {
       "output_type": "stream",
       "stream": "stdout",
       "text": [
        " 2015 last month, last year\n",
        "num symptoms"
       ]
      },
      {
       "output_type": "stream",
       "stream": "stdout",
       "text": [
        " 43\n",
        "Success, 'All Symptoms' clicked"
       ]
      },
      {
       "output_type": "stream",
       "stream": "stdout",
       "text": [
        "\n",
        "Success: Gone to drug page (Brand name found)"
       ]
      },
      {
       "output_type": "stream",
       "stream": "stdout",
       "text": [
        "\n",
        "[u'150', u'mg', u'Daily', u'Jun', u'30,', u'2008', u'-', u'Last', u'Update']"
       ]
      },
      {
       "output_type": "stream",
       "stream": "stdout",
       "text": [
        " Jun\n",
        "span is current\n",
        "[u'150', u'mg', u'Daily', u'Jun', u'30,', u'2008', u'-', u'Last', u'Update'] 6 6 2008 2015\n",
        "{24355: {u'Cymbalta': {'adherence': u'Always', 'final_dose': 120.0, 'side_effects': u'Mild', 'efficacy': u'Moderate', 'total_duration': 85}}, 239339: {u'Cymbalta': {'adherence': u'Always', 'final_dose': 60.0, 'side_effects': u'Moderate', 'efficacy': u'Moderate', 'total_duration': 69}}, 51884: {u'Cymbalta': {'adherence': 'NaN', 'final_dose': 120.0, 'side_effects': 'NaN', 'efficacy': 'NaN', 'total_duration': 75}}, 164112: {u'Cymbalta': {'adherence': 'NaN', 'final_dose': 90.0, 'side_effects': 'NaN', 'efficacy': 'NaN', 'total_duration': 39}}, 295316: {'Zoloft': {'adherence': u'Always', 'final_dose': 150.0, 'side_effects': u'None', 'efficacy': u'Major', 'total_duration': 84}}, 76088: {u'Cymbalta': {'adherence': u'Always', 'final_dose': 60.0, 'side_effects': u'None', 'efficacy': u'Moderate', 'total_duration': 155}}, 65628: {u'Cymbalta': {'adherence': 'NaN', 'final_dose': 120.0, 'side_effects': 'NaN', 'efficacy': 'NaN', 'total_duration': 104}}}"
       ]
      },
      {
       "output_type": "stream",
       "stream": "stdout",
       "text": [
        "\n",
        "patient_id"
       ]
      },
      {
       "output_type": "stream",
       "stream": "stdout",
       "text": [
        " 121354\n",
        "NEW PATIENT id"
       ]
      },
      {
       "output_type": "stream",
       "stream": "stdout",
       "text": [
        " 121354\n",
        "data {24355: {u'Cymbalta': {'adherence': u'Always', 'final_dose': 120.0, 'side_effects': u'Mild', 'efficacy': u'Moderate', 'total_duration': 85}}, 121354: {'Zoloft': {}}, 239339: {u'Cymbalta': {'adherence': u'Always', 'final_dose': 60.0, 'side_effects': u'Moderate', 'efficacy': u'Moderate', 'total_duration': 69}}, 51884: {u'Cymbalta': {'adherence': 'NaN', 'final_dose': 120.0, 'side_effects': 'NaN', 'efficacy': 'NaN', 'total_duration': 75}}, 164112: {u'Cymbalta': {'adherence': 'NaN', 'final_dose': 90.0, 'side_effects': 'NaN', 'efficacy': 'NaN', 'total_duration': 39}}, 295316: {'Zoloft': {'adherence': u'Always', 'final_dose': 150.0, 'side_effects': u'None', 'efficacy': u'Major', 'total_duration': 84}}, 76088: {u'Cymbalta': {'adherence': u'Always', 'final_dose': 60.0, 'side_effects': u'None', 'efficacy': u'Moderate', 'total_duration': 155}}, 65628: {u'Cymbalta': {'adherence': 'NaN', 'final_dose': 120.0, 'side_effects': 'NaN', 'efficacy': 'NaN', 'total_duration': 104}}}\n",
        "In patient info function\n",
        "6"
       ]
      },
      {
       "output_type": "stream",
       "stream": "stdout",
       "text": [
        " 2015 last month, last year\n",
        "num symptoms"
       ]
      },
      {
       "output_type": "stream",
       "stream": "stdout",
       "text": [
        " 25\n",
        "Success, 'All Symptoms' clicked"
       ]
      },
      {
       "output_type": "stream",
       "stream": "stdout",
       "text": [
        "\n",
        "Success: Gone to drug page (Brand name found)"
       ]
      },
      {
       "output_type": "stream",
       "stream": "stdout",
       "text": [
        "\n",
        "[u'50', u'mg', u'Daily', u'Feb', u'08,', u'2005', u'-', u'Nov', u'16,', u'2010']"
       ]
      },
      {
       "output_type": "stream",
       "stream": "stdout",
       "text": [
        " Feb\n",
        "[u'50', u'mg', u'Daily', u'Feb', u'08,', u'2005', u'-', u'Nov', u'16,', u'2010'] 2 11 2005 2010\n",
        "[u'100', u'mg', u'Daily', u'Nov', u'16,', u'2010', u'-', u'Jun', u'04,', u'2014'] Nov\n",
        "[u'100', u'mg', u'Daily', u'Nov', u'16,', u'2010', u'-', u'Jun', u'04,', u'2014'] 11 6 2010 2014\n",
        "[u'75', u'mg', u'Daily', u'Jun', u'04,', u'2014', u'-', u'Last', u'Update'] Jun\n",
        "span is current\n",
        "[u'75', u'mg', u'Daily', u'Jun', u'04,', u'2014', u'-', u'Last', u'Update'] 6 6 2014 2015\n",
        "{24355: {u'Cymbalta': {'adherence': u'Always', 'final_dose': 120.0, 'side_effects': u'Mild', 'efficacy': u'Moderate', 'total_duration': 85}}, 121354: {'Zoloft': {'adherence': u'Always', 'final_dose': 75.0, 'side_effects': u'Mild', 'efficacy': u'Can', 'total_duration': 124}}, 239339: {u'Cymbalta': {'adherence': u'Always', 'final_dose': 60.0, 'side_effects': u'Moderate', 'efficacy': u'Moderate', 'total_duration': 69}}, 51884: {u'Cymbalta': {'adherence': 'NaN', 'final_dose': 120.0, 'side_effects': 'NaN', 'efficacy': 'NaN', 'total_duration': 75}}, 164112: {u'Cymbalta': {'adherence': 'NaN', 'final_dose': 90.0, 'side_effects': 'NaN', 'efficacy': 'NaN', 'total_duration': 39}}, 295316: {'Zoloft': {'adherence': u'Always', 'final_dose': 150.0, 'side_effects': u'None', 'efficacy': u'Major', 'total_duration': 84}}, 76088: {u'Cymbalta': {'adherence': u'Always', 'final_dose': 60.0, 'side_effects': u'None', 'efficacy': u'Moderate', 'total_duration': 155}}, 65628: {u'Cymbalta': {'adherence': 'NaN', 'final_dose': 120.0, 'side_effects': 'NaN', 'efficacy': 'NaN', 'total_duration': 104}}}\n",
        "patient_id"
       ]
      },
      {
       "output_type": "stream",
       "stream": "stdout",
       "text": [
        " 72520\n",
        "NEW PATIENT id"
       ]
      },
      {
       "output_type": "stream",
       "stream": "stdout",
       "text": [
        " 72520\n",
        "data {24355: {u'Cymbalta': {'adherence': u'Always', 'final_dose': 120.0, 'side_effects': u'Mild', 'efficacy': u'Moderate', 'total_duration': 85}}, 72520: {'Zoloft': {}}, 121354: {'Zoloft': {'adherence': u'Always', 'final_dose': 75.0, 'side_effects': u'Mild', 'efficacy': u'Can', 'total_duration': 124}}, 239339: {u'Cymbalta': {'adherence': u'Always', 'final_dose': 60.0, 'side_effects': u'Moderate', 'efficacy': u'Moderate', 'total_duration': 69}}, 51884: {u'Cymbalta': {'adherence': 'NaN', 'final_dose': 120.0, 'side_effects': 'NaN', 'efficacy': 'NaN', 'total_duration': 75}}, 164112: {u'Cymbalta': {'adherence': 'NaN', 'final_dose': 90.0, 'side_effects': 'NaN', 'efficacy': 'NaN', 'total_duration': 39}}, 295316: {'Zoloft': {'adherence': u'Always', 'final_dose': 150.0, 'side_effects': u'None', 'efficacy': u'Major', 'total_duration': 84}}, 76088: {u'Cymbalta': {'adherence': u'Always', 'final_dose': 60.0, 'side_effects': u'None', 'efficacy': u'Moderate', 'total_duration': 155}}, 65628: {u'Cymbalta': {'adherence': 'NaN', 'final_dose': 120.0, 'side_effects': 'NaN', 'efficacy': 'NaN', 'total_duration': 104}}}\n",
        "In patient info function\n",
        "5"
       ]
      },
      {
       "output_type": "stream",
       "stream": "stdout",
       "text": [
        " 2015 last month, last year\n",
        "num symptoms"
       ]
      },
      {
       "output_type": "stream",
       "stream": "stdout",
       "text": [
        " 15\n",
        "Success, 'All Symptoms' clicked"
       ]
      },
      {
       "output_type": "stream",
       "stream": "stdout",
       "text": [
        "\n",
        "Drug Zoloft not found, trying generic\n",
        "Error: Drug page not found\n",
        "Error: could not get duration and dose"
       ]
      },
      {
       "output_type": "stream",
       "stream": "stdout",
       "text": [
        "\n",
        "Error: could not update data\n",
        "{24355: {u'Cymbalta': {'adherence': u'Always', 'final_dose': 120.0, 'side_effects': u'Mild', 'efficacy': u'Moderate', 'total_duration': 85}}, 72520: {'Zoloft': {}}, 121354: {'Zoloft': {'adherence': u'Always', 'final_dose': 75.0, 'side_effects': u'Mild', 'efficacy': u'Can', 'total_duration': 124}}, 239339: {u'Cymbalta': {'adherence': u'Always', 'final_dose': 60.0, 'side_effects': u'Moderate', 'efficacy': u'Moderate', 'total_duration': 69}}, 51884: {u'Cymbalta': {'adherence': 'NaN', 'final_dose': 120.0, 'side_effects': 'NaN', 'efficacy': 'NaN', 'total_duration': 75}}, 164112: {u'Cymbalta': {'adherence': 'NaN', 'final_dose': 90.0, 'side_effects': 'NaN', 'efficacy': 'NaN', 'total_duration': 39}}, 295316: {'Zoloft': {'adherence': u'Always', 'final_dose': 150.0, 'side_effects': u'None', 'efficacy': u'Major', 'total_duration': 84}}, 76088: {u'Cymbalta': {'adherence': u'Always', 'final_dose': 60.0, 'side_effects': u'None', 'efficacy': u'Moderate', 'total_duration': 155}}, 65628: {u'Cymbalta': {'adherence': 'NaN', 'final_dose': 120.0, 'side_effects': 'NaN', 'efficacy': 'NaN', 'total_duration': 104}}}\n",
        "patient_id"
       ]
      },
      {
       "output_type": "stream",
       "stream": "stdout",
       "text": [
        " 121354\n",
        "patient_id"
       ]
      },
      {
       "output_type": "stream",
       "stream": "stdout",
       "text": [
        " 72520\n",
        "patient_id"
       ]
      },
      {
       "output_type": "stream",
       "stream": "stdout",
       "text": [
        " 48593\n",
        "NEW PATIENT id"
       ]
      },
      {
       "output_type": "stream",
       "stream": "stdout",
       "text": [
        " 48593\n",
        "data {24355: {u'Cymbalta': {'adherence': u'Always', 'final_dose': 120.0, 'side_effects': u'Mild', 'efficacy': u'Moderate', 'total_duration': 85}}, 72520: {'Zoloft': {}}, 121354: {'Zoloft': {'adherence': u'Always', 'final_dose': 75.0, 'side_effects': u'Mild', 'efficacy': u'Can', 'total_duration': 124}}, 239339: {u'Cymbalta': {'adherence': u'Always', 'final_dose': 60.0, 'side_effects': u'Moderate', 'efficacy': u'Moderate', 'total_duration': 69}}, 51884: {u'Cymbalta': {'adherence': 'NaN', 'final_dose': 120.0, 'side_effects': 'NaN', 'efficacy': 'NaN', 'total_duration': 75}}, 164112: {u'Cymbalta': {'adherence': 'NaN', 'final_dose': 90.0, 'side_effects': 'NaN', 'efficacy': 'NaN', 'total_duration': 39}}, 48593: {'Zoloft': {}}, 295316: {'Zoloft': {'adherence': u'Always', 'final_dose': 150.0, 'side_effects': u'None', 'efficacy': u'Major', 'total_duration': 84}}, 76088: {u'Cymbalta': {'adherence': u'Always', 'final_dose': 60.0, 'side_effects': u'None', 'efficacy': u'Moderate', 'total_duration': 155}}, 65628: {u'Cymbalta': {'adherence': 'NaN', 'final_dose': 120.0, 'side_effects': 'NaN', 'efficacy': 'NaN', 'total_duration': 104}}}\n",
        "In patient info function\n",
        "3"
       ]
      },
      {
       "output_type": "stream",
       "stream": "stdout",
       "text": [
        " 2015 last month, last year\n",
        "num symptoms"
       ]
      },
      {
       "output_type": "stream",
       "stream": "stdout",
       "text": [
        " 18\n",
        "Success, 'All Symptoms' clicked"
       ]
      },
      {
       "output_type": "stream",
       "stream": "stdout",
       "text": [
        "\n",
        "Success: Gone to drug page (Brand name found)"
       ]
      },
      {
       "output_type": "stream",
       "stream": "stdout",
       "text": [
        "\n",
        "[u'200', u'mg', u'Daily', u'Jan', u'01', u'-', u'01,', u'2001']"
       ]
      },
      {
       "output_type": "stream",
       "stream": "stdout",
       "text": [
        " Jan\n",
        "it's an int, span is less than one month\n",
        "[u'200', u'mg', u'Daily', u'Jan', u'01', u'-', u'01,', u'2001'] 1 1 0 0\n",
        "[u'200', u'mg', u'Daily', u'Jan', u'01,', u'2001', u'-', u'Oct', u'08,', u'2010'] Jan\n",
        "[u'200', u'mg', u'Daily', u'Jan', u'01,', u'2001', u'-', u'Oct', u'08,', u'2010'] 1 10 2001 2010\n",
        "[u'200', u'mg', u'Daily', u'Oct', u'08,', u'2010', u'-', u'Last', u'Update'] Oct\n",
        "span is current\n",
        "[u'200', u'mg', u'Daily', u'Oct', u'08,', u'2010', u'-', u'Last', u'Update'] 10 3 2010 2015\n",
        "{24355: {u'Cymbalta': {'adherence': u'Always', 'final_dose': 120.0, 'side_effects': u'Mild', 'efficacy': u'Moderate', 'total_duration': 85}}, 72520: {'Zoloft': {}}, 121354: {'Zoloft': {'adherence': u'Always', 'final_dose': 75.0, 'side_effects': u'Mild', 'efficacy': u'Can', 'total_duration': 124}}, 239339: {u'Cymbalta': {'adherence': u'Always', 'final_dose': 60.0, 'side_effects': u'Moderate', 'efficacy': u'Moderate', 'total_duration': 69}}, 51884: {u'Cymbalta': {'adherence': 'NaN', 'final_dose': 120.0, 'side_effects': 'NaN', 'efficacy': 'NaN', 'total_duration': 75}}, 164112: {u'Cymbalta': {'adherence': 'NaN', 'final_dose': 90.0, 'side_effects': 'NaN', 'efficacy': 'NaN', 'total_duration': 39}}, 48593: {'Zoloft': {'adherence': 'NaN', 'final_dose': 200.0, 'side_effects': 'NaN', 'efficacy': 'NaN', 'total_duration': 170}}, 295316: {'Zoloft': {'adherence': u'Always', 'final_dose': 150.0, 'side_effects': u'None', 'efficacy': u'Major', 'total_duration': 84}}, 76088: {u'Cymbalta': {'adherence': u'Always', 'final_dose': 60.0, 'side_effects': u'None', 'efficacy': u'Moderate', 'total_duration': 155}}, 65628: {u'Cymbalta': {'adherence': 'NaN', 'final_dose': 120.0, 'side_effects': 'NaN', 'efficacy': 'NaN', 'total_duration': 104}}}\n",
        "Lexapro"
       ]
      },
      {
       "output_type": "stream",
       "stream": "stdout",
       "text": [
        "\n",
        "patient_id"
       ]
      },
      {
       "output_type": "stream",
       "stream": "stdout",
       "text": [
        " 207438\n",
        "NEW PATIENT id"
       ]
      },
      {
       "output_type": "stream",
       "stream": "stdout",
       "text": [
        " 207438\n",
        "data {24355: {u'Cymbalta': {'adherence': u'Always', 'final_dose': 120.0, 'side_effects': u'Mild', 'efficacy': u'Moderate', 'total_duration': 85}}, 72520: {'Zoloft': {}}, 121354: {'Zoloft': {'adherence': u'Always', 'final_dose': 75.0, 'side_effects': u'Mild', 'efficacy': u'Can', 'total_duration': 124}}, 239339: {u'Cymbalta': {'adherence': u'Always', 'final_dose': 60.0, 'side_effects': u'Moderate', 'efficacy': u'Moderate', 'total_duration': 69}}, 51884: {u'Cymbalta': {'adherence': 'NaN', 'final_dose': 120.0, 'side_effects': 'NaN', 'efficacy': 'NaN', 'total_duration': 75}}, 207438: {u'Lexapro': {}}, 164112: {u'Cymbalta': {'adherence': 'NaN', 'final_dose': 90.0, 'side_effects': 'NaN', 'efficacy': 'NaN', 'total_duration': 39}}, 48593: {'Zoloft': {'adherence': 'NaN', 'final_dose': 200.0, 'side_effects': 'NaN', 'efficacy': 'NaN', 'total_duration': 170}}, 295316: {'Zoloft': {'adherence': u'Always', 'final_dose': 150.0, 'side_effects': u'None', 'efficacy': u'Major', 'total_duration': 84}}, 76088: {u'Cymbalta': {'adherence': u'Always', 'final_dose': 60.0, 'side_effects': u'None', 'efficacy': u'Moderate', 'total_duration': 155}}, 65628: {u'Cymbalta': {'adherence': 'NaN', 'final_dose': 120.0, 'side_effects': 'NaN', 'efficacy': 'NaN', 'total_duration': 104}}}\n",
        "In patient info function\n",
        "6"
       ]
      },
      {
       "output_type": "stream",
       "stream": "stdout",
       "text": [
        " 2015 last month, last year\n",
        "num symptoms"
       ]
      },
      {
       "output_type": "stream",
       "stream": "stdout",
       "text": [
        " 13\n",
        "Success, 'All Symptoms' clicked"
       ]
      },
      {
       "output_type": "stream",
       "stream": "stdout",
       "text": [
        "\n",
        "Success: Gone to drug page (Brand name found)"
       ]
      },
      {
       "output_type": "stream",
       "stream": "stdout",
       "text": [
        "\n",
        "[u'20', u'mg', u'Daily', u'Feb', u'15,', u'2014', u'-', u'Apr', u'16,', u'2015']"
       ]
      },
      {
       "output_type": "stream",
       "stream": "stdout",
       "text": [
        " Feb\n",
        "[u'20', u'mg', u'Daily', u'Feb', u'15,', u'2014', u'-', u'Apr', u'16,', u'2015'] 2 4 2014 2015\n",
        "[u'30', u'mg', u'Daily', u'Apr', u'16,', u'2015', u'-', u'Last', u'Update'] Apr\n",
        "span is current\n",
        "[u'30', u'mg', u'Daily', u'Apr', u'16,', u'2015', u'-', u'Last', u'Update'] 4 6 2015 2015\n",
        "{24355: {u'Cymbalta': {'adherence': u'Always', 'final_dose': 120.0, 'side_effects': u'Mild', 'efficacy': u'Moderate', 'total_duration': 85}}, 72520: {'Zoloft': {}}, 121354: {'Zoloft': {'adherence': u'Always', 'final_dose': 75.0, 'side_effects': u'Mild', 'efficacy': u'Can', 'total_duration': 124}}, 239339: {u'Cymbalta': {'adherence': u'Always', 'final_dose': 60.0, 'side_effects': u'Moderate', 'efficacy': u'Moderate', 'total_duration': 69}}, 51884: {u'Cymbalta': {'adherence': 'NaN', 'final_dose': 120.0, 'side_effects': 'NaN', 'efficacy': 'NaN', 'total_duration': 75}}, 207438: {u'Lexapro': {'adherence': u'Always', 'final_dose': 30.0, 'side_effects': u'None', 'efficacy': u'Moderate', 'total_duration': 16}}, 164112: {u'Cymbalta': {'adherence': 'NaN', 'final_dose': 90.0, 'side_effects': 'NaN', 'efficacy': 'NaN', 'total_duration': 39}}, 48593: {'Zoloft': {'adherence': 'NaN', 'final_dose': 200.0, 'side_effects': 'NaN', 'efficacy': 'NaN', 'total_duration': 170}}, 295316: {'Zoloft': {'adherence': u'Always', 'final_dose': 150.0, 'side_effects': u'None', 'efficacy': u'Major', 'total_duration': 84}}, 76088: {u'Cymbalta': {'adherence': u'Always', 'final_dose': 60.0, 'side_effects': u'None', 'efficacy': u'Moderate', 'total_duration': 155}}, 65628: {u'Cymbalta': {'adherence': 'NaN', 'final_dose': 120.0, 'side_effects': 'NaN', 'efficacy': 'NaN', 'total_duration': 104}}}\n",
        "patient_id"
       ]
      },
      {
       "output_type": "stream",
       "stream": "stdout",
       "text": [
        " 2906\n",
        "NEW PATIENT id"
       ]
      },
      {
       "output_type": "stream",
       "stream": "stdout",
       "text": [
        " 2906\n",
        "data {24355: {u'Cymbalta': {'adherence': u'Always', 'final_dose': 120.0, 'side_effects': u'Mild', 'efficacy': u'Moderate', 'total_duration': 85}}, 72520: {'Zoloft': {}}, 121354: {'Zoloft': {'adherence': u'Always', 'final_dose': 75.0, 'side_effects': u'Mild', 'efficacy': u'Can', 'total_duration': 124}}, 239339: {u'Cymbalta': {'adherence': u'Always', 'final_dose': 60.0, 'side_effects': u'Moderate', 'efficacy': u'Moderate', 'total_duration': 69}}, 51884: {u'Cymbalta': {'adherence': 'NaN', 'final_dose': 120.0, 'side_effects': 'NaN', 'efficacy': 'NaN', 'total_duration': 75}}, 207438: {u'Lexapro': {'adherence': u'Always', 'final_dose': 30.0, 'side_effects': u'None', 'efficacy': u'Moderate', 'total_duration': 16}}, 164112: {u'Cymbalta': {'adherence': 'NaN', 'final_dose': 90.0, 'side_effects': 'NaN', 'efficacy': 'NaN', 'total_duration': 39}}, 48593: {'Zoloft': {'adherence': 'NaN', 'final_dose': 200.0, 'side_effects': 'NaN', 'efficacy': 'NaN', 'total_duration': 170}}, 295316: {'Zoloft': {'adherence': u'Always', 'final_dose': 150.0, 'side_effects': u'None', 'efficacy': u'Major', 'total_duration': 84}}, 76088: {u'Cymbalta': {'adherence': u'Always', 'final_dose': 60.0, 'side_effects': u'None', 'efficacy': u'Moderate', 'total_duration': 155}}, 2906: {u'Lexapro': {}}, 65628: {u'Cymbalta': {'adherence': 'NaN', 'final_dose': 120.0, 'side_effects': 'NaN', 'efficacy': 'NaN', 'total_duration': 104}}}\n",
        "In patient info function\n",
        "6"
       ]
      },
      {
       "output_type": "stream",
       "stream": "stdout",
       "text": [
        " 2015 last month, last year\n",
        "num symptoms"
       ]
      },
      {
       "output_type": "stream",
       "stream": "stdout",
       "text": [
        " 10\n",
        "Success, 'All Symptoms' clicked"
       ]
      },
      {
       "output_type": "stream",
       "stream": "stdout",
       "text": [
        "\n",
        "Success: Gone to drug page (Brand name found)"
       ]
      },
      {
       "output_type": "stream",
       "stream": "stdout",
       "text": [
        "\n",
        "[u'0.5', u'mg', u'Daily', u'Sep', u'01,', u'2007', u'-', u'Last', u'Update']"
       ]
      },
      {
       "output_type": "stream",
       "stream": "stdout",
       "text": [
        " Sep\n",
        "span is current\n",
        "[u'0.5', u'mg', u'Daily', u'Sep', u'01,', u'2007', u'-', u'Last', u'Update'] 9 6 2007 2015\n",
        "{24355: {u'Cymbalta': {'adherence': u'Always', 'final_dose': 120.0, 'side_effects': u'Mild', 'efficacy': u'Moderate', 'total_duration': 85}}, 72520: {'Zoloft': {}}, 121354: {'Zoloft': {'adherence': u'Always', 'final_dose': 75.0, 'side_effects': u'Mild', 'efficacy': u'Can', 'total_duration': 124}}, 239339: {u'Cymbalta': {'adherence': u'Always', 'final_dose': 60.0, 'side_effects': u'Moderate', 'efficacy': u'Moderate', 'total_duration': 69}}, 51884: {u'Cymbalta': {'adherence': 'NaN', 'final_dose': 120.0, 'side_effects': 'NaN', 'efficacy': 'NaN', 'total_duration': 75}}, 207438: {u'Lexapro': {'adherence': u'Always', 'final_dose': 30.0, 'side_effects': u'None', 'efficacy': u'Moderate', 'total_duration': 16}}, 164112: {u'Cymbalta': {'adherence': 'NaN', 'final_dose': 90.0, 'side_effects': 'NaN', 'efficacy': 'NaN', 'total_duration': 39}}, 48593: {'Zoloft': {'adherence': 'NaN', 'final_dose': 200.0, 'side_effects': 'NaN', 'efficacy': 'NaN', 'total_duration': 170}}, 295316: {'Zoloft': {'adherence': u'Always', 'final_dose': 150.0, 'side_effects': u'None', 'efficacy': u'Major', 'total_duration': 84}}, 76088: {u'Cymbalta': {'adherence': u'Always', 'final_dose': 60.0, 'side_effects': u'None', 'efficacy': u'Moderate', 'total_duration': 155}}, 2906: {u'Lexapro': {'adherence': 'NaN', 'final_dose': 0.5, 'side_effects': 'NaN', 'efficacy': 'NaN', 'total_duration': 93}}, 65628: {u'Cymbalta': {'adherence': 'NaN', 'final_dose': 120.0, 'side_effects': 'NaN', 'efficacy': 'NaN', 'total_duration': 104}}}\n",
        "patient_id"
       ]
      },
      {
       "output_type": "stream",
       "stream": "stdout",
       "text": [
        " 129098\n",
        "NEW PATIENT id"
       ]
      },
      {
       "output_type": "stream",
       "stream": "stdout",
       "text": [
        " 129098\n",
        "data {24355: {u'Cymbalta': {'adherence': u'Always', 'final_dose': 120.0, 'side_effects': u'Mild', 'efficacy': u'Moderate', 'total_duration': 85}}, 72520: {'Zoloft': {}}, 121354: {'Zoloft': {'adherence': u'Always', 'final_dose': 75.0, 'side_effects': u'Mild', 'efficacy': u'Can', 'total_duration': 124}}, 239339: {u'Cymbalta': {'adherence': u'Always', 'final_dose': 60.0, 'side_effects': u'Moderate', 'efficacy': u'Moderate', 'total_duration': 69}}, 51884: {u'Cymbalta': {'adherence': 'NaN', 'final_dose': 120.0, 'side_effects': 'NaN', 'efficacy': 'NaN', 'total_duration': 75}}, 207438: {u'Lexapro': {'adherence': u'Always', 'final_dose': 30.0, 'side_effects': u'None', 'efficacy': u'Moderate', 'total_duration': 16}}, 164112: {u'Cymbalta': {'adherence': 'NaN', 'final_dose': 90.0, 'side_effects': 'NaN', 'efficacy': 'NaN', 'total_duration': 39}}, 48593: {'Zoloft': {'adherence': 'NaN', 'final_dose': 200.0, 'side_effects': 'NaN', 'efficacy': 'NaN', 'total_duration': 170}}, 295316: {'Zoloft': {'adherence': u'Always', 'final_dose': 150.0, 'side_effects': u'None', 'efficacy': u'Major', 'total_duration': 84}}, 76088: {u'Cymbalta': {'adherence': u'Always', 'final_dose': 60.0, 'side_effects': u'None', 'efficacy': u'Moderate', 'total_duration': 155}}, 2906: {u'Lexapro': {'adherence': 'NaN', 'final_dose': 0.5, 'side_effects': 'NaN', 'efficacy': 'NaN', 'total_duration': 93}}, 65628: {u'Cymbalta': {'adherence': 'NaN', 'final_dose': 120.0, 'side_effects': 'NaN', 'efficacy': 'NaN', 'total_duration': 104}}, 129098: {u'Lexapro': {}}}\n",
        "In patient info function\n",
        "4"
       ]
      },
      {
       "output_type": "stream",
       "stream": "stdout",
       "text": [
        " 2014 last month, last year\n",
        "num symptoms"
       ]
      },
      {
       "output_type": "stream",
       "stream": "stdout",
       "text": [
        " 10\n",
        "Success, 'All Symptoms' clicked"
       ]
      },
      {
       "output_type": "stream",
       "stream": "stdout",
       "text": [
        "\n",
        "Success: Gone to drug page (Brand name found)"
       ]
      },
      {
       "output_type": "stream",
       "stream": "stdout",
       "text": [
        "\n",
        "[u'10', u'mg', u'Daily', u'Oct', u'30,', u'2010', u'-', u'Feb', u'28,', u'2011']"
       ]
      },
      {
       "output_type": "stream",
       "stream": "stdout",
       "text": [
        " Oct\n",
        "[u'10', u'mg', u'Daily', u'Oct', u'30,', u'2010', u'-', u'Feb', u'28,', u'2011'] 10 2 2010 2011\n",
        "[u'20', u'mg', u'Daily', u'Feb', u'28,', u'2011', u'-', u'Last', u'Update'] Feb\n",
        "span is current\n",
        "[u'20', u'mg', u'Daily', u'Feb', u'28,', u'2011', u'-', u'Last', u'Update'] 2 4 2011 2014\n",
        "{24355: {u'Cymbalta': {'adherence': u'Always', 'final_dose': 120.0, 'side_effects': u'Mild', 'efficacy': u'Moderate', 'total_duration': 85}}, 72520: {'Zoloft': {}}, 121354: {'Zoloft': {'adherence': u'Always', 'final_dose': 75.0, 'side_effects': u'Mild', 'efficacy': u'Can', 'total_duration': 124}}, 239339: {u'Cymbalta': {'adherence': u'Always', 'final_dose': 60.0, 'side_effects': u'Moderate', 'efficacy': u'Moderate', 'total_duration': 69}}, 51884: {u'Cymbalta': {'adherence': 'NaN', 'final_dose': 120.0, 'side_effects': 'NaN', 'efficacy': 'NaN', 'total_duration': 75}}, 207438: {u'Lexapro': {'adherence': u'Always', 'final_dose': 30.0, 'side_effects': u'None', 'efficacy': u'Moderate', 'total_duration': 16}}, 164112: {u'Cymbalta': {'adherence': 'NaN', 'final_dose': 90.0, 'side_effects': 'NaN', 'efficacy': 'NaN', 'total_duration': 39}}, 48593: {'Zoloft': {'adherence': 'NaN', 'final_dose': 200.0, 'side_effects': 'NaN', 'efficacy': 'NaN', 'total_duration': 170}}, 295316: {'Zoloft': {'adherence': u'Always', 'final_dose': 150.0, 'side_effects': u'None', 'efficacy': u'Major', 'total_duration': 84}}, 76088: {u'Cymbalta': {'adherence': u'Always', 'final_dose': 60.0, 'side_effects': u'None', 'efficacy': u'Moderate', 'total_duration': 155}}, 2906: {u'Lexapro': {'adherence': 'NaN', 'final_dose': 0.5, 'side_effects': 'NaN', 'efficacy': 'NaN', 'total_duration': 93}}, 65628: {u'Cymbalta': {'adherence': 'NaN', 'final_dose': 120.0, 'side_effects': 'NaN', 'efficacy': 'NaN', 'total_duration': 104}}, 129098: {u'Lexapro': {'adherence': 'NaN', 'final_dose': 20.0, 'side_effects': 'NaN', 'efficacy': 'NaN', 'total_duration': 42}}}\n",
        "patient_id"
       ]
      },
      {
       "output_type": "stream",
       "stream": "stdout",
       "text": [
        " 87903\n",
        "NEW PATIENT id"
       ]
      },
      {
       "output_type": "stream",
       "stream": "stdout",
       "text": [
        " 87903\n",
        "data {24355: {u'Cymbalta': {'adherence': u'Always', 'final_dose': 120.0, 'side_effects': u'Mild', 'efficacy': u'Moderate', 'total_duration': 85}}, 72520: {'Zoloft': {}}, 121354: {'Zoloft': {'adherence': u'Always', 'final_dose': 75.0, 'side_effects': u'Mild', 'efficacy': u'Can', 'total_duration': 124}}, 239339: {u'Cymbalta': {'adherence': u'Always', 'final_dose': 60.0, 'side_effects': u'Moderate', 'efficacy': u'Moderate', 'total_duration': 69}}, 51884: {u'Cymbalta': {'adherence': 'NaN', 'final_dose': 120.0, 'side_effects': 'NaN', 'efficacy': 'NaN', 'total_duration': 75}}, 207438: {u'Lexapro': {'adherence': u'Always', 'final_dose': 30.0, 'side_effects': u'None', 'efficacy': u'Moderate', 'total_duration': 16}}, 164112: {u'Cymbalta': {'adherence': 'NaN', 'final_dose': 90.0, 'side_effects': 'NaN', 'efficacy': 'NaN', 'total_duration': 39}}, 48593: {'Zoloft': {'adherence': 'NaN', 'final_dose': 200.0, 'side_effects': 'NaN', 'efficacy': 'NaN', 'total_duration': 170}}, 295316: {'Zoloft': {'adherence': u'Always', 'final_dose': 150.0, 'side_effects': u'None', 'efficacy': u'Major', 'total_duration': 84}}, 76088: {u'Cymbalta': {'adherence': u'Always', 'final_dose': 60.0, 'side_effects': u'None', 'efficacy': u'Moderate', 'total_duration': 155}}, 2906: {u'Lexapro': {'adherence': 'NaN', 'final_dose': 0.5, 'side_effects': 'NaN', 'efficacy': 'NaN', 'total_duration': 93}}, 65628: {u'Cymbalta': {'adherence': 'NaN', 'final_dose': 120.0, 'side_effects': 'NaN', 'efficacy': 'NaN', 'total_duration': 104}}, 129098: {u'Lexapro': {'adherence': 'NaN', 'final_dose': 20.0, 'side_effects': 'NaN', 'efficacy': 'NaN', 'total_duration': 42}}, 87903: {u'Lexapro': {}}}\n",
        "In patient info function\n",
        "2"
       ]
      },
      {
       "output_type": "stream",
       "stream": "stdout",
       "text": [
        " 2015 last month, last year\n",
        "num symptoms"
       ]
      },
      {
       "output_type": "stream",
       "stream": "stdout",
       "text": [
        " 7\n",
        "Success, 'All Symptoms' clicked"
       ]
      },
      {
       "output_type": "stream",
       "stream": "stdout",
       "text": [
        "\n",
        "Success: Gone to drug page (Brand name found)"
       ]
      },
      {
       "output_type": "stream",
       "stream": "stdout",
       "text": [
        "\n",
        "[u'10', u'mg', u'Daily', u'Jan', u'20,', u'2005', u'-', u'Jan', u'20,', u'2007']"
       ]
      },
      {
       "output_type": "stream",
       "stream": "stdout",
       "text": [
        " Jan\n",
        "[u'10', u'mg', u'Daily', u'Jan', u'20,', u'2005', u'-', u'Jan', u'20,', u'2007'] 1 1 2005 2007\n",
        "[u'20', u'mg', u'Daily', u'Jan', u'20,', u'2007', u'-', u'Last', u'Update'] Jan\n",
        "span is current\n",
        "[u'20', u'mg', u'Daily', u'Jan', u'20,', u'2007', u'-', u'Last', u'Update'] 1 2 2007 2015\n",
        "{24355: {u'Cymbalta': {'adherence': u'Always', 'final_dose': 120.0, 'side_effects': u'Mild', 'efficacy': u'Moderate', 'total_duration': 85}}, 72520: {'Zoloft': {}}, 121354: {'Zoloft': {'adherence': u'Always', 'final_dose': 75.0, 'side_effects': u'Mild', 'efficacy': u'Can', 'total_duration': 124}}, 239339: {u'Cymbalta': {'adherence': u'Always', 'final_dose': 60.0, 'side_effects': u'Moderate', 'efficacy': u'Moderate', 'total_duration': 69}}, 51884: {u'Cymbalta': {'adherence': 'NaN', 'final_dose': 120.0, 'side_effects': 'NaN', 'efficacy': 'NaN', 'total_duration': 75}}, 207438: {u'Lexapro': {'adherence': u'Always', 'final_dose': 30.0, 'side_effects': u'None', 'efficacy': u'Moderate', 'total_duration': 16}}, 164112: {u'Cymbalta': {'adherence': 'NaN', 'final_dose': 90.0, 'side_effects': 'NaN', 'efficacy': 'NaN', 'total_duration': 39}}, 48593: {'Zoloft': {'adherence': 'NaN', 'final_dose': 200.0, 'side_effects': 'NaN', 'efficacy': 'NaN', 'total_duration': 170}}, 295316: {'Zoloft': {'adherence': u'Always', 'final_dose': 150.0, 'side_effects': u'None', 'efficacy': u'Major', 'total_duration': 84}}, 76088: {u'Cymbalta': {'adherence': u'Always', 'final_dose': 60.0, 'side_effects': u'None', 'efficacy': u'Moderate', 'total_duration': 155}}, 2906: {u'Lexapro': {'adherence': 'NaN', 'final_dose': 0.5, 'side_effects': 'NaN', 'efficacy': 'NaN', 'total_duration': 93}}, 65628: {u'Cymbalta': {'adherence': 'NaN', 'final_dose': 120.0, 'side_effects': 'NaN', 'efficacy': 'NaN', 'total_duration': 104}}, 129098: {u'Lexapro': {'adherence': 'NaN', 'final_dose': 20.0, 'side_effects': 'NaN', 'efficacy': 'NaN', 'total_duration': 42}}, 87903: {u'Lexapro': {'adherence': 'NaN', 'final_dose': 20.0, 'side_effects': 'NaN', 'efficacy': 'NaN', 'total_duration': 121}}}\n",
        "patient_id"
       ]
      },
      {
       "output_type": "stream",
       "stream": "stdout",
       "text": [
        " 134942\n",
        "NEW PATIENT id"
       ]
      },
      {
       "output_type": "stream",
       "stream": "stdout",
       "text": [
        " 134942\n",
        "data {24355: {u'Cymbalta': {'adherence': u'Always', 'final_dose': 120.0, 'side_effects': u'Mild', 'efficacy': u'Moderate', 'total_duration': 85}}, 72520: {'Zoloft': {}}, 121354: {'Zoloft': {'adherence': u'Always', 'final_dose': 75.0, 'side_effects': u'Mild', 'efficacy': u'Can', 'total_duration': 124}}, 239339: {u'Cymbalta': {'adherence': u'Always', 'final_dose': 60.0, 'side_effects': u'Moderate', 'efficacy': u'Moderate', 'total_duration': 69}}, 51884: {u'Cymbalta': {'adherence': 'NaN', 'final_dose': 120.0, 'side_effects': 'NaN', 'efficacy': 'NaN', 'total_duration': 75}}, 207438: {u'Lexapro': {'adherence': u'Always', 'final_dose': 30.0, 'side_effects': u'None', 'efficacy': u'Moderate', 'total_duration': 16}}, 164112: {u'Cymbalta': {'adherence': 'NaN', 'final_dose': 90.0, 'side_effects': 'NaN', 'efficacy': 'NaN', 'total_duration': 39}}, 48593: {'Zoloft': {'adherence': 'NaN', 'final_dose': 200.0, 'side_effects': 'NaN', 'efficacy': 'NaN', 'total_duration': 170}}, 295316: {'Zoloft': {'adherence': u'Always', 'final_dose': 150.0, 'side_effects': u'None', 'efficacy': u'Major', 'total_duration': 84}}, 76088: {u'Cymbalta': {'adherence': u'Always', 'final_dose': 60.0, 'side_effects': u'None', 'efficacy': u'Moderate', 'total_duration': 155}}, 2906: {u'Lexapro': {'adherence': 'NaN', 'final_dose': 0.5, 'side_effects': 'NaN', 'efficacy': 'NaN', 'total_duration': 93}}, 65628: {u'Cymbalta': {'adherence': 'NaN', 'final_dose': 120.0, 'side_effects': 'NaN', 'efficacy': 'NaN', 'total_duration': 104}}, 129098: {u'Lexapro': {'adherence': 'NaN', 'final_dose': 20.0, 'side_effects': 'NaN', 'efficacy': 'NaN', 'total_duration': 42}}, 134942: {u'Lexapro': {}}, 87903: {u'Lexapro': {'adherence': 'NaN', 'final_dose': 20.0, 'side_effects': 'NaN', 'efficacy': 'NaN', 'total_duration': 121}}}\n",
        "In patient info function\n",
        "11"
       ]
      },
      {
       "output_type": "stream",
       "stream": "stdout",
       "text": [
        " 2011 last month, last year\n",
        "num symptoms"
       ]
      },
      {
       "output_type": "stream",
       "stream": "stdout",
       "text": [
        " 10\n",
        "Success, 'All Symptoms' clicked"
       ]
      },
      {
       "output_type": "stream",
       "stream": "stdout",
       "text": [
        "\n",
        "Success: Gone to drug page (Brand name found)"
       ]
      },
      {
       "output_type": "stream",
       "stream": "stdout",
       "text": [
        "\n",
        "[u'20', u'mg', u'Daily', u'Feb', u'15,', u'2009', u'-', u'Last', u'Update']"
       ]
      },
      {
       "output_type": "stream",
       "stream": "stdout",
       "text": [
        " Feb\n",
        "span is current\n",
        "[u'20', u'mg', u'Daily', u'Feb', u'15,', u'2009', u'-', u'Last', u'Update'] 2 11 2009 2011\n",
        "{24355: {u'Cymbalta': {'adherence': u'Always', 'final_dose': 120.0, 'side_effects': u'Mild', 'efficacy': u'Moderate', 'total_duration': 85}}, 72520: {'Zoloft': {}}, 121354: {'Zoloft': {'adherence': u'Always', 'final_dose': 75.0, 'side_effects': u'Mild', 'efficacy': u'Can', 'total_duration': 124}}, 239339: {u'Cymbalta': {'adherence': u'Always', 'final_dose': 60.0, 'side_effects': u'Moderate', 'efficacy': u'Moderate', 'total_duration': 69}}, 51884: {u'Cymbalta': {'adherence': 'NaN', 'final_dose': 120.0, 'side_effects': 'NaN', 'efficacy': 'NaN', 'total_duration': 75}}, 207438: {u'Lexapro': {'adherence': u'Always', 'final_dose': 30.0, 'side_effects': u'None', 'efficacy': u'Moderate', 'total_duration': 16}}, 164112: {u'Cymbalta': {'adherence': 'NaN', 'final_dose': 90.0, 'side_effects': 'NaN', 'efficacy': 'NaN', 'total_duration': 39}}, 48593: {'Zoloft': {'adherence': 'NaN', 'final_dose': 200.0, 'side_effects': 'NaN', 'efficacy': 'NaN', 'total_duration': 170}}, 295316: {'Zoloft': {'adherence': u'Always', 'final_dose': 150.0, 'side_effects': u'None', 'efficacy': u'Major', 'total_duration': 84}}, 76088: {u'Cymbalta': {'adherence': u'Always', 'final_dose': 60.0, 'side_effects': u'None', 'efficacy': u'Moderate', 'total_duration': 155}}, 2906: {u'Lexapro': {'adherence': 'NaN', 'final_dose': 0.5, 'side_effects': 'NaN', 'efficacy': 'NaN', 'total_duration': 93}}, 65628: {u'Cymbalta': {'adherence': 'NaN', 'final_dose': 120.0, 'side_effects': 'NaN', 'efficacy': 'NaN', 'total_duration': 104}}, 129098: {u'Lexapro': {'adherence': 'NaN', 'final_dose': 20.0, 'side_effects': 'NaN', 'efficacy': 'NaN', 'total_duration': 42}}, 134942: {u'Lexapro': {'adherence': 'NaN', 'final_dose': 20.0, 'side_effects': 'NaN', 'efficacy': 'NaN', 'total_duration': 33}}, 87903: {u'Lexapro': {'adherence': 'NaN', 'final_dose': 20.0, 'side_effects': 'NaN', 'efficacy': 'NaN', 'total_duration': 121}}}\n",
        "patient_id"
       ]
      },
      {
       "output_type": "stream",
       "stream": "stdout",
       "text": [
        " 122687\n",
        "NEW PATIENT id"
       ]
      },
      {
       "output_type": "stream",
       "stream": "stdout",
       "text": [
        " 122687\n",
        "data {24355: {u'Cymbalta': {'adherence': u'Always', 'final_dose': 120.0, 'side_effects': u'Mild', 'efficacy': u'Moderate', 'total_duration': 85}}, 72520: {'Zoloft': {}}, 121354: {'Zoloft': {'adherence': u'Always', 'final_dose': 75.0, 'side_effects': u'Mild', 'efficacy': u'Can', 'total_duration': 124}}, 239339: {u'Cymbalta': {'adherence': u'Always', 'final_dose': 60.0, 'side_effects': u'Moderate', 'efficacy': u'Moderate', 'total_duration': 69}}, 51884: {u'Cymbalta': {'adherence': 'NaN', 'final_dose': 120.0, 'side_effects': 'NaN', 'efficacy': 'NaN', 'total_duration': 75}}, 207438: {u'Lexapro': {'adherence': u'Always', 'final_dose': 30.0, 'side_effects': u'None', 'efficacy': u'Moderate', 'total_duration': 16}}, 164112: {u'Cymbalta': {'adherence': 'NaN', 'final_dose': 90.0, 'side_effects': 'NaN', 'efficacy': 'NaN', 'total_duration': 39}}, 48593: {'Zoloft': {'adherence': 'NaN', 'final_dose': 200.0, 'side_effects': 'NaN', 'efficacy': 'NaN', 'total_duration': 170}}, 295316: {'Zoloft': {'adherence': u'Always', 'final_dose': 150.0, 'side_effects': u'None', 'efficacy': u'Major', 'total_duration': 84}}, 76088: {u'Cymbalta': {'adherence': u'Always', 'final_dose': 60.0, 'side_effects': u'None', 'efficacy': u'Moderate', 'total_duration': 155}}, 2906: {u'Lexapro': {'adherence': 'NaN', 'final_dose': 0.5, 'side_effects': 'NaN', 'efficacy': 'NaN', 'total_duration': 93}}, 122687: {u'Lexapro': {}}, 65628: {u'Cymbalta': {'adherence': 'NaN', 'final_dose': 120.0, 'side_effects': 'NaN', 'efficacy': 'NaN', 'total_duration': 104}}, 129098: {u'Lexapro': {'adherence': 'NaN', 'final_dose': 20.0, 'side_effects': 'NaN', 'efficacy': 'NaN', 'total_duration': 42}}, 134942: {u'Lexapro': {'adherence': 'NaN', 'final_dose': 20.0, 'side_effects': 'NaN', 'efficacy': 'NaN', 'total_duration': 33}}, 87903: {u'Lexapro': {'adherence': 'NaN', 'final_dose': 20.0, 'side_effects': 'NaN', 'efficacy': 'NaN', 'total_duration': 121}}}\n",
        "In patient info function\n",
        "5"
       ]
      },
      {
       "output_type": "stream",
       "stream": "stdout",
       "text": [
        " 2011 last month, last year\n",
        "num symptoms"
       ]
      },
      {
       "output_type": "stream",
       "stream": "stdout",
       "text": [
        " 12\n",
        "Success, 'All Symptoms' clicked"
       ]
      },
      {
       "output_type": "stream",
       "stream": "stdout",
       "text": [
        "\n",
        "Success: Gone to drug page (Brand name found)"
       ]
      },
      {
       "output_type": "stream",
       "stream": "stdout",
       "text": [
        "\n",
        "[u'20', u'mg', u'Daily', u'Dec', u'01,', u'2010', u'-', u'Last', u'Update']"
       ]
      },
      {
       "output_type": "stream",
       "stream": "stdout",
       "text": [
        " Dec\n",
        "span is current\n",
        "[u'20', u'mg', u'Daily', u'Dec', u'01,', u'2010', u'-', u'Last', u'Update'] 12 5 2010 2011\n",
        "{24355: {u'Cymbalta': {'adherence': u'Always', 'final_dose': 120.0, 'side_effects': u'Mild', 'efficacy': u'Moderate', 'total_duration': 85}}, 72520: {'Zoloft': {}}, 121354: {'Zoloft': {'adherence': u'Always', 'final_dose': 75.0, 'side_effects': u'Mild', 'efficacy': u'Can', 'total_duration': 124}}, 239339: {u'Cymbalta': {'adherence': u'Always', 'final_dose': 60.0, 'side_effects': u'Moderate', 'efficacy': u'Moderate', 'total_duration': 69}}, 51884: {u'Cymbalta': {'adherence': 'NaN', 'final_dose': 120.0, 'side_effects': 'NaN', 'efficacy': 'NaN', 'total_duration': 75}}, 207438: {u'Lexapro': {'adherence': u'Always', 'final_dose': 30.0, 'side_effects': u'None', 'efficacy': u'Moderate', 'total_duration': 16}}, 164112: {u'Cymbalta': {'adherence': 'NaN', 'final_dose': 90.0, 'side_effects': 'NaN', 'efficacy': 'NaN', 'total_duration': 39}}, 48593: {'Zoloft': {'adherence': 'NaN', 'final_dose': 200.0, 'side_effects': 'NaN', 'efficacy': 'NaN', 'total_duration': 170}}, 295316: {'Zoloft': {'adherence': u'Always', 'final_dose': 150.0, 'side_effects': u'None', 'efficacy': u'Major', 'total_duration': 84}}, 76088: {u'Cymbalta': {'adherence': u'Always', 'final_dose': 60.0, 'side_effects': u'None', 'efficacy': u'Moderate', 'total_duration': 155}}, 2906: {u'Lexapro': {'adherence': 'NaN', 'final_dose': 0.5, 'side_effects': 'NaN', 'efficacy': 'NaN', 'total_duration': 93}}, 122687: {u'Lexapro': {'adherence': u'Always', 'final_dose': 20.0, 'side_effects': u'Moderate', 'efficacy': u'Major', 'total_duration': 5}}, 65628: {u'Cymbalta': {'adherence': 'NaN', 'final_dose': 120.0, 'side_effects': 'NaN', 'efficacy': 'NaN', 'total_duration': 104}}, 129098: {u'Lexapro': {'adherence': 'NaN', 'final_dose': 20.0, 'side_effects': 'NaN', 'efficacy': 'NaN', 'total_duration': 42}}, 134942: {u'Lexapro': {'adherence': 'NaN', 'final_dose': 20.0, 'side_effects': 'NaN', 'efficacy': 'NaN', 'total_duration': 33}}, 87903: {u'Lexapro': {'adherence': 'NaN', 'final_dose': 20.0, 'side_effects': 'NaN', 'efficacy': 'NaN', 'total_duration': 121}}}"
       ]
      },
      {
       "output_type": "stream",
       "stream": "stdout",
       "text": [
        "\n",
        "took too much time"
       ]
      },
      {
       "output_type": "stream",
       "stream": "stdout",
       "text": [
        "\n",
        "Error: could not go to next set of patients\n",
        "Citalopram"
       ]
      },
      {
       "output_type": "stream",
       "stream": "stdout",
       "text": [
        "\n",
        "patient_id"
       ]
      },
      {
       "output_type": "stream",
       "stream": "stdout",
       "text": [
        " 409335\n",
        "NEW PATIENT id"
       ]
      },
      {
       "output_type": "stream",
       "stream": "stdout",
       "text": [
        " 409335\n",
        "data {24355: {u'Cymbalta': {'adherence': u'Always', 'final_dose': 120.0, 'side_effects': u'Mild', 'efficacy': u'Moderate', 'total_duration': 85}}, 72520: {'Zoloft': {}}, 121354: {'Zoloft': {'adherence': u'Always', 'final_dose': 75.0, 'side_effects': u'Mild', 'efficacy': u'Can', 'total_duration': 124}}, 239339: {u'Cymbalta': {'adherence': u'Always', 'final_dose': 60.0, 'side_effects': u'Moderate', 'efficacy': u'Moderate', 'total_duration': 69}}, 51884: {u'Cymbalta': {'adherence': 'NaN', 'final_dose': 120.0, 'side_effects': 'NaN', 'efficacy': 'NaN', 'total_duration': 75}}, 207438: {u'Lexapro': {'adherence': u'Always', 'final_dose': 30.0, 'side_effects': u'None', 'efficacy': u'Moderate', 'total_duration': 16}}, 164112: {u'Cymbalta': {'adherence': 'NaN', 'final_dose': 90.0, 'side_effects': 'NaN', 'efficacy': 'NaN', 'total_duration': 39}}, 48593: {'Zoloft': {'adherence': 'NaN', 'final_dose': 200.0, 'side_effects': 'NaN', 'efficacy': 'NaN', 'total_duration': 170}}, 295316: {'Zoloft': {'adherence': u'Always', 'final_dose': 150.0, 'side_effects': u'None', 'efficacy': u'Major', 'total_duration': 84}}, 409335: {'Celexa': {}}, 76088: {u'Cymbalta': {'adherence': u'Always', 'final_dose': 60.0, 'side_effects': u'None', 'efficacy': u'Moderate', 'total_duration': 155}}, 2906: {u'Lexapro': {'adherence': 'NaN', 'final_dose': 0.5, 'side_effects': 'NaN', 'efficacy': 'NaN', 'total_duration': 93}}, 122687: {u'Lexapro': {'adherence': u'Always', 'final_dose': 20.0, 'side_effects': u'Moderate', 'efficacy': u'Major', 'total_duration': 5}}, 65628: {u'Cymbalta': {'adherence': 'NaN', 'final_dose': 120.0, 'side_effects': 'NaN', 'efficacy': 'NaN', 'total_duration': 104}}, 129098: {u'Lexapro': {'adherence': 'NaN', 'final_dose': 20.0, 'side_effects': 'NaN', 'efficacy': 'NaN', 'total_duration': 42}}, 134942: {u'Lexapro': {'adherence': 'NaN', 'final_dose': 20.0, 'side_effects': 'NaN', 'efficacy': 'NaN', 'total_duration': 33}}, 87903: {u'Lexapro': {'adherence': 'NaN', 'final_dose': 20.0, 'side_effects': 'NaN', 'efficacy': 'NaN', 'total_duration': 121}}}\n",
        "In patient info function\n",
        "6"
       ]
      },
      {
       "output_type": "stream",
       "stream": "stdout",
       "text": [
        " 2015 last month, last year\n",
        "num symptoms"
       ]
      },
      {
       "output_type": "stream",
       "stream": "stdout",
       "text": [
        " 22\n",
        "Success, 'All Symptoms' clicked"
       ]
      },
      {
       "output_type": "stream",
       "stream": "stdout",
       "text": [
        "\n",
        "Drug Celexa not found, trying generic\n",
        "Success: Generic drug"
       ]
      },
      {
       "output_type": "stream",
       "stream": "stdout",
       "text": [
        " Citalopram found\n",
        "[u'20', u'mg', u'Daily', u'Jul', u'01', u'-', u'01,', u'2003']"
       ]
      },
      {
       "output_type": "stream",
       "stream": "stdout",
       "text": [
        " Jul\n",
        "it's an int, span is less than one month\n",
        "[u'20', u'mg', u'Daily', u'Jul', u'01', u'-', u'01,', u'2003'] 7 7 0 0\n",
        "[u'30', u'mg', u'Daily', u'Jul', u'01,', u'2003', u'-', u'Last', u'Update'] Jul\n",
        "span is current\n",
        "[u'30', u'mg', u'Daily', u'Jul', u'01,', u'2003', u'-', u'Last', u'Update'] 7 6 2003 2015\n",
        "{24355: {u'Cymbalta': {'adherence': u'Always', 'final_dose': 120.0, 'side_effects': u'Mild', 'efficacy': u'Moderate', 'total_duration': 85}}, 72520: {'Zoloft': {}}, 121354: {'Zoloft': {'adherence': u'Always', 'final_dose': 75.0, 'side_effects': u'Mild', 'efficacy': u'Can', 'total_duration': 124}}, 239339: {u'Cymbalta': {'adherence': u'Always', 'final_dose': 60.0, 'side_effects': u'Moderate', 'efficacy': u'Moderate', 'total_duration': 69}}, 51884: {u'Cymbalta': {'adherence': 'NaN', 'final_dose': 120.0, 'side_effects': 'NaN', 'efficacy': 'NaN', 'total_duration': 75}}, 207438: {u'Lexapro': {'adherence': u'Always', 'final_dose': 30.0, 'side_effects': u'None', 'efficacy': u'Moderate', 'total_duration': 16}}, 164112: {u'Cymbalta': {'adherence': 'NaN', 'final_dose': 90.0, 'side_effects': 'NaN', 'efficacy': 'NaN', 'total_duration': 39}}, 48593: {'Zoloft': {'adherence': 'NaN', 'final_dose': 200.0, 'side_effects': 'NaN', 'efficacy': 'NaN', 'total_duration': 170}}, 295316: {'Zoloft': {'adherence': u'Always', 'final_dose': 150.0, 'side_effects': u'None', 'efficacy': u'Major', 'total_duration': 84}}, 409335: {'Celexa': {'adherence': 'NaN', 'final_dose': 30.0, 'side_effects': 'NaN', 'efficacy': 'NaN', 'total_duration': 143}}, 76088: {u'Cymbalta': {'adherence': u'Always', 'final_dose': 60.0, 'side_effects': u'None', 'efficacy': u'Moderate', 'total_duration': 155}}, 2906: {u'Lexapro': {'adherence': 'NaN', 'final_dose': 0.5, 'side_effects': 'NaN', 'efficacy': 'NaN', 'total_duration': 93}}, 122687: {u'Lexapro': {'adherence': u'Always', 'final_dose': 20.0, 'side_effects': u'Moderate', 'efficacy': u'Major', 'total_duration': 5}}, 65628: {u'Cymbalta': {'adherence': 'NaN', 'final_dose': 120.0, 'side_effects': 'NaN', 'efficacy': 'NaN', 'total_duration': 104}}, 129098: {u'Lexapro': {'adherence': 'NaN', 'final_dose': 20.0, 'side_effects': 'NaN', 'efficacy': 'NaN', 'total_duration': 42}}, 134942: {u'Lexapro': {'adherence': 'NaN', 'final_dose': 20.0, 'side_effects': 'NaN', 'efficacy': 'NaN', 'total_duration': 33}}, 87903: {u'Lexapro': {'adherence': 'NaN', 'final_dose': 20.0, 'side_effects': 'NaN', 'efficacy': 'NaN', 'total_duration': 121}}}\n",
        "patient_id"
       ]
      },
      {
       "output_type": "stream",
       "stream": "stdout",
       "text": [
        " 97999\n",
        "NEW PATIENT id"
       ]
      },
      {
       "output_type": "stream",
       "stream": "stdout",
       "text": [
        " 97999\n",
        "data {24355: {u'Cymbalta': {'adherence': u'Always', 'final_dose': 120.0, 'side_effects': u'Mild', 'efficacy': u'Moderate', 'total_duration': 85}}, 72520: {'Zoloft': {}}, 121354: {'Zoloft': {'adherence': u'Always', 'final_dose': 75.0, 'side_effects': u'Mild', 'efficacy': u'Can', 'total_duration': 124}}, 239339: {u'Cymbalta': {'adherence': u'Always', 'final_dose': 60.0, 'side_effects': u'Moderate', 'efficacy': u'Moderate', 'total_duration': 69}}, 51884: {u'Cymbalta': {'adherence': 'NaN', 'final_dose': 120.0, 'side_effects': 'NaN', 'efficacy': 'NaN', 'total_duration': 75}}, 207438: {u'Lexapro': {'adherence': u'Always', 'final_dose': 30.0, 'side_effects': u'None', 'efficacy': u'Moderate', 'total_duration': 16}}, 97999: {'Celexa': {}}, 164112: {u'Cymbalta': {'adherence': 'NaN', 'final_dose': 90.0, 'side_effects': 'NaN', 'efficacy': 'NaN', 'total_duration': 39}}, 48593: {'Zoloft': {'adherence': 'NaN', 'final_dose': 200.0, 'side_effects': 'NaN', 'efficacy': 'NaN', 'total_duration': 170}}, 295316: {'Zoloft': {'adherence': u'Always', 'final_dose': 150.0, 'side_effects': u'None', 'efficacy': u'Major', 'total_duration': 84}}, 409335: {'Celexa': {'adherence': 'NaN', 'final_dose': 30.0, 'side_effects': 'NaN', 'efficacy': 'NaN', 'total_duration': 143}}, 76088: {u'Cymbalta': {'adherence': u'Always', 'final_dose': 60.0, 'side_effects': u'None', 'efficacy': u'Moderate', 'total_duration': 155}}, 2906: {u'Lexapro': {'adherence': 'NaN', 'final_dose': 0.5, 'side_effects': 'NaN', 'efficacy': 'NaN', 'total_duration': 93}}, 122687: {u'Lexapro': {'adherence': u'Always', 'final_dose': 20.0, 'side_effects': u'Moderate', 'efficacy': u'Major', 'total_duration': 5}}, 65628: {u'Cymbalta': {'adherence': 'NaN', 'final_dose': 120.0, 'side_effects': 'NaN', 'efficacy': 'NaN', 'total_duration': 104}}, 129098: {u'Lexapro': {'adherence': 'NaN', 'final_dose': 20.0, 'side_effects': 'NaN', 'efficacy': 'NaN', 'total_duration': 42}}, 134942: {u'Lexapro': {'adherence': 'NaN', 'final_dose': 20.0, 'side_effects': 'NaN', 'efficacy': 'NaN', 'total_duration': 33}}, 87903: {u'Lexapro': {'adherence': 'NaN', 'final_dose': 20.0, 'side_effects': 'NaN', 'efficacy': 'NaN', 'total_duration': 121}}}\n",
        "In patient info function\n",
        "6"
       ]
      },
      {
       "output_type": "stream",
       "stream": "stdout",
       "text": [
        " 2015 last month, last year\n",
        "num symptoms"
       ]
      },
      {
       "output_type": "stream",
       "stream": "stdout",
       "text": [
        " 35\n",
        "Success, 'All Symptoms' clicked"
       ]
      },
      {
       "output_type": "stream",
       "stream": "stdout",
       "text": [
        "\n",
        "Drug Celexa not found, trying generic\n",
        "Success: Generic drug"
       ]
      },
      {
       "output_type": "stream",
       "stream": "stdout",
       "text": [
        " Citalopram found\n",
        "[u'20', u'mg', u'Daily', u'Jan', u'07,', u'2006', u'-', u'Jan', u'10,', u'2009']"
       ]
      },
      {
       "output_type": "stream",
       "stream": "stdout",
       "text": [
        " Jan\n",
        "[u'20', u'mg', u'Daily', u'Jan', u'07,', u'2006', u'-', u'Jan', u'10,', u'2009'] 1 1 2006 2009\n",
        "[u'40', u'mg', u'Daily', u'Jan', u'10,', u'2009', u'-', u'Nov', u'09,', u'2012'] Jan\n",
        "[u'40', u'mg', u'Daily', u'Jan', u'10,', u'2009', u'-', u'Nov', u'09,', u'2012'] 1 11 2009 2012\n",
        "[u'20', u'mg', u'Daily', u'Nov', u'09,', u'2012', u'-', u'Last', u'Update'] Nov\n",
        "span is current\n",
        "[u'20', u'mg', u'Daily', u'Nov', u'09,', u'2012', u'-', u'Last', u'Update'] 11 6 2012 2015\n",
        "{24355: {u'Cymbalta': {'adherence': u'Always', 'final_dose': 120.0, 'side_effects': u'Mild', 'efficacy': u'Moderate', 'total_duration': 85}}, 72520: {'Zoloft': {}}, 121354: {'Zoloft': {'adherence': u'Always', 'final_dose': 75.0, 'side_effects': u'Mild', 'efficacy': u'Can', 'total_duration': 124}}, 239339: {u'Cymbalta': {'adherence': u'Always', 'final_dose': 60.0, 'side_effects': u'Moderate', 'efficacy': u'Moderate', 'total_duration': 69}}, 51884: {u'Cymbalta': {'adherence': 'NaN', 'final_dose': 120.0, 'side_effects': 'NaN', 'efficacy': 'NaN', 'total_duration': 75}}, 207438: {u'Lexapro': {'adherence': u'Always', 'final_dose': 30.0, 'side_effects': u'None', 'efficacy': u'Moderate', 'total_duration': 16}}, 97999: {'Celexa': {'adherence': u'Always', 'final_dose': 20.0, 'side_effects': u'None', 'efficacy': u'Moderate', 'total_duration': 113}}, 164112: {u'Cymbalta': {'adherence': 'NaN', 'final_dose': 90.0, 'side_effects': 'NaN', 'efficacy': 'NaN', 'total_duration': 39}}, 48593: {'Zoloft': {'adherence': 'NaN', 'final_dose': 200.0, 'side_effects': 'NaN', 'efficacy': 'NaN', 'total_duration': 170}}, 295316: {'Zoloft': {'adherence': u'Always', 'final_dose': 150.0, 'side_effects': u'None', 'efficacy': u'Major', 'total_duration': 84}}, 409335: {'Celexa': {'adherence': 'NaN', 'final_dose': 30.0, 'side_effects': 'NaN', 'efficacy': 'NaN', 'total_duration': 143}}, 76088: {u'Cymbalta': {'adherence': u'Always', 'final_dose': 60.0, 'side_effects': u'None', 'efficacy': u'Moderate', 'total_duration': 155}}, 2906: {u'Lexapro': {'adherence': 'NaN', 'final_dose': 0.5, 'side_effects': 'NaN', 'efficacy': 'NaN', 'total_duration': 93}}, 122687: {u'Lexapro': {'adherence': u'Always', 'final_dose': 20.0, 'side_effects': u'Moderate', 'efficacy': u'Major', 'total_duration': 5}}, 65628: {u'Cymbalta': {'adherence': 'NaN', 'final_dose': 120.0, 'side_effects': 'NaN', 'efficacy': 'NaN', 'total_duration': 104}}, 129098: {u'Lexapro': {'adherence': 'NaN', 'final_dose': 20.0, 'side_effects': 'NaN', 'efficacy': 'NaN', 'total_duration': 42}}, 134942: {u'Lexapro': {'adherence': 'NaN', 'final_dose': 20.0, 'side_effects': 'NaN', 'efficacy': 'NaN', 'total_duration': 33}}, 87903: {u'Lexapro': {'adherence': 'NaN', 'final_dose': 20.0, 'side_effects': 'NaN', 'efficacy': 'NaN', 'total_duration': 121}}}"
       ]
      },
      {
       "output_type": "stream",
       "stream": "stdout",
       "text": [
        "\n",
        "patient_id"
       ]
      },
      {
       "output_type": "stream",
       "stream": "stdout",
       "text": [
        " 84817\n",
        "NEW PATIENT id"
       ]
      },
      {
       "output_type": "stream",
       "stream": "stdout",
       "text": [
        " 84817\n",
        "data {24355: {u'Cymbalta': {'adherence': u'Always', 'final_dose': 120.0, 'side_effects': u'Mild', 'efficacy': u'Moderate', 'total_duration': 85}}, 84817: {'Celexa': {}}, 72520: {'Zoloft': {}}, 121354: {'Zoloft': {'adherence': u'Always', 'final_dose': 75.0, 'side_effects': u'Mild', 'efficacy': u'Can', 'total_duration': 124}}, 239339: {u'Cymbalta': {'adherence': u'Always', 'final_dose': 60.0, 'side_effects': u'Moderate', 'efficacy': u'Moderate', 'total_duration': 69}}, 51884: {u'Cymbalta': {'adherence': 'NaN', 'final_dose': 120.0, 'side_effects': 'NaN', 'efficacy': 'NaN', 'total_duration': 75}}, 207438: {u'Lexapro': {'adherence': u'Always', 'final_dose': 30.0, 'side_effects': u'None', 'efficacy': u'Moderate', 'total_duration': 16}}, 97999: {'Celexa': {'adherence': u'Always', 'final_dose': 20.0, 'side_effects': u'None', 'efficacy': u'Moderate', 'total_duration': 113}}, 164112: {u'Cymbalta': {'adherence': 'NaN', 'final_dose': 90.0, 'side_effects': 'NaN', 'efficacy': 'NaN', 'total_duration': 39}}, 48593: {'Zoloft': {'adherence': 'NaN', 'final_dose': 200.0, 'side_effects': 'NaN', 'efficacy': 'NaN', 'total_duration': 170}}, 295316: {'Zoloft': {'adherence': u'Always', 'final_dose': 150.0, 'side_effects': u'None', 'efficacy': u'Major', 'total_duration': 84}}, 409335: {'Celexa': {'adherence': 'NaN', 'final_dose': 30.0, 'side_effects': 'NaN', 'efficacy': 'NaN', 'total_duration': 143}}, 76088: {u'Cymbalta': {'adherence': u'Always', 'final_dose': 60.0, 'side_effects': u'None', 'efficacy': u'Moderate', 'total_duration': 155}}, 2906: {u'Lexapro': {'adherence': 'NaN', 'final_dose': 0.5, 'side_effects': 'NaN', 'efficacy': 'NaN', 'total_duration': 93}}, 122687: {u'Lexapro': {'adherence': u'Always', 'final_dose': 20.0, 'side_effects': u'Moderate', 'efficacy': u'Major', 'total_duration': 5}}, 65628: {u'Cymbalta': {'adherence': 'NaN', 'final_dose': 120.0, 'side_effects': 'NaN', 'efficacy': 'NaN', 'total_duration': 104}}, 129098: {u'Lexapro': {'adherence': 'NaN', 'final_dose': 20.0, 'side_effects': 'NaN', 'efficacy': 'NaN', 'total_duration': 42}}, 134942: {u'Lexapro': {'adherence': 'NaN', 'final_dose': 20.0, 'side_effects': 'NaN', 'efficacy': 'NaN', 'total_duration': 33}}, 87903: {u'Lexapro': {'adherence': 'NaN', 'final_dose': 20.0, 'side_effects': 'NaN', 'efficacy': 'NaN', 'total_duration': 121}}}\n",
        "In patient info function\n",
        "6"
       ]
      },
      {
       "output_type": "stream",
       "stream": "stdout",
       "text": [
        " 2015 last month, last year\n",
        "num symptoms"
       ]
      },
      {
       "output_type": "stream",
       "stream": "stdout",
       "text": [
        " 6\n",
        "Success, 'All Symptoms' clicked"
       ]
      },
      {
       "output_type": "stream",
       "stream": "stdout",
       "text": [
        "\n",
        "Drug Celexa not found, trying generic\n",
        "Success: Generic drug"
       ]
      },
      {
       "output_type": "stream",
       "stream": "stdout",
       "text": [
        " Citalopram found\n",
        "[u'10', u'mg/5', u'mL', u'Daily', u'Nov', u'01', u'-', u'09,', u'2009']"
       ]
      },
      {
       "output_type": "stream",
       "stream": "stdout",
       "text": [
        " Nov\n",
        "it's an int, span is less than one month\n",
        "[u'10', u'mg/5', u'mL', u'Daily', u'Nov', u'01', u'-', u'09,', u'2009'] 11 11 0 0\n",
        "[u'20', u'mg', u'Daily', u'Nov', u'09,', u'2009', u'-', u'Last', u'Update'] Nov\n",
        "span is current\n",
        "[u'20', u'mg', u'Daily', u'Nov', u'09,', u'2009', u'-', u'Last', u'Update'] 11 6 2009 2015\n",
        "{24355: {u'Cymbalta': {'adherence': u'Always', 'final_dose': 120.0, 'side_effects': u'Mild', 'efficacy': u'Moderate', 'total_duration': 85}}, 84817: {'Celexa': {'adherence': 'NaN', 'final_dose': 20.0, 'side_effects': 'NaN', 'efficacy': 'NaN', 'total_duration': 67}}, 72520: {'Zoloft': {}}, 121354: {'Zoloft': {'adherence': u'Always', 'final_dose': 75.0, 'side_effects': u'Mild', 'efficacy': u'Can', 'total_duration': 124}}, 239339: {u'Cymbalta': {'adherence': u'Always', 'final_dose': 60.0, 'side_effects': u'Moderate', 'efficacy': u'Moderate', 'total_duration': 69}}, 51884: {u'Cymbalta': {'adherence': 'NaN', 'final_dose': 120.0, 'side_effects': 'NaN', 'efficacy': 'NaN', 'total_duration': 75}}, 207438: {u'Lexapro': {'adherence': u'Always', 'final_dose': 30.0, 'side_effects': u'None', 'efficacy': u'Moderate', 'total_duration': 16}}, 97999: {'Celexa': {'adherence': u'Always', 'final_dose': 20.0, 'side_effects': u'None', 'efficacy': u'Moderate', 'total_duration': 113}}, 164112: {u'Cymbalta': {'adherence': 'NaN', 'final_dose': 90.0, 'side_effects': 'NaN', 'efficacy': 'NaN', 'total_duration': 39}}, 48593: {'Zoloft': {'adherence': 'NaN', 'final_dose': 200.0, 'side_effects': 'NaN', 'efficacy': 'NaN', 'total_duration': 170}}, 295316: {'Zoloft': {'adherence': u'Always', 'final_dose': 150.0, 'side_effects': u'None', 'efficacy': u'Major', 'total_duration': 84}}, 409335: {'Celexa': {'adherence': 'NaN', 'final_dose': 30.0, 'side_effects': 'NaN', 'efficacy': 'NaN', 'total_duration': 143}}, 76088: {u'Cymbalta': {'adherence': u'Always', 'final_dose': 60.0, 'side_effects': u'None', 'efficacy': u'Moderate', 'total_duration': 155}}, 2906: {u'Lexapro': {'adherence': 'NaN', 'final_dose': 0.5, 'side_effects': 'NaN', 'efficacy': 'NaN', 'total_duration': 93}}, 122687: {u'Lexapro': {'adherence': u'Always', 'final_dose': 20.0, 'side_effects': u'Moderate', 'efficacy': u'Major', 'total_duration': 5}}, 65628: {u'Cymbalta': {'adherence': 'NaN', 'final_dose': 120.0, 'side_effects': 'NaN', 'efficacy': 'NaN', 'total_duration': 104}}, 129098: {u'Lexapro': {'adherence': 'NaN', 'final_dose': 20.0, 'side_effects': 'NaN', 'efficacy': 'NaN', 'total_duration': 42}}, 134942: {u'Lexapro': {'adherence': 'NaN', 'final_dose': 20.0, 'side_effects': 'NaN', 'efficacy': 'NaN', 'total_duration': 33}}, 87903: {u'Lexapro': {'adherence': 'NaN', 'final_dose': 20.0, 'side_effects': 'NaN', 'efficacy': 'NaN', 'total_duration': 121}}}\n",
        "patient_id"
       ]
      },
      {
       "output_type": "stream",
       "stream": "stdout",
       "text": [
        " 41850\n",
        "NEW PATIENT id"
       ]
      },
      {
       "output_type": "stream",
       "stream": "stdout",
       "text": [
        " 41850\n",
        "data {24355: {u'Cymbalta': {'adherence': u'Always', 'final_dose': 120.0, 'side_effects': u'Mild', 'efficacy': u'Moderate', 'total_duration': 85}}, 84817: {'Celexa': {'adherence': 'NaN', 'final_dose': 20.0, 'side_effects': 'NaN', 'efficacy': 'NaN', 'total_duration': 67}}, 72520: {'Zoloft': {}}, 121354: {'Zoloft': {'adherence': u'Always', 'final_dose': 75.0, 'side_effects': u'Mild', 'efficacy': u'Can', 'total_duration': 124}}, 239339: {u'Cymbalta': {'adherence': u'Always', 'final_dose': 60.0, 'side_effects': u'Moderate', 'efficacy': u'Moderate', 'total_duration': 69}}, 51884: {u'Cymbalta': {'adherence': 'NaN', 'final_dose': 120.0, 'side_effects': 'NaN', 'efficacy': 'NaN', 'total_duration': 75}}, 41850: {'Celexa': {}}, 207438: {u'Lexapro': {'adherence': u'Always', 'final_dose': 30.0, 'side_effects': u'None', 'efficacy': u'Moderate', 'total_duration': 16}}, 97999: {'Celexa': {'adherence': u'Always', 'final_dose': 20.0, 'side_effects': u'None', 'efficacy': u'Moderate', 'total_duration': 113}}, 164112: {u'Cymbalta': {'adherence': 'NaN', 'final_dose': 90.0, 'side_effects': 'NaN', 'efficacy': 'NaN', 'total_duration': 39}}, 48593: {'Zoloft': {'adherence': 'NaN', 'final_dose': 200.0, 'side_effects': 'NaN', 'efficacy': 'NaN', 'total_duration': 170}}, 295316: {'Zoloft': {'adherence': u'Always', 'final_dose': 150.0, 'side_effects': u'None', 'efficacy': u'Major', 'total_duration': 84}}, 409335: {'Celexa': {'adherence': 'NaN', 'final_dose': 30.0, 'side_effects': 'NaN', 'efficacy': 'NaN', 'total_duration': 143}}, 76088: {u'Cymbalta': {'adherence': u'Always', 'final_dose': 60.0, 'side_effects': u'None', 'efficacy': u'Moderate', 'total_duration': 155}}, 2906: {u'Lexapro': {'adherence': 'NaN', 'final_dose': 0.5, 'side_effects': 'NaN', 'efficacy': 'NaN', 'total_duration': 93}}, 122687: {u'Lexapro': {'adherence': u'Always', 'final_dose': 20.0, 'side_effects': u'Moderate', 'efficacy': u'Major', 'total_duration': 5}}, 65628: {u'Cymbalta': {'adherence': 'NaN', 'final_dose': 120.0, 'side_effects': 'NaN', 'efficacy': 'NaN', 'total_duration': 104}}, 129098: {u'Lexapro': {'adherence': 'NaN', 'final_dose': 20.0, 'side_effects': 'NaN', 'efficacy': 'NaN', 'total_duration': 42}}, 134942: {u'Lexapro': {'adherence': 'NaN', 'final_dose': 20.0, 'side_effects': 'NaN', 'efficacy': 'NaN', 'total_duration': 33}}, 87903: {u'Lexapro': {'adherence': 'NaN', 'final_dose': 20.0, 'side_effects': 'NaN', 'efficacy': 'NaN', 'total_duration': 121}}}\n",
        "In patient info function\n",
        "12"
       ]
      },
      {
       "output_type": "stream",
       "stream": "stdout",
       "text": [
        " 2014 last month, last year\n",
        "num symptoms"
       ]
      },
      {
       "output_type": "stream",
       "stream": "stdout",
       "text": [
        " 11\n",
        "Success, 'All Symptoms' clicked"
       ]
      },
      {
       "output_type": "stream",
       "stream": "stdout",
       "text": [
        "\n",
        "Success: Gone to drug page (Brand name found)"
       ]
      },
      {
       "output_type": "stream",
       "stream": "stdout",
       "text": [
        "\n",
        "[u'40', u'mg', u'Daily', u'Jan', u'24,', u'2009', u'-', u'Last', u'Update']"
       ]
      },
      {
       "output_type": "stream",
       "stream": "stdout",
       "text": [
        " Jan\n",
        "span is current\n",
        "[u'40', u'mg', u'Daily', u'Jan', u'24,', u'2009', u'-', u'Last', u'Update'] 1 12 2009 2014\n",
        "{24355: {u'Cymbalta': {'adherence': u'Always', 'final_dose': 120.0, 'side_effects': u'Mild', 'efficacy': u'Moderate', 'total_duration': 85}}, 84817: {'Celexa': {'adherence': 'NaN', 'final_dose': 20.0, 'side_effects': 'NaN', 'efficacy': 'NaN', 'total_duration': 67}}, 72520: {'Zoloft': {}}, 121354: {'Zoloft': {'adherence': u'Always', 'final_dose': 75.0, 'side_effects': u'Mild', 'efficacy': u'Can', 'total_duration': 124}}, 239339: {u'Cymbalta': {'adherence': u'Always', 'final_dose': 60.0, 'side_effects': u'Moderate', 'efficacy': u'Moderate', 'total_duration': 69}}, 51884: {u'Cymbalta': {'adherence': 'NaN', 'final_dose': 120.0, 'side_effects': 'NaN', 'efficacy': 'NaN', 'total_duration': 75}}, 41850: {'Celexa': {'adherence': 'NaN', 'final_dose': 40.0, 'side_effects': 'NaN', 'efficacy': 'NaN', 'total_duration': 71}}, 207438: {u'Lexapro': {'adherence': u'Always', 'final_dose': 30.0, 'side_effects': u'None', 'efficacy': u'Moderate', 'total_duration': 16}}, 97999: {'Celexa': {'adherence': u'Always', 'final_dose': 20.0, 'side_effects': u'None', 'efficacy': u'Moderate', 'total_duration': 113}}, 164112: {u'Cymbalta': {'adherence': 'NaN', 'final_dose': 90.0, 'side_effects': 'NaN', 'efficacy': 'NaN', 'total_duration': 39}}, 48593: {'Zoloft': {'adherence': 'NaN', 'final_dose': 200.0, 'side_effects': 'NaN', 'efficacy': 'NaN', 'total_duration': 170}}, 295316: {'Zoloft': {'adherence': u'Always', 'final_dose': 150.0, 'side_effects': u'None', 'efficacy': u'Major', 'total_duration': 84}}, 409335: {'Celexa': {'adherence': 'NaN', 'final_dose': 30.0, 'side_effects': 'NaN', 'efficacy': 'NaN', 'total_duration': 143}}, 76088: {u'Cymbalta': {'adherence': u'Always', 'final_dose': 60.0, 'side_effects': u'None', 'efficacy': u'Moderate', 'total_duration': 155}}, 2906: {u'Lexapro': {'adherence': 'NaN', 'final_dose': 0.5, 'side_effects': 'NaN', 'efficacy': 'NaN', 'total_duration': 93}}, 122687: {u'Lexapro': {'adherence': u'Always', 'final_dose': 20.0, 'side_effects': u'Moderate', 'efficacy': u'Major', 'total_duration': 5}}, 65628: {u'Cymbalta': {'adherence': 'NaN', 'final_dose': 120.0, 'side_effects': 'NaN', 'efficacy': 'NaN', 'total_duration': 104}}, 129098: {u'Lexapro': {'adherence': 'NaN', 'final_dose': 20.0, 'side_effects': 'NaN', 'efficacy': 'NaN', 'total_duration': 42}}, 134942: {u'Lexapro': {'adherence': 'NaN', 'final_dose': 20.0, 'side_effects': 'NaN', 'efficacy': 'NaN', 'total_duration': 33}}, 87903: {u'Lexapro': {'adherence': 'NaN', 'final_dose': 20.0, 'side_effects': 'NaN', 'efficacy': 'NaN', 'total_duration': 121}}}\n",
        "patient_id"
       ]
      },
      {
       "output_type": "stream",
       "stream": "stdout",
       "text": [
        " 11766\n",
        "NEW PATIENT id"
       ]
      },
      {
       "output_type": "stream",
       "stream": "stdout",
       "text": [
        " 11766\n",
        "data {24355: {u'Cymbalta': {'adherence': u'Always', 'final_dose': 120.0, 'side_effects': u'Mild', 'efficacy': u'Moderate', 'total_duration': 85}}, 84817: {'Celexa': {'adherence': 'NaN', 'final_dose': 20.0, 'side_effects': 'NaN', 'efficacy': 'NaN', 'total_duration': 67}}, 72520: {'Zoloft': {}}, 121354: {'Zoloft': {'adherence': u'Always', 'final_dose': 75.0, 'side_effects': u'Mild', 'efficacy': u'Can', 'total_duration': 124}}, 239339: {u'Cymbalta': {'adherence': u'Always', 'final_dose': 60.0, 'side_effects': u'Moderate', 'efficacy': u'Moderate', 'total_duration': 69}}, 51884: {u'Cymbalta': {'adherence': 'NaN', 'final_dose': 120.0, 'side_effects': 'NaN', 'efficacy': 'NaN', 'total_duration': 75}}, 41850: {'Celexa': {'adherence': 'NaN', 'final_dose': 40.0, 'side_effects': 'NaN', 'efficacy': 'NaN', 'total_duration': 71}}, 207438: {u'Lexapro': {'adherence': u'Always', 'final_dose': 30.0, 'side_effects': u'None', 'efficacy': u'Moderate', 'total_duration': 16}}, 97999: {'Celexa': {'adherence': u'Always', 'final_dose': 20.0, 'side_effects': u'None', 'efficacy': u'Moderate', 'total_duration': 113}}, 164112: {u'Cymbalta': {'adherence': 'NaN', 'final_dose': 90.0, 'side_effects': 'NaN', 'efficacy': 'NaN', 'total_duration': 39}}, 48593: {'Zoloft': {'adherence': 'NaN', 'final_dose': 200.0, 'side_effects': 'NaN', 'efficacy': 'NaN', 'total_duration': 170}}, 295316: {'Zoloft': {'adherence': u'Always', 'final_dose': 150.0, 'side_effects': u'None', 'efficacy': u'Major', 'total_duration': 84}}, 11766: {'Celexa': {}}, 409335: {'Celexa': {'adherence': 'NaN', 'final_dose': 30.0, 'side_effects': 'NaN', 'efficacy': 'NaN', 'total_duration': 143}}, 76088: {u'Cymbalta': {'adherence': u'Always', 'final_dose': 60.0, 'side_effects': u'None', 'efficacy': u'Moderate', 'total_duration': 155}}, 2906: {u'Lexapro': {'adherence': 'NaN', 'final_dose': 0.5, 'side_effects': 'NaN', 'efficacy': 'NaN', 'total_duration': 93}}, 122687: {u'Lexapro': {'adherence': u'Always', 'final_dose': 20.0, 'side_effects': u'Moderate', 'efficacy': u'Major', 'total_duration': 5}}, 65628: {u'Cymbalta': {'adherence': 'NaN', 'final_dose': 120.0, 'side_effects': 'NaN', 'efficacy': 'NaN', 'total_duration': 104}}, 129098: {u'Lexapro': {'adherence': 'NaN', 'final_dose': 20.0, 'side_effects': 'NaN', 'efficacy': 'NaN', 'total_duration': 42}}, 134942: {u'Lexapro': {'adherence': 'NaN', 'final_dose': 20.0, 'side_effects': 'NaN', 'efficacy': 'NaN', 'total_duration': 33}}, 87903: {u'Lexapro': {'adherence': 'NaN', 'final_dose': 20.0, 'side_effects': 'NaN', 'efficacy': 'NaN', 'total_duration': 121}}}\n",
        "In patient info function\n",
        "5"
       ]
      },
      {
       "output_type": "stream",
       "stream": "stdout",
       "text": [
        " 2015 last month, last year\n",
        "num symptoms"
       ]
      },
      {
       "output_type": "stream",
       "stream": "stdout",
       "text": [
        " 5\n",
        "Success, 'All Symptoms' clicked"
       ]
      },
      {
       "output_type": "stream",
       "stream": "stdout",
       "text": [
        "\n",
        "Success: Gone to drug page (Brand name found)"
       ]
      },
      {
       "output_type": "stream",
       "stream": "stdout",
       "text": [
        "\n",
        "[u'0.5', u'mg', u'Daily', u'Feb', u'01,', u'2005', u'-', u'Last', u'Update']"
       ]
      },
      {
       "output_type": "stream",
       "stream": "stdout",
       "text": [
        " Feb\n",
        "span is current\n",
        "[u'0.5', u'mg', u'Daily', u'Feb', u'01,', u'2005', u'-', u'Last', u'Update'] 2 5 2005 2015\n",
        "{24355: {u'Cymbalta': {'adherence': u'Always', 'final_dose': 120.0, 'side_effects': u'Mild', 'efficacy': u'Moderate', 'total_duration': 85}}, 84817: {'Celexa': {'adherence': 'NaN', 'final_dose': 20.0, 'side_effects': 'NaN', 'efficacy': 'NaN', 'total_duration': 67}}, 72520: {'Zoloft': {}}, 121354: {'Zoloft': {'adherence': u'Always', 'final_dose': 75.0, 'side_effects': u'Mild', 'efficacy': u'Can', 'total_duration': 124}}, 239339: {u'Cymbalta': {'adherence': u'Always', 'final_dose': 60.0, 'side_effects': u'Moderate', 'efficacy': u'Moderate', 'total_duration': 69}}, 51884: {u'Cymbalta': {'adherence': 'NaN', 'final_dose': 120.0, 'side_effects': 'NaN', 'efficacy': 'NaN', 'total_duration': 75}}, 41850: {'Celexa': {'adherence': 'NaN', 'final_dose': 40.0, 'side_effects': 'NaN', 'efficacy': 'NaN', 'total_duration': 71}}, 207438: {u'Lexapro': {'adherence': u'Always', 'final_dose': 30.0, 'side_effects': u'None', 'efficacy': u'Moderate', 'total_duration': 16}}, 97999: {'Celexa': {'adherence': u'Always', 'final_dose': 20.0, 'side_effects': u'None', 'efficacy': u'Moderate', 'total_duration': 113}}, 164112: {u'Cymbalta': {'adherence': 'NaN', 'final_dose': 90.0, 'side_effects': 'NaN', 'efficacy': 'NaN', 'total_duration': 39}}, 48593: {'Zoloft': {'adherence': 'NaN', 'final_dose': 200.0, 'side_effects': 'NaN', 'efficacy': 'NaN', 'total_duration': 170}}, 295316: {'Zoloft': {'adherence': u'Always', 'final_dose': 150.0, 'side_effects': u'None', 'efficacy': u'Major', 'total_duration': 84}}, 11766: {'Celexa': {'adherence': 'NaN', 'final_dose': 0.5, 'side_effects': 'NaN', 'efficacy': 'NaN', 'total_duration': 123}}, 409335: {'Celexa': {'adherence': 'NaN', 'final_dose': 30.0, 'side_effects': 'NaN', 'efficacy': 'NaN', 'total_duration': 143}}, 76088: {u'Cymbalta': {'adherence': u'Always', 'final_dose': 60.0, 'side_effects': u'None', 'efficacy': u'Moderate', 'total_duration': 155}}, 2906: {u'Lexapro': {'adherence': 'NaN', 'final_dose': 0.5, 'side_effects': 'NaN', 'efficacy': 'NaN', 'total_duration': 93}}, 122687: {u'Lexapro': {'adherence': u'Always', 'final_dose': 20.0, 'side_effects': u'Moderate', 'efficacy': u'Major', 'total_duration': 5}}, 65628: {u'Cymbalta': {'adherence': 'NaN', 'final_dose': 120.0, 'side_effects': 'NaN', 'efficacy': 'NaN', 'total_duration': 104}}, 129098: {u'Lexapro': {'adherence': 'NaN', 'final_dose': 20.0, 'side_effects': 'NaN', 'efficacy': 'NaN', 'total_duration': 42}}, 134942: {u'Lexapro': {'adherence': 'NaN', 'final_dose': 20.0, 'side_effects': 'NaN', 'efficacy': 'NaN', 'total_duration': 33}}, 87903: {u'Lexapro': {'adherence': 'NaN', 'final_dose': 20.0, 'side_effects': 'NaN', 'efficacy': 'NaN', 'total_duration': 121}}}\n",
        "patient_id"
       ]
      },
      {
       "output_type": "stream",
       "stream": "stdout",
       "text": [
        " 100855\n",
        "NEW PATIENT id"
       ]
      },
      {
       "output_type": "stream",
       "stream": "stdout",
       "text": [
        " 100855\n",
        "data {121354: {'Zoloft': {'adherence': u'Always', 'final_dose': 75.0, 'side_effects': u'Mild', 'efficacy': u'Can', 'total_duration': 124}}, 164112: {u'Cymbalta': {'adherence': 'NaN', 'final_dose': 90.0, 'side_effects': 'NaN', 'efficacy': 'NaN', 'total_duration': 39}}, 295316: {'Zoloft': {'adherence': u'Always', 'final_dose': 150.0, 'side_effects': u'None', 'efficacy': u'Major', 'total_duration': 84}}, 134942: {u'Lexapro': {'adherence': 'NaN', 'final_dose': 20.0, 'side_effects': 'NaN', 'efficacy': 'NaN', 'total_duration': 33}}, 24355: {u'Cymbalta': {'adherence': u'Always', 'final_dose': 120.0, 'side_effects': u'Mild', 'efficacy': u'Moderate', 'total_duration': 85}}, 51884: {u'Cymbalta': {'adherence': 'NaN', 'final_dose': 120.0, 'side_effects': 'NaN', 'efficacy': 'NaN', 'total_duration': 75}}, 76088: {u'Cymbalta': {'adherence': u'Always', 'final_dose': 60.0, 'side_effects': u'None', 'efficacy': u'Moderate', 'total_duration': 155}}, 122687: {u'Lexapro': {'adherence': u'Always', 'final_dose': 20.0, 'side_effects': u'Moderate', 'efficacy': u'Major', 'total_duration': 5}}, 72520: {'Zoloft': {}}, 129098: {u'Lexapro': {'adherence': 'NaN', 'final_dose': 20.0, 'side_effects': 'NaN', 'efficacy': 'NaN', 'total_duration': 42}}, 409335: {'Celexa': {'adherence': 'NaN', 'final_dose': 30.0, 'side_effects': 'NaN', 'efficacy': 'NaN', 'total_duration': 143}}, 207438: {u'Lexapro': {'adherence': u'Always', 'final_dose': 30.0, 'side_effects': u'None', 'efficacy': u'Moderate', 'total_duration': 16}}, 97999: {'Celexa': {'adherence': u'Always', 'final_dose': 20.0, 'side_effects': u'None', 'efficacy': u'Moderate', 'total_duration': 113}}, 84817: {'Celexa': {'adherence': 'NaN', 'final_dose': 20.0, 'side_effects': 'NaN', 'efficacy': 'NaN', 'total_duration': 67}}, 2906: {u'Lexapro': {'adherence': 'NaN', 'final_dose': 0.5, 'side_effects': 'NaN', 'efficacy': 'NaN', 'total_duration': 93}}, 65628: {u'Cymbalta': {'adherence': 'NaN', 'final_dose': 120.0, 'side_effects': 'NaN', 'efficacy': 'NaN', 'total_duration': 104}}, 87903: {u'Lexapro': {'adherence': 'NaN', 'final_dose': 20.0, 'side_effects': 'NaN', 'efficacy': 'NaN', 'total_duration': 121}}, 48593: {'Zoloft': {'adherence': 'NaN', 'final_dose': 200.0, 'side_effects': 'NaN', 'efficacy': 'NaN', 'total_duration': 170}}, 239339: {u'Cymbalta': {'adherence': u'Always', 'final_dose': 60.0, 'side_effects': u'Moderate', 'efficacy': u'Moderate', 'total_duration': 69}}, 11766: {'Celexa': {'adherence': 'NaN', 'final_dose': 0.5, 'side_effects': 'NaN', 'efficacy': 'NaN', 'total_duration': 123}}, 100855: {'Celexa': {}}, 41850: {'Celexa': {'adherence': 'NaN', 'final_dose': 40.0, 'side_effects': 'NaN', 'efficacy': 'NaN', 'total_duration': 71}}}\n",
        "In patient info function\n",
        "3"
       ]
      },
      {
       "output_type": "stream",
       "stream": "stdout",
       "text": [
        " 2015 last month, last year\n",
        "num symptoms"
       ]
      },
      {
       "output_type": "stream",
       "stream": "stdout",
       "text": [
        " 12\n",
        "Success, 'All Symptoms' clicked"
       ]
      },
      {
       "output_type": "stream",
       "stream": "stdout",
       "text": [
        "\n",
        "Success: Gone to drug page (Brand name found)"
       ]
      },
      {
       "output_type": "stream",
       "stream": "stdout",
       "text": [
        "\n",
        "[u'20', u'mg', u'Daily', u'Apr', u'09,', u'2001', u'-', u'Oct', u'24,', u'2011']"
       ]
      },
      {
       "output_type": "stream",
       "stream": "stdout",
       "text": [
        " Apr\n",
        "[u'20', u'mg', u'Daily', u'Apr', u'09,', u'2001', u'-', u'Oct', u'24,', u'2011'] 4 10 2001 2011\n",
        "[u'60', u'mg', u'Daily', u'Oct', u'24,', u'2011', u'-', u'Last', u'Update'] Oct\n",
        "span is current\n",
        "[u'60', u'mg', u'Daily', u'Oct', u'24,', u'2011', u'-', u'Last', u'Update'] 10 3 2011 2015\n",
        "{121354: {'Zoloft': {'adherence': u'Always', 'final_dose': 75.0, 'side_effects': u'Mild', 'efficacy': u'Can', 'total_duration': 124}}, 164112: {u'Cymbalta': {'adherence': 'NaN', 'final_dose': 90.0, 'side_effects': 'NaN', 'efficacy': 'NaN', 'total_duration': 39}}, 295316: {'Zoloft': {'adherence': u'Always', 'final_dose': 150.0, 'side_effects': u'None', 'efficacy': u'Major', 'total_duration': 84}}, 134942: {u'Lexapro': {'adherence': 'NaN', 'final_dose': 20.0, 'side_effects': 'NaN', 'efficacy': 'NaN', 'total_duration': 33}}, 24355: {u'Cymbalta': {'adherence': u'Always', 'final_dose': 120.0, 'side_effects': u'Mild', 'efficacy': u'Moderate', 'total_duration': 85}}, 51884: {u'Cymbalta': {'adherence': 'NaN', 'final_dose': 120.0, 'side_effects': 'NaN', 'efficacy': 'NaN', 'total_duration': 75}}, 76088: {u'Cymbalta': {'adherence': u'Always', 'final_dose': 60.0, 'side_effects': u'None', 'efficacy': u'Moderate', 'total_duration': 155}}, 122687: {u'Lexapro': {'adherence': u'Always', 'final_dose': 20.0, 'side_effects': u'Moderate', 'efficacy': u'Major', 'total_duration': 5}}, 72520: {'Zoloft': {}}, 129098: {u'Lexapro': {'adherence': 'NaN', 'final_dose': 20.0, 'side_effects': 'NaN', 'efficacy': 'NaN', 'total_duration': 42}}, 409335: {'Celexa': {'adherence': 'NaN', 'final_dose': 30.0, 'side_effects': 'NaN', 'efficacy': 'NaN', 'total_duration': 143}}, 207438: {u'Lexapro': {'adherence': u'Always', 'final_dose': 30.0, 'side_effects': u'None', 'efficacy': u'Moderate', 'total_duration': 16}}, 97999: {'Celexa': {'adherence': u'Always', 'final_dose': 20.0, 'side_effects': u'None', 'efficacy': u'Moderate', 'total_duration': 113}}, 84817: {'Celexa': {'adherence': 'NaN', 'final_dose': 20.0, 'side_effects': 'NaN', 'efficacy': 'NaN', 'total_duration': 67}}, 2906: {u'Lexapro': {'adherence': 'NaN', 'final_dose': 0.5, 'side_effects': 'NaN', 'efficacy': 'NaN', 'total_duration': 93}}, 65628: {u'Cymbalta': {'adherence': 'NaN', 'final_dose': 120.0, 'side_effects': 'NaN', 'efficacy': 'NaN', 'total_duration': 104}}, 87903: {u'Lexapro': {'adherence': 'NaN', 'final_dose': 20.0, 'side_effects': 'NaN', 'efficacy': 'NaN', 'total_duration': 121}}, 48593: {'Zoloft': {'adherence': 'NaN', 'final_dose': 200.0, 'side_effects': 'NaN', 'efficacy': 'NaN', 'total_duration': 170}}, 239339: {u'Cymbalta': {'adherence': u'Always', 'final_dose': 60.0, 'side_effects': u'Moderate', 'efficacy': u'Moderate', 'total_duration': 69}}, 11766: {'Celexa': {'adherence': 'NaN', 'final_dose': 0.5, 'side_effects': 'NaN', 'efficacy': 'NaN', 'total_duration': 123}}, 100855: {'Celexa': {'adherence': 'NaN', 'final_dose': 60.0, 'side_effects': 'NaN', 'efficacy': 'NaN', 'total_duration': 167}}, 41850: {'Celexa': {'adherence': 'NaN', 'final_dose': 40.0, 'side_effects': 'NaN', 'efficacy': 'NaN', 'total_duration': 71}}}\n",
        "took too much time"
       ]
      },
      {
       "output_type": "stream",
       "stream": "stdout",
       "text": [
        "\n",
        "Error: could not go to next set of patients\n",
        "Fluoxetine"
       ]
      },
      {
       "output_type": "stream",
       "stream": "stdout",
       "text": [
        "\n",
        "patient_id"
       ]
      },
      {
       "output_type": "stream",
       "stream": "stdout",
       "text": [
        " 4164\n",
        "NEW PATIENT id"
       ]
      },
      {
       "output_type": "stream",
       "stream": "stdout",
       "text": [
        " 4164\n",
        "data {121354: {'Zoloft': {'adherence': u'Always', 'final_dose': 75.0, 'side_effects': u'Mild', 'efficacy': u'Can', 'total_duration': 124}}, 164112: {u'Cymbalta': {'adherence': 'NaN', 'final_dose': 90.0, 'side_effects': 'NaN', 'efficacy': 'NaN', 'total_duration': 39}}, 295316: {'Zoloft': {'adherence': u'Always', 'final_dose': 150.0, 'side_effects': u'None', 'efficacy': u'Major', 'total_duration': 84}}, 134942: {u'Lexapro': {'adherence': 'NaN', 'final_dose': 20.0, 'side_effects': 'NaN', 'efficacy': 'NaN', 'total_duration': 33}}, 24355: {u'Cymbalta': {'adherence': u'Always', 'final_dose': 120.0, 'side_effects': u'Mild', 'efficacy': u'Moderate', 'total_duration': 85}}, 51884: {u'Cymbalta': {'adherence': 'NaN', 'final_dose': 120.0, 'side_effects': 'NaN', 'efficacy': 'NaN', 'total_duration': 75}}, 76088: {u'Cymbalta': {'adherence': u'Always', 'final_dose': 60.0, 'side_effects': u'None', 'efficacy': u'Moderate', 'total_duration': 155}}, 122687: {u'Lexapro': {'adherence': u'Always', 'final_dose': 20.0, 'side_effects': u'Moderate', 'efficacy': u'Major', 'total_duration': 5}}, 4164: {'Prozac': {}}, 72520: {'Zoloft': {}}, 129098: {u'Lexapro': {'adherence': 'NaN', 'final_dose': 20.0, 'side_effects': 'NaN', 'efficacy': 'NaN', 'total_duration': 42}}, 409335: {'Celexa': {'adherence': 'NaN', 'final_dose': 30.0, 'side_effects': 'NaN', 'efficacy': 'NaN', 'total_duration': 143}}, 207438: {u'Lexapro': {'adherence': u'Always', 'final_dose': 30.0, 'side_effects': u'None', 'efficacy': u'Moderate', 'total_duration': 16}}, 97999: {'Celexa': {'adherence': u'Always', 'final_dose': 20.0, 'side_effects': u'None', 'efficacy': u'Moderate', 'total_duration': 113}}, 84817: {'Celexa': {'adherence': 'NaN', 'final_dose': 20.0, 'side_effects': 'NaN', 'efficacy': 'NaN', 'total_duration': 67}}, 2906: {u'Lexapro': {'adherence': 'NaN', 'final_dose': 0.5, 'side_effects': 'NaN', 'efficacy': 'NaN', 'total_duration': 93}}, 65628: {u'Cymbalta': {'adherence': 'NaN', 'final_dose': 120.0, 'side_effects': 'NaN', 'efficacy': 'NaN', 'total_duration': 104}}, 87903: {u'Lexapro': {'adherence': 'NaN', 'final_dose': 20.0, 'side_effects': 'NaN', 'efficacy': 'NaN', 'total_duration': 121}}, 48593: {'Zoloft': {'adherence': 'NaN', 'final_dose': 200.0, 'side_effects': 'NaN', 'efficacy': 'NaN', 'total_duration': 170}}, 239339: {u'Cymbalta': {'adherence': u'Always', 'final_dose': 60.0, 'side_effects': u'Moderate', 'efficacy': u'Moderate', 'total_duration': 69}}, 11766: {'Celexa': {'adherence': 'NaN', 'final_dose': 0.5, 'side_effects': 'NaN', 'efficacy': 'NaN', 'total_duration': 123}}, 100855: {'Celexa': {'adherence': 'NaN', 'final_dose': 60.0, 'side_effects': 'NaN', 'efficacy': 'NaN', 'total_duration': 167}}, 41850: {'Celexa': {'adherence': 'NaN', 'final_dose': 40.0, 'side_effects': 'NaN', 'efficacy': 'NaN', 'total_duration': 71}}}\n",
        "In patient info function\n",
        "6"
       ]
      },
      {
       "output_type": "stream",
       "stream": "stdout",
       "text": [
        " 2015 last month, last year\n",
        "num symptoms"
       ]
      },
      {
       "output_type": "stream",
       "stream": "stdout",
       "text": [
        " 18\n",
        "Success, 'All Symptoms' clicked"
       ]
      },
      {
       "output_type": "stream",
       "stream": "stdout",
       "text": [
        "\n",
        "Success: Gone to drug page (Brand name found)"
       ]
      },
      {
       "output_type": "stream",
       "stream": "stdout",
       "text": [
        "\n",
        "[u'20', u'mg', u'Daily', u'Oct', u'27,', u'2006', u'-', u'Nov', u'01,', u'2011']"
       ]
      },
      {
       "output_type": "stream",
       "stream": "stdout",
       "text": [
        " Oct\n",
        "[u'20', u'mg', u'Daily', u'Oct', u'27,', u'2006', u'-', u'Nov', u'01,', u'2011'] 10 11 2006 2011\n",
        "{121354: {'Zoloft': {'adherence': u'Always', 'final_dose': 75.0, 'side_effects': u'Mild', 'efficacy': u'Can', 'total_duration': 124}}, 164112: {u'Cymbalta': {'adherence': 'NaN', 'final_dose': 90.0, 'side_effects': 'NaN', 'efficacy': 'NaN', 'total_duration': 39}}, 295316: {'Zoloft': {'adherence': u'Always', 'final_dose': 150.0, 'side_effects': u'None', 'efficacy': u'Major', 'total_duration': 84}}, 134942: {u'Lexapro': {'adherence': 'NaN', 'final_dose': 20.0, 'side_effects': 'NaN', 'efficacy': 'NaN', 'total_duration': 33}}, 24355: {u'Cymbalta': {'adherence': u'Always', 'final_dose': 120.0, 'side_effects': u'Mild', 'efficacy': u'Moderate', 'total_duration': 85}}, 51884: {u'Cymbalta': {'adherence': 'NaN', 'final_dose': 120.0, 'side_effects': 'NaN', 'efficacy': 'NaN', 'total_duration': 75}}, 76088: {u'Cymbalta': {'adherence': u'Always', 'final_dose': 60.0, 'side_effects': u'None', 'efficacy': u'Moderate', 'total_duration': 155}}, 122687: {u'Lexapro': {'adherence': u'Always', 'final_dose': 20.0, 'side_effects': u'Moderate', 'efficacy': u'Major', 'total_duration': 5}}, 4164: {'Prozac': {'adherence': u'Always', 'final_dose': 20.0, 'side_effects': u'None', 'efficacy': u'Moderate', 'total_duration': 61}}, 72520: {'Zoloft': {}}, 129098: {u'Lexapro': {'adherence': 'NaN', 'final_dose': 20.0, 'side_effects': 'NaN', 'efficacy': 'NaN', 'total_duration': 42}}, 409335: {'Celexa': {'adherence': 'NaN', 'final_dose': 30.0, 'side_effects': 'NaN', 'efficacy': 'NaN', 'total_duration': 143}}, 207438: {u'Lexapro': {'adherence': u'Always', 'final_dose': 30.0, 'side_effects': u'None', 'efficacy': u'Moderate', 'total_duration': 16}}, 97999: {'Celexa': {'adherence': u'Always', 'final_dose': 20.0, 'side_effects': u'None', 'efficacy': u'Moderate', 'total_duration': 113}}, 84817: {'Celexa': {'adherence': 'NaN', 'final_dose': 20.0, 'side_effects': 'NaN', 'efficacy': 'NaN', 'total_duration': 67}}, 2906: {u'Lexapro': {'adherence': 'NaN', 'final_dose': 0.5, 'side_effects': 'NaN', 'efficacy': 'NaN', 'total_duration': 93}}, 65628: {u'Cymbalta': {'adherence': 'NaN', 'final_dose': 120.0, 'side_effects': 'NaN', 'efficacy': 'NaN', 'total_duration': 104}}, 87903: {u'Lexapro': {'adherence': 'NaN', 'final_dose': 20.0, 'side_effects': 'NaN', 'efficacy': 'NaN', 'total_duration': 121}}, 48593: {'Zoloft': {'adherence': 'NaN', 'final_dose': 200.0, 'side_effects': 'NaN', 'efficacy': 'NaN', 'total_duration': 170}}, 239339: {u'Cymbalta': {'adherence': u'Always', 'final_dose': 60.0, 'side_effects': u'Moderate', 'efficacy': u'Moderate', 'total_duration': 69}}, 11766: {'Celexa': {'adherence': 'NaN', 'final_dose': 0.5, 'side_effects': 'NaN', 'efficacy': 'NaN', 'total_duration': 123}}, 100855: {'Celexa': {'adherence': 'NaN', 'final_dose': 60.0, 'side_effects': 'NaN', 'efficacy': 'NaN', 'total_duration': 167}}, 41850: {'Celexa': {'adherence': 'NaN', 'final_dose': 40.0, 'side_effects': 'NaN', 'efficacy': 'NaN', 'total_duration': 71}}}\n",
        "patient_id"
       ]
      },
      {
       "output_type": "stream",
       "stream": "stdout",
       "text": [
        " 3422\n",
        "NEW PATIENT id"
       ]
      },
      {
       "output_type": "stream",
       "stream": "stdout",
       "text": [
        " 3422\n",
        "data {121354: {'Zoloft': {'adherence': u'Always', 'final_dose': 75.0, 'side_effects': u'Mild', 'efficacy': u'Can', 'total_duration': 124}}, 164112: {u'Cymbalta': {'adherence': 'NaN', 'final_dose': 90.0, 'side_effects': 'NaN', 'efficacy': 'NaN', 'total_duration': 39}}, 295316: {'Zoloft': {'adherence': u'Always', 'final_dose': 150.0, 'side_effects': u'None', 'efficacy': u'Major', 'total_duration': 84}}, 134942: {u'Lexapro': {'adherence': 'NaN', 'final_dose': 20.0, 'side_effects': 'NaN', 'efficacy': 'NaN', 'total_duration': 33}}, 24355: {u'Cymbalta': {'adherence': u'Always', 'final_dose': 120.0, 'side_effects': u'Mild', 'efficacy': u'Moderate', 'total_duration': 85}}, 51884: {u'Cymbalta': {'adherence': 'NaN', 'final_dose': 120.0, 'side_effects': 'NaN', 'efficacy': 'NaN', 'total_duration': 75}}, 76088: {u'Cymbalta': {'adherence': u'Always', 'final_dose': 60.0, 'side_effects': u'None', 'efficacy': u'Moderate', 'total_duration': 155}}, 122687: {u'Lexapro': {'adherence': u'Always', 'final_dose': 20.0, 'side_effects': u'Moderate', 'efficacy': u'Major', 'total_duration': 5}}, 4164: {'Prozac': {'adherence': u'Always', 'final_dose': 20.0, 'side_effects': u'None', 'efficacy': u'Moderate', 'total_duration': 61}}, 72520: {'Zoloft': {}}, 129098: {u'Lexapro': {'adherence': 'NaN', 'final_dose': 20.0, 'side_effects': 'NaN', 'efficacy': 'NaN', 'total_duration': 42}}, 409335: {'Celexa': {'adherence': 'NaN', 'final_dose': 30.0, 'side_effects': 'NaN', 'efficacy': 'NaN', 'total_duration': 143}}, 207438: {u'Lexapro': {'adherence': u'Always', 'final_dose': 30.0, 'side_effects': u'None', 'efficacy': u'Moderate', 'total_duration': 16}}, 97999: {'Celexa': {'adherence': u'Always', 'final_dose': 20.0, 'side_effects': u'None', 'efficacy': u'Moderate', 'total_duration': 113}}, 84817: {'Celexa': {'adherence': 'NaN', 'final_dose': 20.0, 'side_effects': 'NaN', 'efficacy': 'NaN', 'total_duration': 67}}, 2906: {u'Lexapro': {'adherence': 'NaN', 'final_dose': 0.5, 'side_effects': 'NaN', 'efficacy': 'NaN', 'total_duration': 93}}, 65628: {u'Cymbalta': {'adherence': 'NaN', 'final_dose': 120.0, 'side_effects': 'NaN', 'efficacy': 'NaN', 'total_duration': 104}}, 3422: {'Prozac': {}}, 87903: {u'Lexapro': {'adherence': 'NaN', 'final_dose': 20.0, 'side_effects': 'NaN', 'efficacy': 'NaN', 'total_duration': 121}}, 48593: {'Zoloft': {'adherence': 'NaN', 'final_dose': 200.0, 'side_effects': 'NaN', 'efficacy': 'NaN', 'total_duration': 170}}, 239339: {u'Cymbalta': {'adherence': u'Always', 'final_dose': 60.0, 'side_effects': u'Moderate', 'efficacy': u'Moderate', 'total_duration': 69}}, 11766: {'Celexa': {'adherence': 'NaN', 'final_dose': 0.5, 'side_effects': 'NaN', 'efficacy': 'NaN', 'total_duration': 123}}, 100855: {'Celexa': {'adherence': 'NaN', 'final_dose': 60.0, 'side_effects': 'NaN', 'efficacy': 'NaN', 'total_duration': 167}}, 41850: {'Celexa': {'adherence': 'NaN', 'final_dose': 40.0, 'side_effects': 'NaN', 'efficacy': 'NaN', 'total_duration': 71}}}\n",
        "In patient info function\n",
        "5"
       ]
      },
      {
       "output_type": "stream",
       "stream": "stdout",
       "text": [
        " 2015 last month, last year\n",
        "num symptoms"
       ]
      },
      {
       "output_type": "stream",
       "stream": "stdout",
       "text": [
        " 16\n",
        "Success, 'All Symptoms' clicked"
       ]
      },
      {
       "output_type": "stream",
       "stream": "stdout",
       "text": [
        "\n",
        "Success: Gone to drug page (Brand name found)"
       ]
      },
      {
       "output_type": "stream",
       "stream": "stdout",
       "text": [
        "\n",
        "Error: could not get duration and dose"
       ]
      },
      {
       "output_type": "stream",
       "stream": "stdout",
       "text": [
        "\n",
        "Error: could not update data\n",
        "{121354: {'Zoloft': {'adherence': u'Always', 'final_dose': 75.0, 'side_effects': u'Mild', 'efficacy': u'Can', 'total_duration': 124}}, 164112: {u'Cymbalta': {'adherence': 'NaN', 'final_dose': 90.0, 'side_effects': 'NaN', 'efficacy': 'NaN', 'total_duration': 39}}, 295316: {'Zoloft': {'adherence': u'Always', 'final_dose': 150.0, 'side_effects': u'None', 'efficacy': u'Major', 'total_duration': 84}}, 134942: {u'Lexapro': {'adherence': 'NaN', 'final_dose': 20.0, 'side_effects': 'NaN', 'efficacy': 'NaN', 'total_duration': 33}}, 24355: {u'Cymbalta': {'adherence': u'Always', 'final_dose': 120.0, 'side_effects': u'Mild', 'efficacy': u'Moderate', 'total_duration': 85}}, 51884: {u'Cymbalta': {'adherence': 'NaN', 'final_dose': 120.0, 'side_effects': 'NaN', 'efficacy': 'NaN', 'total_duration': 75}}, 76088: {u'Cymbalta': {'adherence': u'Always', 'final_dose': 60.0, 'side_effects': u'None', 'efficacy': u'Moderate', 'total_duration': 155}}, 122687: {u'Lexapro': {'adherence': u'Always', 'final_dose': 20.0, 'side_effects': u'Moderate', 'efficacy': u'Major', 'total_duration': 5}}, 4164: {'Prozac': {'adherence': u'Always', 'final_dose': 20.0, 'side_effects': u'None', 'efficacy': u'Moderate', 'total_duration': 61}}, 72520: {'Zoloft': {}}, 129098: {u'Lexapro': {'adherence': 'NaN', 'final_dose': 20.0, 'side_effects': 'NaN', 'efficacy': 'NaN', 'total_duration': 42}}, 409335: {'Celexa': {'adherence': 'NaN', 'final_dose': 30.0, 'side_effects': 'NaN', 'efficacy': 'NaN', 'total_duration': 143}}, 207438: {u'Lexapro': {'adherence': u'Always', 'final_dose': 30.0, 'side_effects': u'None', 'efficacy': u'Moderate', 'total_duration': 16}}, 97999: {'Celexa': {'adherence': u'Always', 'final_dose': 20.0, 'side_effects': u'None', 'efficacy': u'Moderate', 'total_duration': 113}}, 84817: {'Celexa': {'adherence': 'NaN', 'final_dose': 20.0, 'side_effects': 'NaN', 'efficacy': 'NaN', 'total_duration': 67}}, 2906: {u'Lexapro': {'adherence': 'NaN', 'final_dose': 0.5, 'side_effects': 'NaN', 'efficacy': 'NaN', 'total_duration': 93}}, 65628: {u'Cymbalta': {'adherence': 'NaN', 'final_dose': 120.0, 'side_effects': 'NaN', 'efficacy': 'NaN', 'total_duration': 104}}, 3422: {'Prozac': {}}, 87903: {u'Lexapro': {'adherence': 'NaN', 'final_dose': 20.0, 'side_effects': 'NaN', 'efficacy': 'NaN', 'total_duration': 121}}, 48593: {'Zoloft': {'adherence': 'NaN', 'final_dose': 200.0, 'side_effects': 'NaN', 'efficacy': 'NaN', 'total_duration': 170}}, 239339: {u'Cymbalta': {'adherence': u'Always', 'final_dose': 60.0, 'side_effects': u'Moderate', 'efficacy': u'Moderate', 'total_duration': 69}}, 11766: {'Celexa': {'adherence': 'NaN', 'final_dose': 0.5, 'side_effects': 'NaN', 'efficacy': 'NaN', 'total_duration': 123}}, 100855: {'Celexa': {'adherence': 'NaN', 'final_dose': 60.0, 'side_effects': 'NaN', 'efficacy': 'NaN', 'total_duration': 167}}, 41850: {'Celexa': {'adherence': 'NaN', 'final_dose': 40.0, 'side_effects': 'NaN', 'efficacy': 'NaN', 'total_duration': 71}}}\n",
        "patient_id"
       ]
      },
      {
       "output_type": "stream",
       "stream": "stdout",
       "text": [
        " 126555\n",
        "NEW PATIENT id"
       ]
      },
      {
       "output_type": "stream",
       "stream": "stdout",
       "text": [
        " 126555\n",
        "data {121354: {'Zoloft': {'adherence': u'Always', 'final_dose': 75.0, 'side_effects': u'Mild', 'efficacy': u'Can', 'total_duration': 124}}, 164112: {u'Cymbalta': {'adherence': 'NaN', 'final_dose': 90.0, 'side_effects': 'NaN', 'efficacy': 'NaN', 'total_duration': 39}}, 295316: {'Zoloft': {'adherence': u'Always', 'final_dose': 150.0, 'side_effects': u'None', 'efficacy': u'Major', 'total_duration': 84}}, 134942: {u'Lexapro': {'adherence': 'NaN', 'final_dose': 20.0, 'side_effects': 'NaN', 'efficacy': 'NaN', 'total_duration': 33}}, 24355: {u'Cymbalta': {'adherence': u'Always', 'final_dose': 120.0, 'side_effects': u'Mild', 'efficacy': u'Moderate', 'total_duration': 85}}, 51884: {u'Cymbalta': {'adherence': 'NaN', 'final_dose': 120.0, 'side_effects': 'NaN', 'efficacy': 'NaN', 'total_duration': 75}}, 76088: {u'Cymbalta': {'adherence': u'Always', 'final_dose': 60.0, 'side_effects': u'None', 'efficacy': u'Moderate', 'total_duration': 155}}, 122687: {u'Lexapro': {'adherence': u'Always', 'final_dose': 20.0, 'side_effects': u'Moderate', 'efficacy': u'Major', 'total_duration': 5}}, 4164: {'Prozac': {'adherence': u'Always', 'final_dose': 20.0, 'side_effects': u'None', 'efficacy': u'Moderate', 'total_duration': 61}}, 72520: {'Zoloft': {}}, 129098: {u'Lexapro': {'adherence': 'NaN', 'final_dose': 20.0, 'side_effects': 'NaN', 'efficacy': 'NaN', 'total_duration': 42}}, 409335: {'Celexa': {'adherence': 'NaN', 'final_dose': 30.0, 'side_effects': 'NaN', 'efficacy': 'NaN', 'total_duration': 143}}, 207438: {u'Lexapro': {'adherence': u'Always', 'final_dose': 30.0, 'side_effects': u'None', 'efficacy': u'Moderate', 'total_duration': 16}}, 97999: {'Celexa': {'adherence': u'Always', 'final_dose': 20.0, 'side_effects': u'None', 'efficacy': u'Moderate', 'total_duration': 113}}, 84817: {'Celexa': {'adherence': 'NaN', 'final_dose': 20.0, 'side_effects': 'NaN', 'efficacy': 'NaN', 'total_duration': 67}}, 2906: {u'Lexapro': {'adherence': 'NaN', 'final_dose': 0.5, 'side_effects': 'NaN', 'efficacy': 'NaN', 'total_duration': 93}}, 126555: {'Prozac': {}}, 65628: {u'Cymbalta': {'adherence': 'NaN', 'final_dose': 120.0, 'side_effects': 'NaN', 'efficacy': 'NaN', 'total_duration': 104}}, 3422: {'Prozac': {}}, 87903: {u'Lexapro': {'adherence': 'NaN', 'final_dose': 20.0, 'side_effects': 'NaN', 'efficacy': 'NaN', 'total_duration': 121}}, 48593: {'Zoloft': {'adherence': 'NaN', 'final_dose': 200.0, 'side_effects': 'NaN', 'efficacy': 'NaN', 'total_duration': 170}}, 239339: {u'Cymbalta': {'adherence': u'Always', 'final_dose': 60.0, 'side_effects': u'Moderate', 'efficacy': u'Moderate', 'total_duration': 69}}, 11766: {'Celexa': {'adherence': 'NaN', 'final_dose': 0.5, 'side_effects': 'NaN', 'efficacy': 'NaN', 'total_duration': 123}}, 100855: {'Celexa': {'adherence': 'NaN', 'final_dose': 60.0, 'side_effects': 'NaN', 'efficacy': 'NaN', 'total_duration': 167}}, 41850: {'Celexa': {'adherence': 'NaN', 'final_dose': 40.0, 'side_effects': 'NaN', 'efficacy': 'NaN', 'total_duration': 71}}}\n",
        "In patient info function\n",
        "3"
       ]
      },
      {
       "output_type": "stream",
       "stream": "stdout",
       "text": [
        " 2015 last month, last year\n",
        "num symptoms"
       ]
      },
      {
       "output_type": "stream",
       "stream": "stdout",
       "text": [
        " 24\n",
        "Success, 'All Symptoms' clicked"
       ]
      },
      {
       "output_type": "stream",
       "stream": "stdout",
       "text": [
        "\n",
        "Success: Gone to drug page (Brand name found)"
       ]
      },
      {
       "output_type": "stream",
       "stream": "stdout",
       "text": [
        "\n",
        "Error: could not get duration and dose"
       ]
      },
      {
       "output_type": "stream",
       "stream": "stdout",
       "text": [
        "\n",
        "Error: could not update data\n",
        "{121354: {'Zoloft': {'adherence': u'Always', 'final_dose': 75.0, 'side_effects': u'Mild', 'efficacy': u'Can', 'total_duration': 124}}, 164112: {u'Cymbalta': {'adherence': 'NaN', 'final_dose': 90.0, 'side_effects': 'NaN', 'efficacy': 'NaN', 'total_duration': 39}}, 295316: {'Zoloft': {'adherence': u'Always', 'final_dose': 150.0, 'side_effects': u'None', 'efficacy': u'Major', 'total_duration': 84}}, 134942: {u'Lexapro': {'adherence': 'NaN', 'final_dose': 20.0, 'side_effects': 'NaN', 'efficacy': 'NaN', 'total_duration': 33}}, 24355: {u'Cymbalta': {'adherence': u'Always', 'final_dose': 120.0, 'side_effects': u'Mild', 'efficacy': u'Moderate', 'total_duration': 85}}, 51884: {u'Cymbalta': {'adherence': 'NaN', 'final_dose': 120.0, 'side_effects': 'NaN', 'efficacy': 'NaN', 'total_duration': 75}}, 76088: {u'Cymbalta': {'adherence': u'Always', 'final_dose': 60.0, 'side_effects': u'None', 'efficacy': u'Moderate', 'total_duration': 155}}, 122687: {u'Lexapro': {'adherence': u'Always', 'final_dose': 20.0, 'side_effects': u'Moderate', 'efficacy': u'Major', 'total_duration': 5}}, 4164: {'Prozac': {'adherence': u'Always', 'final_dose': 20.0, 'side_effects': u'None', 'efficacy': u'Moderate', 'total_duration': 61}}, 72520: {'Zoloft': {}}, 129098: {u'Lexapro': {'adherence': 'NaN', 'final_dose': 20.0, 'side_effects': 'NaN', 'efficacy': 'NaN', 'total_duration': 42}}, 409335: {'Celexa': {'adherence': 'NaN', 'final_dose': 30.0, 'side_effects': 'NaN', 'efficacy': 'NaN', 'total_duration': 143}}, 207438: {u'Lexapro': {'adherence': u'Always', 'final_dose': 30.0, 'side_effects': u'None', 'efficacy': u'Moderate', 'total_duration': 16}}, 97999: {'Celexa': {'adherence': u'Always', 'final_dose': 20.0, 'side_effects': u'None', 'efficacy': u'Moderate', 'total_duration': 113}}, 84817: {'Celexa': {'adherence': 'NaN', 'final_dose': 20.0, 'side_effects': 'NaN', 'efficacy': 'NaN', 'total_duration': 67}}, 2906: {u'Lexapro': {'adherence': 'NaN', 'final_dose': 0.5, 'side_effects': 'NaN', 'efficacy': 'NaN', 'total_duration': 93}}, 126555: {'Prozac': {}}, 65628: {u'Cymbalta': {'adherence': 'NaN', 'final_dose': 120.0, 'side_effects': 'NaN', 'efficacy': 'NaN', 'total_duration': 104}}, 3422: {'Prozac': {}}, 87903: {u'Lexapro': {'adherence': 'NaN', 'final_dose': 20.0, 'side_effects': 'NaN', 'efficacy': 'NaN', 'total_duration': 121}}, 48593: {'Zoloft': {'adherence': 'NaN', 'final_dose': 200.0, 'side_effects': 'NaN', 'efficacy': 'NaN', 'total_duration': 170}}, 239339: {u'Cymbalta': {'adherence': u'Always', 'final_dose': 60.0, 'side_effects': u'Moderate', 'efficacy': u'Moderate', 'total_duration': 69}}, 11766: {'Celexa': {'adherence': 'NaN', 'final_dose': 0.5, 'side_effects': 'NaN', 'efficacy': 'NaN', 'total_duration': 123}}, 100855: {'Celexa': {'adherence': 'NaN', 'final_dose': 60.0, 'side_effects': 'NaN', 'efficacy': 'NaN', 'total_duration': 167}}, 41850: {'Celexa': {'adherence': 'NaN', 'final_dose': 40.0, 'side_effects': 'NaN', 'efficacy': 'NaN', 'total_duration': 71}}}\n",
        "patient_id"
       ]
      },
      {
       "output_type": "stream",
       "stream": "stdout",
       "text": [
        " 3422\n",
        "patient_id"
       ]
      },
      {
       "output_type": "stream",
       "stream": "stdout",
       "text": [
        " 126555\n",
        "patient_id"
       ]
      },
      {
       "output_type": "stream",
       "stream": "stdout",
       "text": [
        " 54051\n",
        "NEW PATIENT id"
       ]
      },
      {
       "output_type": "stream",
       "stream": "stdout",
       "text": [
        " 54051\n",
        "data {121354: {'Zoloft': {'adherence': u'Always', 'final_dose': 75.0, 'side_effects': u'Mild', 'efficacy': u'Can', 'total_duration': 124}}, 164112: {u'Cymbalta': {'adherence': 'NaN', 'final_dose': 90.0, 'side_effects': 'NaN', 'efficacy': 'NaN', 'total_duration': 39}}, 295316: {'Zoloft': {'adherence': u'Always', 'final_dose': 150.0, 'side_effects': u'None', 'efficacy': u'Major', 'total_duration': 84}}, 134942: {u'Lexapro': {'adherence': 'NaN', 'final_dose': 20.0, 'side_effects': 'NaN', 'efficacy': 'NaN', 'total_duration': 33}}, 24355: {u'Cymbalta': {'adherence': u'Always', 'final_dose': 120.0, 'side_effects': u'Mild', 'efficacy': u'Moderate', 'total_duration': 85}}, 51884: {u'Cymbalta': {'adherence': 'NaN', 'final_dose': 120.0, 'side_effects': 'NaN', 'efficacy': 'NaN', 'total_duration': 75}}, 76088: {u'Cymbalta': {'adherence': u'Always', 'final_dose': 60.0, 'side_effects': u'None', 'efficacy': u'Moderate', 'total_duration': 155}}, 122687: {u'Lexapro': {'adherence': u'Always', 'final_dose': 20.0, 'side_effects': u'Moderate', 'efficacy': u'Major', 'total_duration': 5}}, 4164: {'Prozac': {'adherence': u'Always', 'final_dose': 20.0, 'side_effects': u'None', 'efficacy': u'Moderate', 'total_duration': 61}}, 72520: {'Zoloft': {}}, 129098: {u'Lexapro': {'adherence': 'NaN', 'final_dose': 20.0, 'side_effects': 'NaN', 'efficacy': 'NaN', 'total_duration': 42}}, 409335: {'Celexa': {'adherence': 'NaN', 'final_dose': 30.0, 'side_effects': 'NaN', 'efficacy': 'NaN', 'total_duration': 143}}, 207438: {u'Lexapro': {'adherence': u'Always', 'final_dose': 30.0, 'side_effects': u'None', 'efficacy': u'Moderate', 'total_duration': 16}}, 97999: {'Celexa': {'adherence': u'Always', 'final_dose': 20.0, 'side_effects': u'None', 'efficacy': u'Moderate', 'total_duration': 113}}, 84817: {'Celexa': {'adherence': 'NaN', 'final_dose': 20.0, 'side_effects': 'NaN', 'efficacy': 'NaN', 'total_duration': 67}}, 54051: {'Prozac': {}}, 2906: {u'Lexapro': {'adherence': 'NaN', 'final_dose': 0.5, 'side_effects': 'NaN', 'efficacy': 'NaN', 'total_duration': 93}}, 126555: {'Prozac': {}}, 65628: {u'Cymbalta': {'adherence': 'NaN', 'final_dose': 120.0, 'side_effects': 'NaN', 'efficacy': 'NaN', 'total_duration': 104}}, 3422: {'Prozac': {}}, 87903: {u'Lexapro': {'adherence': 'NaN', 'final_dose': 20.0, 'side_effects': 'NaN', 'efficacy': 'NaN', 'total_duration': 121}}, 48593: {'Zoloft': {'adherence': 'NaN', 'final_dose': 200.0, 'side_effects': 'NaN', 'efficacy': 'NaN', 'total_duration': 170}}, 239339: {u'Cymbalta': {'adherence': u'Always', 'final_dose': 60.0, 'side_effects': u'Moderate', 'efficacy': u'Moderate', 'total_duration': 69}}, 11766: {'Celexa': {'adherence': 'NaN', 'final_dose': 0.5, 'side_effects': 'NaN', 'efficacy': 'NaN', 'total_duration': 123}}, 100855: {'Celexa': {'adherence': 'NaN', 'final_dose': 60.0, 'side_effects': 'NaN', 'efficacy': 'NaN', 'total_duration': 167}}, 41850: {'Celexa': {'adherence': 'NaN', 'final_dose': 40.0, 'side_effects': 'NaN', 'efficacy': 'NaN', 'total_duration': 71}}}\n",
        "In patient info function\n",
        "2"
       ]
      },
      {
       "output_type": "stream",
       "stream": "stdout",
       "text": [
        " 2015 last month, last year\n",
        "num symptoms"
       ]
      },
      {
       "output_type": "stream",
       "stream": "stdout",
       "text": [
        " 10\n",
        "Success, 'All Symptoms' clicked"
       ]
      },
      {
       "output_type": "stream",
       "stream": "stdout",
       "text": [
        "\n",
        "Drug Prozac not found, trying generic\n",
        "Success: Generic drug"
       ]
      },
      {
       "output_type": "stream",
       "stream": "stdout",
       "text": [
        " Fluoxetine found\n",
        "[u'30', u'mg', u'Daily', u'Jul', u'01,', u'1994', u'-', u'Last', u'Update']"
       ]
      },
      {
       "output_type": "stream",
       "stream": "stdout",
       "text": [
        " Jul\n",
        "span is current\n",
        "[u'30', u'mg', u'Daily', u'Jul', u'01,', u'1994', u'-', u'Last', u'Update'] 7 2 1994 2015\n",
        "{121354: {'Zoloft': {'adherence': u'Always', 'final_dose': 75.0, 'side_effects': u'Mild', 'efficacy': u'Can', 'total_duration': 124}}, 164112: {u'Cymbalta': {'adherence': 'NaN', 'final_dose': 90.0, 'side_effects': 'NaN', 'efficacy': 'NaN', 'total_duration': 39}}, 295316: {'Zoloft': {'adherence': u'Always', 'final_dose': 150.0, 'side_effects': u'None', 'efficacy': u'Major', 'total_duration': 84}}, 134942: {u'Lexapro': {'adherence': 'NaN', 'final_dose': 20.0, 'side_effects': 'NaN', 'efficacy': 'NaN', 'total_duration': 33}}, 24355: {u'Cymbalta': {'adherence': u'Always', 'final_dose': 120.0, 'side_effects': u'Mild', 'efficacy': u'Moderate', 'total_duration': 85}}, 51884: {u'Cymbalta': {'adherence': 'NaN', 'final_dose': 120.0, 'side_effects': 'NaN', 'efficacy': 'NaN', 'total_duration': 75}}, 76088: {u'Cymbalta': {'adherence': u'Always', 'final_dose': 60.0, 'side_effects': u'None', 'efficacy': u'Moderate', 'total_duration': 155}}, 122687: {u'Lexapro': {'adherence': u'Always', 'final_dose': 20.0, 'side_effects': u'Moderate', 'efficacy': u'Major', 'total_duration': 5}}, 4164: {'Prozac': {'adherence': u'Always', 'final_dose': 20.0, 'side_effects': u'None', 'efficacy': u'Moderate', 'total_duration': 61}}, 72520: {'Zoloft': {}}, 129098: {u'Lexapro': {'adherence': 'NaN', 'final_dose': 20.0, 'side_effects': 'NaN', 'efficacy': 'NaN', 'total_duration': 42}}, 409335: {'Celexa': {'adherence': 'NaN', 'final_dose': 30.0, 'side_effects': 'NaN', 'efficacy': 'NaN', 'total_duration': 143}}, 207438: {u'Lexapro': {'adherence': u'Always', 'final_dose': 30.0, 'side_effects': u'None', 'efficacy': u'Moderate', 'total_duration': 16}}, 97999: {'Celexa': {'adherence': u'Always', 'final_dose': 20.0, 'side_effects': u'None', 'efficacy': u'Moderate', 'total_duration': 113}}, 84817: {'Celexa': {'adherence': 'NaN', 'final_dose': 20.0, 'side_effects': 'NaN', 'efficacy': 'NaN', 'total_duration': 67}}, 54051: {'Prozac': {'adherence': u'Always', 'final_dose': 30.0, 'side_effects': u'None', 'efficacy': u'Major', 'total_duration': 247}}, 2906: {u'Lexapro': {'adherence': 'NaN', 'final_dose': 0.5, 'side_effects': 'NaN', 'efficacy': 'NaN', 'total_duration': 93}}, 126555: {'Prozac': {}}, 65628: {u'Cymbalta': {'adherence': 'NaN', 'final_dose': 120.0, 'side_effects': 'NaN', 'efficacy': 'NaN', 'total_duration': 104}}, 3422: {'Prozac': {}}, 87903: {u'Lexapro': {'adherence': 'NaN', 'final_dose': 20.0, 'side_effects': 'NaN', 'efficacy': 'NaN', 'total_duration': 121}}, 48593: {'Zoloft': {'adherence': 'NaN', 'final_dose': 200.0, 'side_effects': 'NaN', 'efficacy': 'NaN', 'total_duration': 170}}, 239339: {u'Cymbalta': {'adherence': u'Always', 'final_dose': 60.0, 'side_effects': u'Moderate', 'efficacy': u'Moderate', 'total_duration': 69}}, 11766: {'Celexa': {'adherence': 'NaN', 'final_dose': 0.5, 'side_effects': 'NaN', 'efficacy': 'NaN', 'total_duration': 123}}, 100855: {'Celexa': {'adherence': 'NaN', 'final_dose': 60.0, 'side_effects': 'NaN', 'efficacy': 'NaN', 'total_duration': 167}}, 41850: {'Celexa': {'adherence': 'NaN', 'final_dose': 40.0, 'side_effects': 'NaN', 'efficacy': 'NaN', 'total_duration': 71}}}\n"
       ]
      }
     ],
     "prompt_number": 70
    },
    {
     "cell_type": "code",
     "collapsed": false,
     "input": [
      "drug_name"
     ],
     "language": "python",
     "metadata": {},
     "outputs": [
      {
       "ename": "NameError",
       "evalue": "name 'drug_name' is not defined",
       "output_type": "pyerr",
       "traceback": [
        "\u001b[0;31m---------------------------------------------------------------------------\u001b[0m\n\u001b[0;31mNameError\u001b[0m                                 Traceback (most recent call last)",
        "\u001b[0;32m<ipython-input-53-558bc609603f>\u001b[0m in \u001b[0;36m<module>\u001b[0;34m()\u001b[0m\n\u001b[0;32m----> 1\u001b[0;31m \u001b[0mdrug_name\u001b[0m\u001b[0;34m\u001b[0m\u001b[0m\n\u001b[0m",
        "\u001b[0;31mNameError\u001b[0m: name 'drug_name' is not defined"
       ]
      }
     ],
     "prompt_number": 53
    },
    {
     "cell_type": "code",
     "collapsed": false,
     "input": [
      "data"
     ],
     "language": "python",
     "metadata": {},
     "outputs": [
      {
       "metadata": {},
       "output_type": "pyout",
       "prompt_number": 72,
       "text": [
        "{2906: {u'Lexapro': {'adherence': 'NaN',\n",
        "   'efficacy': 'NaN',\n",
        "   'final_dose': 0.5,\n",
        "   'side_effects': 'NaN',\n",
        "   'total_duration': 93}},\n",
        " 3422: {'Prozac': {}},\n",
        " 4164: {'Prozac': {'adherence': u'Always',\n",
        "   'efficacy': u'Moderate',\n",
        "   'final_dose': 20.0,\n",
        "   'side_effects': u'None',\n",
        "   'total_duration': 61}},\n",
        " 11766: {'Celexa': {'adherence': 'NaN',\n",
        "   'efficacy': 'NaN',\n",
        "   'final_dose': 0.5,\n",
        "   'side_effects': 'NaN',\n",
        "   'total_duration': 123}},\n",
        " 24355: {u'Cymbalta': {'adherence': u'Always',\n",
        "   'efficacy': u'Moderate',\n",
        "   'final_dose': 120.0,\n",
        "   'side_effects': u'Mild',\n",
        "   'total_duration': 85}},\n",
        " 41850: {'Celexa': {'adherence': 'NaN',\n",
        "   'efficacy': 'NaN',\n",
        "   'final_dose': 40.0,\n",
        "   'side_effects': 'NaN',\n",
        "   'total_duration': 71}},\n",
        " 48593: {'Zoloft': {'adherence': 'NaN',\n",
        "   'efficacy': 'NaN',\n",
        "   'final_dose': 200.0,\n",
        "   'side_effects': 'NaN',\n",
        "   'total_duration': 170}},\n",
        " 51884: {u'Cymbalta': {'adherence': 'NaN',\n",
        "   'efficacy': 'NaN',\n",
        "   'final_dose': 120.0,\n",
        "   'side_effects': 'NaN',\n",
        "   'total_duration': 75}},\n",
        " 54051: {'Prozac': {'adherence': u'Always',\n",
        "   'efficacy': u'Major',\n",
        "   'final_dose': 30.0,\n",
        "   'side_effects': u'None',\n",
        "   'total_duration': 247}},\n",
        " 65628: {u'Cymbalta': {'adherence': 'NaN',\n",
        "   'efficacy': 'NaN',\n",
        "   'final_dose': 120.0,\n",
        "   'side_effects': 'NaN',\n",
        "   'total_duration': 104}},\n",
        " 72520: {'Zoloft': {}},\n",
        " 76088: {u'Cymbalta': {'adherence': u'Always',\n",
        "   'efficacy': u'Moderate',\n",
        "   'final_dose': 60.0,\n",
        "   'side_effects': u'None',\n",
        "   'total_duration': 155}},\n",
        " 84817: {'Celexa': {'adherence': 'NaN',\n",
        "   'efficacy': 'NaN',\n",
        "   'final_dose': 20.0,\n",
        "   'side_effects': 'NaN',\n",
        "   'total_duration': 67}},\n",
        " 87903: {u'Lexapro': {'adherence': 'NaN',\n",
        "   'efficacy': 'NaN',\n",
        "   'final_dose': 20.0,\n",
        "   'side_effects': 'NaN',\n",
        "   'total_duration': 121}},\n",
        " 97999: {'Celexa': {'adherence': u'Always',\n",
        "   'efficacy': u'Moderate',\n",
        "   'final_dose': 20.0,\n",
        "   'side_effects': u'None',\n",
        "   'total_duration': 113}},\n",
        " 100855: {'Celexa': {'adherence': 'NaN',\n",
        "   'efficacy': 'NaN',\n",
        "   'final_dose': 60.0,\n",
        "   'side_effects': 'NaN',\n",
        "   'total_duration': 167}},\n",
        " 121354: {'Zoloft': {'adherence': u'Always',\n",
        "   'efficacy': u'Can',\n",
        "   'final_dose': 75.0,\n",
        "   'side_effects': u'Mild',\n",
        "   'total_duration': 124}},\n",
        " 122687: {u'Lexapro': {'adherence': u'Always',\n",
        "   'efficacy': u'Major',\n",
        "   'final_dose': 20.0,\n",
        "   'side_effects': u'Moderate',\n",
        "   'total_duration': 5}},\n",
        " 126555: {'Prozac': {}},\n",
        " 129098: {u'Lexapro': {'adherence': 'NaN',\n",
        "   'efficacy': 'NaN',\n",
        "   'final_dose': 20.0,\n",
        "   'side_effects': 'NaN',\n",
        "   'total_duration': 42}},\n",
        " 134942: {u'Lexapro': {'adherence': 'NaN',\n",
        "   'efficacy': 'NaN',\n",
        "   'final_dose': 20.0,\n",
        "   'side_effects': 'NaN',\n",
        "   'total_duration': 33}},\n",
        " 164112: {u'Cymbalta': {'adherence': 'NaN',\n",
        "   'efficacy': 'NaN',\n",
        "   'final_dose': 90.0,\n",
        "   'side_effects': 'NaN',\n",
        "   'total_duration': 39}},\n",
        " 207438: {u'Lexapro': {'adherence': u'Always',\n",
        "   'efficacy': u'Moderate',\n",
        "   'final_dose': 30.0,\n",
        "   'side_effects': u'None',\n",
        "   'total_duration': 16}},\n",
        " 239339: {u'Cymbalta': {'adherence': u'Always',\n",
        "   'efficacy': u'Moderate',\n",
        "   'final_dose': 60.0,\n",
        "   'side_effects': u'Moderate',\n",
        "   'total_duration': 69}},\n",
        " 295316: {'Zoloft': {'adherence': u'Always',\n",
        "   'efficacy': u'Major',\n",
        "   'final_dose': 150.0,\n",
        "   'side_effects': u'None',\n",
        "   'total_duration': 84}},\n",
        " 409335: {'Celexa': {'adherence': 'NaN',\n",
        "   'efficacy': 'NaN',\n",
        "   'final_dose': 30.0,\n",
        "   'side_effects': 'NaN',\n",
        "   'total_duration': 143}}}"
       ]
      }
     ],
     "prompt_number": 72
    },
    {
     "cell_type": "code",
     "collapsed": false,
     "input": [
      "df = pd.DataFrame(data)"
     ],
     "language": "python",
     "metadata": {},
     "outputs": [],
     "prompt_number": 73
    },
    {
     "cell_type": "code",
     "collapsed": false,
     "input": [
      "df"
     ],
     "language": "python",
     "metadata": {},
     "outputs": [
      {
       "html": [
        "<div style=\"max-height:1000px;max-width:1500px;overflow:auto;\">\n",
        "<table border=\"1\" class=\"dataframe\">\n",
        "  <thead>\n",
        "    <tr style=\"text-align: right;\">\n",
        "      <th></th>\n",
        "      <th>2906</th>\n",
        "      <th>3422</th>\n",
        "      <th>4164</th>\n",
        "      <th>11766</th>\n",
        "      <th>24355</th>\n",
        "      <th>41850</th>\n",
        "      <th>48593</th>\n",
        "      <th>51884</th>\n",
        "      <th>54051</th>\n",
        "      <th>65628</th>\n",
        "      <th>72520</th>\n",
        "      <th>76088</th>\n",
        "      <th>84817</th>\n",
        "      <th>87903</th>\n",
        "      <th>97999</th>\n",
        "      <th>100855</th>\n",
        "      <th>121354</th>\n",
        "      <th>122687</th>\n",
        "      <th>126555</th>\n",
        "      <th>129098</th>\n",
        "      <th></th>\n",
        "    </tr>\n",
        "  </thead>\n",
        "  <tbody>\n",
        "    <tr>\n",
        "      <th>Celexa</th>\n",
        "      <td>                                               NaN</td>\n",
        "      <td> NaN</td>\n",
        "      <td>                                               NaN</td>\n",
        "      <td> {u'adherence': u'NaN', u'final_dose': 0.5, u's...</td>\n",
        "      <td>                                               NaN</td>\n",
        "      <td> {u'adherence': u'NaN', u'final_dose': 40.0, u'...</td>\n",
        "      <td>                                               NaN</td>\n",
        "      <td>                                               NaN</td>\n",
        "      <td>                                               NaN</td>\n",
        "      <td>                                               NaN</td>\n",
        "      <td> NaN</td>\n",
        "      <td>                                               NaN</td>\n",
        "      <td> {u'adherence': u'NaN', u'final_dose': 20.0, u'...</td>\n",
        "      <td>                                               NaN</td>\n",
        "      <td> {u'adherence': u'Always', u'final_dose': 20.0,...</td>\n",
        "      <td> {u'adherence': u'NaN', u'final_dose': 60.0, u'...</td>\n",
        "      <td>                                               NaN</td>\n",
        "      <td>                                               NaN</td>\n",
        "      <td> NaN</td>\n",
        "      <td>                                               NaN</td>\n",
        "      <td>...</td>\n",
        "    </tr>\n",
        "    <tr>\n",
        "      <th>Cymbalta</th>\n",
        "      <td>                                               NaN</td>\n",
        "      <td> NaN</td>\n",
        "      <td>                                               NaN</td>\n",
        "      <td>                                               NaN</td>\n",
        "      <td> {u'adherence': u'Always', u'final_dose': 120.0...</td>\n",
        "      <td>                                               NaN</td>\n",
        "      <td>                                               NaN</td>\n",
        "      <td> {u'adherence': u'NaN', u'final_dose': 120.0, u...</td>\n",
        "      <td>                                               NaN</td>\n",
        "      <td> {u'adherence': u'NaN', u'final_dose': 120.0, u...</td>\n",
        "      <td> NaN</td>\n",
        "      <td> {u'adherence': u'Always', u'final_dose': 60.0,...</td>\n",
        "      <td>                                               NaN</td>\n",
        "      <td>                                               NaN</td>\n",
        "      <td>                                               NaN</td>\n",
        "      <td>                                               NaN</td>\n",
        "      <td>                                               NaN</td>\n",
        "      <td>                                               NaN</td>\n",
        "      <td> NaN</td>\n",
        "      <td>                                               NaN</td>\n",
        "      <td>...</td>\n",
        "    </tr>\n",
        "    <tr>\n",
        "      <th>Lexapro</th>\n",
        "      <td> {u'adherence': u'NaN', u'final_dose': 0.5, u's...</td>\n",
        "      <td> NaN</td>\n",
        "      <td>                                               NaN</td>\n",
        "      <td>                                               NaN</td>\n",
        "      <td>                                               NaN</td>\n",
        "      <td>                                               NaN</td>\n",
        "      <td>                                               NaN</td>\n",
        "      <td>                                               NaN</td>\n",
        "      <td>                                               NaN</td>\n",
        "      <td>                                               NaN</td>\n",
        "      <td> NaN</td>\n",
        "      <td>                                               NaN</td>\n",
        "      <td>                                               NaN</td>\n",
        "      <td> {u'adherence': u'NaN', u'final_dose': 20.0, u'...</td>\n",
        "      <td>                                               NaN</td>\n",
        "      <td>                                               NaN</td>\n",
        "      <td>                                               NaN</td>\n",
        "      <td> {u'adherence': u'Always', u'final_dose': 20.0,...</td>\n",
        "      <td> NaN</td>\n",
        "      <td> {u'adherence': u'NaN', u'final_dose': 20.0, u'...</td>\n",
        "      <td>...</td>\n",
        "    </tr>\n",
        "    <tr>\n",
        "      <th>Prozac</th>\n",
        "      <td>                                               NaN</td>\n",
        "      <td>  {}</td>\n",
        "      <td> {u'adherence': u'Always', u'final_dose': 20.0,...</td>\n",
        "      <td>                                               NaN</td>\n",
        "      <td>                                               NaN</td>\n",
        "      <td>                                               NaN</td>\n",
        "      <td>                                               NaN</td>\n",
        "      <td>                                               NaN</td>\n",
        "      <td> {u'adherence': u'Always', u'final_dose': 30.0,...</td>\n",
        "      <td>                                               NaN</td>\n",
        "      <td> NaN</td>\n",
        "      <td>                                               NaN</td>\n",
        "      <td>                                               NaN</td>\n",
        "      <td>                                               NaN</td>\n",
        "      <td>                                               NaN</td>\n",
        "      <td>                                               NaN</td>\n",
        "      <td>                                               NaN</td>\n",
        "      <td>                                               NaN</td>\n",
        "      <td>  {}</td>\n",
        "      <td>                                               NaN</td>\n",
        "      <td>...</td>\n",
        "    </tr>\n",
        "    <tr>\n",
        "      <th>Zoloft</th>\n",
        "      <td>                                               NaN</td>\n",
        "      <td> NaN</td>\n",
        "      <td>                                               NaN</td>\n",
        "      <td>                                               NaN</td>\n",
        "      <td>                                               NaN</td>\n",
        "      <td>                                               NaN</td>\n",
        "      <td> {u'adherence': u'NaN', u'final_dose': 200.0, u...</td>\n",
        "      <td>                                               NaN</td>\n",
        "      <td>                                               NaN</td>\n",
        "      <td>                                               NaN</td>\n",
        "      <td>  {}</td>\n",
        "      <td>                                               NaN</td>\n",
        "      <td>                                               NaN</td>\n",
        "      <td>                                               NaN</td>\n",
        "      <td>                                               NaN</td>\n",
        "      <td>                                               NaN</td>\n",
        "      <td> {u'adherence': u'Always', u'final_dose': 75.0,...</td>\n",
        "      <td>                                               NaN</td>\n",
        "      <td> NaN</td>\n",
        "      <td>                                               NaN</td>\n",
        "      <td>...</td>\n",
        "    </tr>\n",
        "  </tbody>\n",
        "</table>\n",
        "<p>5 rows \u00d7 26 columns</p>\n",
        "</div>"
       ],
       "metadata": {},
       "output_type": "pyout",
       "prompt_number": 74,
       "text": [
        "                                                     2906   3422    \\\n",
        "Celexa                                                  NaN    NaN   \n",
        "Cymbalta                                                NaN    NaN   \n",
        "Lexapro   {u'adherence': u'NaN', u'final_dose': 0.5, u's...    NaN   \n",
        "Prozac                                                  NaN     {}   \n",
        "Zoloft                                                  NaN    NaN   \n",
        "\n",
        "                                                     4164    \\\n",
        "Celexa                                                  NaN   \n",
        "Cymbalta                                                NaN   \n",
        "Lexapro                                                 NaN   \n",
        "Prozac    {u'adherence': u'Always', u'final_dose': 20.0,...   \n",
        "Zoloft                                                  NaN   \n",
        "\n",
        "                                                     11766   \\\n",
        "Celexa    {u'adherence': u'NaN', u'final_dose': 0.5, u's...   \n",
        "Cymbalta                                                NaN   \n",
        "Lexapro                                                 NaN   \n",
        "Prozac                                                  NaN   \n",
        "Zoloft                                                  NaN   \n",
        "\n",
        "                                                     24355   \\\n",
        "Celexa                                                  NaN   \n",
        "Cymbalta  {u'adherence': u'Always', u'final_dose': 120.0...   \n",
        "Lexapro                                                 NaN   \n",
        "Prozac                                                  NaN   \n",
        "Zoloft                                                  NaN   \n",
        "\n",
        "                                                     41850   \\\n",
        "Celexa    {u'adherence': u'NaN', u'final_dose': 40.0, u'...   \n",
        "Cymbalta                                                NaN   \n",
        "Lexapro                                                 NaN   \n",
        "Prozac                                                  NaN   \n",
        "Zoloft                                                  NaN   \n",
        "\n",
        "                                                     48593   \\\n",
        "Celexa                                                  NaN   \n",
        "Cymbalta                                                NaN   \n",
        "Lexapro                                                 NaN   \n",
        "Prozac                                                  NaN   \n",
        "Zoloft    {u'adherence': u'NaN', u'final_dose': 200.0, u...   \n",
        "\n",
        "                                                     51884   \\\n",
        "Celexa                                                  NaN   \n",
        "Cymbalta  {u'adherence': u'NaN', u'final_dose': 120.0, u...   \n",
        "Lexapro                                                 NaN   \n",
        "Prozac                                                  NaN   \n",
        "Zoloft                                                  NaN   \n",
        "\n",
        "                                                     54051   \\\n",
        "Celexa                                                  NaN   \n",
        "Cymbalta                                                NaN   \n",
        "Lexapro                                                 NaN   \n",
        "Prozac    {u'adherence': u'Always', u'final_dose': 30.0,...   \n",
        "Zoloft                                                  NaN   \n",
        "\n",
        "                                                     65628  72520   \\\n",
        "Celexa                                                  NaN    NaN   \n",
        "Cymbalta  {u'adherence': u'NaN', u'final_dose': 120.0, u...    NaN   \n",
        "Lexapro                                                 NaN    NaN   \n",
        "Prozac                                                  NaN    NaN   \n",
        "Zoloft                                                  NaN     {}   \n",
        "\n",
        "                                                     76088   \\\n",
        "Celexa                                                  NaN   \n",
        "Cymbalta  {u'adherence': u'Always', u'final_dose': 60.0,...   \n",
        "Lexapro                                                 NaN   \n",
        "Prozac                                                  NaN   \n",
        "Zoloft                                                  NaN   \n",
        "\n",
        "                                                     84817   \\\n",
        "Celexa    {u'adherence': u'NaN', u'final_dose': 20.0, u'...   \n",
        "Cymbalta                                                NaN   \n",
        "Lexapro                                                 NaN   \n",
        "Prozac                                                  NaN   \n",
        "Zoloft                                                  NaN   \n",
        "\n",
        "                                                     87903   \\\n",
        "Celexa                                                  NaN   \n",
        "Cymbalta                                                NaN   \n",
        "Lexapro   {u'adherence': u'NaN', u'final_dose': 20.0, u'...   \n",
        "Prozac                                                  NaN   \n",
        "Zoloft                                                  NaN   \n",
        "\n",
        "                                                     97999   \\\n",
        "Celexa    {u'adherence': u'Always', u'final_dose': 20.0,...   \n",
        "Cymbalta                                                NaN   \n",
        "Lexapro                                                 NaN   \n",
        "Prozac                                                  NaN   \n",
        "Zoloft                                                  NaN   \n",
        "\n",
        "                                                     100855  \\\n",
        "Celexa    {u'adherence': u'NaN', u'final_dose': 60.0, u'...   \n",
        "Cymbalta                                                NaN   \n",
        "Lexapro                                                 NaN   \n",
        "Prozac                                                  NaN   \n",
        "Zoloft                                                  NaN   \n",
        "\n",
        "                                                     121354  \\\n",
        "Celexa                                                  NaN   \n",
        "Cymbalta                                                NaN   \n",
        "Lexapro                                                 NaN   \n",
        "Prozac                                                  NaN   \n",
        "Zoloft    {u'adherence': u'Always', u'final_dose': 75.0,...   \n",
        "\n",
        "                                                     122687 126555  \\\n",
        "Celexa                                                  NaN    NaN   \n",
        "Cymbalta                                                NaN    NaN   \n",
        "Lexapro   {u'adherence': u'Always', u'final_dose': 20.0,...    NaN   \n",
        "Prozac                                                  NaN     {}   \n",
        "Zoloft                                                  NaN    NaN   \n",
        "\n",
        "                                                     129098      \n",
        "Celexa                                                  NaN ...  \n",
        "Cymbalta                                                NaN ...  \n",
        "Lexapro   {u'adherence': u'NaN', u'final_dose': 20.0, u'... ...  \n",
        "Prozac                                                  NaN ...  \n",
        "Zoloft                                                  NaN ...  \n",
        "\n",
        "[5 rows x 26 columns]"
       ]
      }
     ],
     "prompt_number": 74
    },
    {
     "cell_type": "code",
     "collapsed": false,
     "input": [
      "for x in df[18561]:\n",
      "    print x"
     ],
     "language": "python",
     "metadata": {},
     "outputs": [
      {
       "output_type": "stream",
       "stream": "stdout",
       "text": [
        "nan\n",
        "nan\n",
        "{'adherence': u'Always', 'final_dose': 2.0, 'side_effects': u'None', 'efficacy': u'Moderate', 'total_duration': 107}\n",
        "nan\n"
       ]
      }
     ],
     "prompt_number": 418
    },
    {
     "cell_type": "code",
     "collapsed": false,
     "input": [
      "for drug in brand_to_generic_Dict:\n",
      "    try:\n",
      "        print df[drug]\n",
      "    except:\n",
      "        None"
     ],
     "language": "python",
     "metadata": {},
     "outputs": [
      {
       "output_type": "stream",
       "stream": "stdout",
       "text": [
        "18561                                                   NaN\n",
        "74466                                                   NaN\n",
        "79549                                                   NaN\n",
        "94102     {u'adherence': u'Always', u'final_dose': 40.0,...\n",
        "121354                                                  NaN\n",
        "173692    {u'adherence': u'NaN', u'final_dose': 10.0, u'...\n",
        "295316                                                  NaN\n",
        "317733                                                  NaN\n",
        "323164                                                  NaN\n",
        "326554                                                  NaN\n",
        "336671                                                  NaN\n",
        "343263                                                  NaN\n",
        "364874                                                   {}\n",
        "421138                                                  NaN\n",
        "421326                                                  NaN\n",
        "Name: Celexa, dtype: object\n",
        "18561                                                   NaN\n",
        "74466                                                   NaN\n",
        "79549                                                   NaN\n",
        "94102                                                   NaN\n",
        "121354                                                  NaN\n",
        "173692                                                  NaN\n",
        "295316                                                  NaN\n",
        "317733    {u'adherence': u'Always', u'final_dose': 30.0,...\n",
        "323164    {u'adherence': u'NaN', u'final_dose': 120.0, u...\n",
        "326554    {u'adherence': u'Usually', u'final_dose': 120....\n",
        "336671                                                  NaN\n",
        "343263                                                  NaN\n",
        "364874                                                  NaN\n",
        "421138                                                  NaN\n",
        "421326    {u'adherence': u'NaN', u'final_dose': 60.0, u'...\n",
        "Name: Cymbalta, dtype: object\n",
        "18561                                                   NaN\n",
        "74466                                                   NaN\n",
        "79549     {u'adherence': u'Always', u'final_dose': 150.0...\n",
        "94102                                                   NaN\n",
        "121354    {u'adherence': u'Always', u'final_dose': 75.0,...\n",
        "173692                                                  NaN\n",
        "295316    {u'adherence': u'Always', u'final_dose': 150.0...\n",
        "317733                                                  NaN\n",
        "323164                                                  NaN\n",
        "326554                                                  NaN\n",
        "336671    {u'adherence': u'Always', u'final_dose': 100.0...\n",
        "343263                                                  NaN\n",
        "364874                                                  NaN\n",
        "421138                                                  NaN\n",
        "421326                                                  NaN\n",
        "Name: Zoloft, dtype: object\n",
        "18561     {u'adherence': u'Always', u'final_dose': 2.0, ...\n",
        "74466     {u'adherence': u'Always', u'final_dose': 20.0,...\n",
        "79549                                                   NaN\n",
        "94102                                                   NaN\n",
        "121354                                                  NaN\n",
        "173692                                                  NaN\n",
        "295316                                                  NaN\n",
        "317733                                                  NaN\n",
        "323164                                                  NaN\n",
        "326554                                                  NaN\n",
        "336671                                                  NaN\n",
        "343263    {u'adherence': u'Always', u'final_dose': 10.0,...\n",
        "364874                                                  NaN\n",
        "421138    {u'adherence': u'NaN', u'final_dose': 12.5, u'...\n",
        "421326                                                  NaN\n",
        "Name: Lexapro, dtype: object\n"
       ]
      }
     ],
     "prompt_number": 408
    },
    {
     "cell_type": "code",
     "collapsed": false,
     "input": [
      "AAPs = ['Olanzapine', 'Zyprexa', 'Risperdal', 'Risperidone', 'Quetiapine', 'Lurasidone']"
     ],
     "language": "python",
     "metadata": {},
     "outputs": [],
     "prompt_number": 163
    },
    {
     "cell_type": "code",
     "collapsed": false,
     "input": [
      "EC.presence_of_element_located((By.XPATH,'//*[@id=\"evaluation-group\"]/div/div[1]/div/div[1]/ul/li[1]/text()'))"
     ],
     "language": "python",
     "metadata": {},
     "outputs": [
      {
       "metadata": {},
       "output_type": "pyout",
       "prompt_number": 110,
       "text": [
        "<selenium.webdriver.support.expected_conditions.presence_of_element_located at 0x106d51650>"
       ]
      }
     ],
     "prompt_number": 110
    }
   ],
   "metadata": {}
  }
 ]
}